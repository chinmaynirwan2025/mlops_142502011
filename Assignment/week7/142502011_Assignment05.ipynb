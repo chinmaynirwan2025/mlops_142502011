{
  "nbformat": 4,
  "nbformat_minor": 0,
  "metadata": {
    "colab": {
      "provenance": []
    },
    "kernelspec": {
      "name": "python3",
      "display_name": "Python 3"
    },
    "language_info": {
      "name": "python"
    }
  },
  "cells": [
    {
      "cell_type": "code",
      "source": [
        "pip install datasets wandb tqdm"
      ],
      "metadata": {
        "colab": {
          "base_uri": "https://localhost:8080/"
        },
        "id": "BXM0MoiIpSQl",
        "outputId": "bb057381-1307-476e-b9a2-07e19ad43a87"
      },
      "execution_count": 1,
      "outputs": [
        {
          "output_type": "stream",
          "name": "stdout",
          "text": [
            "Requirement already satisfied: datasets in /usr/local/lib/python3.12/dist-packages (4.0.0)\n",
            "Requirement already satisfied: wandb in /usr/local/lib/python3.12/dist-packages (0.22.2)\n",
            "Requirement already satisfied: tqdm in /usr/local/lib/python3.12/dist-packages (4.67.1)\n",
            "Requirement already satisfied: filelock in /usr/local/lib/python3.12/dist-packages (from datasets) (3.20.0)\n",
            "Requirement already satisfied: numpy>=1.17 in /usr/local/lib/python3.12/dist-packages (from datasets) (2.0.2)\n",
            "Requirement already satisfied: pyarrow>=15.0.0 in /usr/local/lib/python3.12/dist-packages (from datasets) (18.1.0)\n",
            "Requirement already satisfied: dill<0.3.9,>=0.3.0 in /usr/local/lib/python3.12/dist-packages (from datasets) (0.3.8)\n",
            "Requirement already satisfied: pandas in /usr/local/lib/python3.12/dist-packages (from datasets) (2.2.2)\n",
            "Requirement already satisfied: requests>=2.32.2 in /usr/local/lib/python3.12/dist-packages (from datasets) (2.32.4)\n",
            "Requirement already satisfied: xxhash in /usr/local/lib/python3.12/dist-packages (from datasets) (3.6.0)\n",
            "Requirement already satisfied: multiprocess<0.70.17 in /usr/local/lib/python3.12/dist-packages (from datasets) (0.70.16)\n",
            "Requirement already satisfied: fsspec<=2025.3.0,>=2023.1.0 in /usr/local/lib/python3.12/dist-packages (from fsspec[http]<=2025.3.0,>=2023.1.0->datasets) (2025.3.0)\n",
            "Requirement already satisfied: huggingface-hub>=0.24.0 in /usr/local/lib/python3.12/dist-packages (from datasets) (0.35.3)\n",
            "Requirement already satisfied: packaging in /usr/local/lib/python3.12/dist-packages (from datasets) (25.0)\n",
            "Requirement already satisfied: pyyaml>=5.1 in /usr/local/lib/python3.12/dist-packages (from datasets) (6.0.3)\n",
            "Requirement already satisfied: click>=8.0.1 in /usr/local/lib/python3.12/dist-packages (from wandb) (8.3.0)\n",
            "Requirement already satisfied: gitpython!=3.1.29,>=1.0.0 in /usr/local/lib/python3.12/dist-packages (from wandb) (3.1.45)\n",
            "Requirement already satisfied: platformdirs in /usr/local/lib/python3.12/dist-packages (from wandb) (4.5.0)\n",
            "Requirement already satisfied: protobuf!=4.21.0,!=5.28.0,<7,>=3.19.0 in /usr/local/lib/python3.12/dist-packages (from wandb) (5.29.5)\n",
            "Requirement already satisfied: pydantic<3 in /usr/local/lib/python3.12/dist-packages (from wandb) (2.11.10)\n",
            "Requirement already satisfied: sentry-sdk>=2.0.0 in /usr/local/lib/python3.12/dist-packages (from wandb) (2.40.0)\n",
            "Requirement already satisfied: typing-extensions<5,>=4.8 in /usr/local/lib/python3.12/dist-packages (from wandb) (4.15.0)\n",
            "Requirement already satisfied: aiohttp!=4.0.0a0,!=4.0.0a1 in /usr/local/lib/python3.12/dist-packages (from fsspec[http]<=2025.3.0,>=2023.1.0->datasets) (3.13.0)\n",
            "Requirement already satisfied: gitdb<5,>=4.0.1 in /usr/local/lib/python3.12/dist-packages (from gitpython!=3.1.29,>=1.0.0->wandb) (4.0.12)\n",
            "Requirement already satisfied: hf-xet<2.0.0,>=1.1.3 in /usr/local/lib/python3.12/dist-packages (from huggingface-hub>=0.24.0->datasets) (1.1.10)\n",
            "Requirement already satisfied: annotated-types>=0.6.0 in /usr/local/lib/python3.12/dist-packages (from pydantic<3->wandb) (0.7.0)\n",
            "Requirement already satisfied: pydantic-core==2.33.2 in /usr/local/lib/python3.12/dist-packages (from pydantic<3->wandb) (2.33.2)\n",
            "Requirement already satisfied: typing-inspection>=0.4.0 in /usr/local/lib/python3.12/dist-packages (from pydantic<3->wandb) (0.4.2)\n",
            "Requirement already satisfied: charset_normalizer<4,>=2 in /usr/local/lib/python3.12/dist-packages (from requests>=2.32.2->datasets) (3.4.3)\n",
            "Requirement already satisfied: idna<4,>=2.5 in /usr/local/lib/python3.12/dist-packages (from requests>=2.32.2->datasets) (3.10)\n",
            "Requirement already satisfied: urllib3<3,>=1.21.1 in /usr/local/lib/python3.12/dist-packages (from requests>=2.32.2->datasets) (2.5.0)\n",
            "Requirement already satisfied: certifi>=2017.4.17 in /usr/local/lib/python3.12/dist-packages (from requests>=2.32.2->datasets) (2025.10.5)\n",
            "Requirement already satisfied: python-dateutil>=2.8.2 in /usr/local/lib/python3.12/dist-packages (from pandas->datasets) (2.9.0.post0)\n",
            "Requirement already satisfied: pytz>=2020.1 in /usr/local/lib/python3.12/dist-packages (from pandas->datasets) (2025.2)\n",
            "Requirement already satisfied: tzdata>=2022.7 in /usr/local/lib/python3.12/dist-packages (from pandas->datasets) (2025.2)\n",
            "Requirement already satisfied: aiohappyeyeballs>=2.5.0 in /usr/local/lib/python3.12/dist-packages (from aiohttp!=4.0.0a0,!=4.0.0a1->fsspec[http]<=2025.3.0,>=2023.1.0->datasets) (2.6.1)\n",
            "Requirement already satisfied: aiosignal>=1.4.0 in /usr/local/lib/python3.12/dist-packages (from aiohttp!=4.0.0a0,!=4.0.0a1->fsspec[http]<=2025.3.0,>=2023.1.0->datasets) (1.4.0)\n",
            "Requirement already satisfied: attrs>=17.3.0 in /usr/local/lib/python3.12/dist-packages (from aiohttp!=4.0.0a0,!=4.0.0a1->fsspec[http]<=2025.3.0,>=2023.1.0->datasets) (25.4.0)\n",
            "Requirement already satisfied: frozenlist>=1.1.1 in /usr/local/lib/python3.12/dist-packages (from aiohttp!=4.0.0a0,!=4.0.0a1->fsspec[http]<=2025.3.0,>=2023.1.0->datasets) (1.8.0)\n",
            "Requirement already satisfied: multidict<7.0,>=4.5 in /usr/local/lib/python3.12/dist-packages (from aiohttp!=4.0.0a0,!=4.0.0a1->fsspec[http]<=2025.3.0,>=2023.1.0->datasets) (6.7.0)\n",
            "Requirement already satisfied: propcache>=0.2.0 in /usr/local/lib/python3.12/dist-packages (from aiohttp!=4.0.0a0,!=4.0.0a1->fsspec[http]<=2025.3.0,>=2023.1.0->datasets) (0.3.2)\n",
            "Requirement already satisfied: yarl<2.0,>=1.17.0 in /usr/local/lib/python3.12/dist-packages (from aiohttp!=4.0.0a0,!=4.0.0a1->fsspec[http]<=2025.3.0,>=2023.1.0->datasets) (1.22.0)\n",
            "Requirement already satisfied: smmap<6,>=3.0.1 in /usr/local/lib/python3.12/dist-packages (from gitdb<5,>=4.0.1->gitpython!=3.1.29,>=1.0.0->wandb) (5.0.2)\n",
            "Requirement already satisfied: six>=1.5 in /usr/local/lib/python3.12/dist-packages (from python-dateutil>=2.8.2->pandas->datasets) (1.17.0)\n"
          ]
        }
      ]
    },
    {
      "cell_type": "code",
      "source": [
        "import wandb\n",
        "wandb.init(project='\"Q1-weak-supervision-ner', name='Dataset summary')"
      ],
      "metadata": {
        "colab": {
          "base_uri": "https://localhost:8080/",
          "height": 314
        },
        "id": "lad4fNlSpKdX",
        "outputId": "9b2eeaad-289c-4c2c-e140-e40ea91c4c33"
      },
      "execution_count": 2,
      "outputs": [
        {
          "output_type": "stream",
          "name": "stderr",
          "text": [
            "/usr/local/lib/python3.12/dist-packages/notebook/notebookapp.py:191: SyntaxWarning: invalid escape sequence '\\/'\n",
            "  | |_| | '_ \\/ _` / _` |  _/ -_)\n"
          ]
        },
        {
          "output_type": "display_data",
          "data": {
            "text/plain": [
              "<IPython.core.display.Javascript object>"
            ],
            "application/javascript": [
              "\n",
              "        window._wandbApiKey = new Promise((resolve, reject) => {\n",
              "            function loadScript(url) {\n",
              "            return new Promise(function(resolve, reject) {\n",
              "                let newScript = document.createElement(\"script\");\n",
              "                newScript.onerror = reject;\n",
              "                newScript.onload = resolve;\n",
              "                document.body.appendChild(newScript);\n",
              "                newScript.src = url;\n",
              "            });\n",
              "            }\n",
              "            loadScript(\"https://cdn.jsdelivr.net/npm/postmate/build/postmate.min.js\").then(() => {\n",
              "            const iframe = document.createElement('iframe')\n",
              "            iframe.style.cssText = \"width:0;height:0;border:none\"\n",
              "            document.body.appendChild(iframe)\n",
              "            const handshake = new Postmate({\n",
              "                container: iframe,\n",
              "                url: 'https://wandb.ai/authorize'\n",
              "            });\n",
              "            const timeout = setTimeout(() => reject(\"Couldn't auto authenticate\"), 5000)\n",
              "            handshake.then(function(child) {\n",
              "                child.on('authorize', data => {\n",
              "                    clearTimeout(timeout)\n",
              "                    resolve(data)\n",
              "                });\n",
              "            });\n",
              "            })\n",
              "        });\n",
              "    "
            ]
          },
          "metadata": {}
        },
        {
          "output_type": "stream",
          "name": "stderr",
          "text": [
            "\u001b[34m\u001b[1mwandb\u001b[0m: Logging into wandb.ai. (Learn how to deploy a W&B server locally: https://wandb.me/wandb-server)\n",
            "\u001b[34m\u001b[1mwandb\u001b[0m: You can find your API key in your browser here: https://wandb.ai/authorize?ref=models\n",
            "wandb: Paste an API key from your profile and hit enter:"
          ]
        },
        {
          "name": "stdout",
          "output_type": "stream",
          "text": [
            " ··········\n"
          ]
        },
        {
          "output_type": "stream",
          "name": "stderr",
          "text": [
            "\u001b[34m\u001b[1mwandb\u001b[0m: \u001b[33mWARNING\u001b[0m If you're specifying your api key in code, ensure this code is not shared publicly.\n",
            "\u001b[34m\u001b[1mwandb\u001b[0m: \u001b[33mWARNING\u001b[0m Consider setting the WANDB_API_KEY environment variable, or running `wandb login` from the command line.\n",
            "\u001b[34m\u001b[1mwandb\u001b[0m: No netrc file found, creating one.\n",
            "\u001b[34m\u001b[1mwandb\u001b[0m: Appending key for api.wandb.ai to your netrc file: /root/.netrc\n",
            "\u001b[34m\u001b[1mwandb\u001b[0m: Currently logged in as: \u001b[33m142502011\u001b[0m (\u001b[33m142502011-indian-institute-of-technology-palakkad\u001b[0m) to \u001b[32mhttps://api.wandb.ai\u001b[0m. Use \u001b[1m`wandb login --relogin`\u001b[0m to force relogin\n"
          ]
        },
        {
          "output_type": "display_data",
          "data": {
            "text/plain": [
              "<IPython.core.display.HTML object>"
            ],
            "text/html": []
          },
          "metadata": {}
        },
        {
          "output_type": "display_data",
          "data": {
            "text/plain": [
              "<IPython.core.display.HTML object>"
            ],
            "text/html": [
              "Tracking run with wandb version 0.22.2"
            ]
          },
          "metadata": {}
        },
        {
          "output_type": "display_data",
          "data": {
            "text/plain": [
              "<IPython.core.display.HTML object>"
            ],
            "text/html": [
              "Run data is saved locally in <code>/content/wandb/run-20251013_141143-50j1q87k</code>"
            ]
          },
          "metadata": {}
        },
        {
          "output_type": "display_data",
          "data": {
            "text/plain": [
              "<IPython.core.display.HTML object>"
            ],
            "text/html": [
              "Syncing run <strong><a href='https://wandb.ai/142502011-indian-institute-of-technology-palakkad/%22Q1-weak-supervision-ner/runs/50j1q87k' target=\"_blank\">Dataset summary</a></strong> to <a href='https://wandb.ai/142502011-indian-institute-of-technology-palakkad/%22Q1-weak-supervision-ner' target=\"_blank\">Weights & Biases</a> (<a href='https://wandb.me/developer-guide' target=\"_blank\">docs</a>)<br>"
            ]
          },
          "metadata": {}
        },
        {
          "output_type": "display_data",
          "data": {
            "text/plain": [
              "<IPython.core.display.HTML object>"
            ],
            "text/html": [
              " View project at <a href='https://wandb.ai/142502011-indian-institute-of-technology-palakkad/%22Q1-weak-supervision-ner' target=\"_blank\">https://wandb.ai/142502011-indian-institute-of-technology-palakkad/%22Q1-weak-supervision-ner</a>"
            ]
          },
          "metadata": {}
        },
        {
          "output_type": "display_data",
          "data": {
            "text/plain": [
              "<IPython.core.display.HTML object>"
            ],
            "text/html": [
              " View run at <a href='https://wandb.ai/142502011-indian-institute-of-technology-palakkad/%22Q1-weak-supervision-ner/runs/50j1q87k' target=\"_blank\">https://wandb.ai/142502011-indian-institute-of-technology-palakkad/%22Q1-weak-supervision-ner/runs/50j1q87k</a>"
            ]
          },
          "metadata": {}
        },
        {
          "output_type": "execute_result",
          "data": {
            "text/html": [
              "<button onClick=\"this.nextSibling.style.display='block';this.style.display='none';\">Display W&B run</button><iframe src='https://wandb.ai/142502011-indian-institute-of-technology-palakkad/%22Q1-weak-supervision-ner/runs/50j1q87k?jupyter=true' style='border:none;width:100%;height:420px;display:none;'></iframe>"
            ],
            "text/plain": [
              "<wandb.sdk.wandb_run.Run at 0x7edb19daf2f0>"
            ]
          },
          "metadata": {},
          "execution_count": 2
        }
      ]
    },
    {
      "cell_type": "code",
      "source": [
        "!pip install datasets"
      ],
      "metadata": {
        "colab": {
          "base_uri": "https://localhost:8080/"
        },
        "id": "ccmGrLfUvuJ9",
        "outputId": "f4a87597-64b2-475c-f93c-f5f654c6292c"
      },
      "execution_count": 3,
      "outputs": [
        {
          "output_type": "stream",
          "name": "stdout",
          "text": [
            "Requirement already satisfied: datasets in /usr/local/lib/python3.12/dist-packages (4.0.0)\n",
            "Requirement already satisfied: filelock in /usr/local/lib/python3.12/dist-packages (from datasets) (3.20.0)\n",
            "Requirement already satisfied: numpy>=1.17 in /usr/local/lib/python3.12/dist-packages (from datasets) (2.0.2)\n",
            "Requirement already satisfied: pyarrow>=15.0.0 in /usr/local/lib/python3.12/dist-packages (from datasets) (18.1.0)\n",
            "Requirement already satisfied: dill<0.3.9,>=0.3.0 in /usr/local/lib/python3.12/dist-packages (from datasets) (0.3.8)\n",
            "Requirement already satisfied: pandas in /usr/local/lib/python3.12/dist-packages (from datasets) (2.2.2)\n",
            "Requirement already satisfied: requests>=2.32.2 in /usr/local/lib/python3.12/dist-packages (from datasets) (2.32.4)\n",
            "Requirement already satisfied: tqdm>=4.66.3 in /usr/local/lib/python3.12/dist-packages (from datasets) (4.67.1)\n",
            "Requirement already satisfied: xxhash in /usr/local/lib/python3.12/dist-packages (from datasets) (3.6.0)\n",
            "Requirement already satisfied: multiprocess<0.70.17 in /usr/local/lib/python3.12/dist-packages (from datasets) (0.70.16)\n",
            "Requirement already satisfied: fsspec<=2025.3.0,>=2023.1.0 in /usr/local/lib/python3.12/dist-packages (from fsspec[http]<=2025.3.0,>=2023.1.0->datasets) (2025.3.0)\n",
            "Requirement already satisfied: huggingface-hub>=0.24.0 in /usr/local/lib/python3.12/dist-packages (from datasets) (0.35.3)\n",
            "Requirement already satisfied: packaging in /usr/local/lib/python3.12/dist-packages (from datasets) (25.0)\n",
            "Requirement already satisfied: pyyaml>=5.1 in /usr/local/lib/python3.12/dist-packages (from datasets) (6.0.3)\n",
            "Requirement already satisfied: aiohttp!=4.0.0a0,!=4.0.0a1 in /usr/local/lib/python3.12/dist-packages (from fsspec[http]<=2025.3.0,>=2023.1.0->datasets) (3.13.0)\n",
            "Requirement already satisfied: typing-extensions>=3.7.4.3 in /usr/local/lib/python3.12/dist-packages (from huggingface-hub>=0.24.0->datasets) (4.15.0)\n",
            "Requirement already satisfied: hf-xet<2.0.0,>=1.1.3 in /usr/local/lib/python3.12/dist-packages (from huggingface-hub>=0.24.0->datasets) (1.1.10)\n",
            "Requirement already satisfied: charset_normalizer<4,>=2 in /usr/local/lib/python3.12/dist-packages (from requests>=2.32.2->datasets) (3.4.3)\n",
            "Requirement already satisfied: idna<4,>=2.5 in /usr/local/lib/python3.12/dist-packages (from requests>=2.32.2->datasets) (3.10)\n",
            "Requirement already satisfied: urllib3<3,>=1.21.1 in /usr/local/lib/python3.12/dist-packages (from requests>=2.32.2->datasets) (2.5.0)\n",
            "Requirement already satisfied: certifi>=2017.4.17 in /usr/local/lib/python3.12/dist-packages (from requests>=2.32.2->datasets) (2025.10.5)\n",
            "Requirement already satisfied: python-dateutil>=2.8.2 in /usr/local/lib/python3.12/dist-packages (from pandas->datasets) (2.9.0.post0)\n",
            "Requirement already satisfied: pytz>=2020.1 in /usr/local/lib/python3.12/dist-packages (from pandas->datasets) (2025.2)\n",
            "Requirement already satisfied: tzdata>=2022.7 in /usr/local/lib/python3.12/dist-packages (from pandas->datasets) (2025.2)\n",
            "Requirement already satisfied: aiohappyeyeballs>=2.5.0 in /usr/local/lib/python3.12/dist-packages (from aiohttp!=4.0.0a0,!=4.0.0a1->fsspec[http]<=2025.3.0,>=2023.1.0->datasets) (2.6.1)\n",
            "Requirement already satisfied: aiosignal>=1.4.0 in /usr/local/lib/python3.12/dist-packages (from aiohttp!=4.0.0a0,!=4.0.0a1->fsspec[http]<=2025.3.0,>=2023.1.0->datasets) (1.4.0)\n",
            "Requirement already satisfied: attrs>=17.3.0 in /usr/local/lib/python3.12/dist-packages (from aiohttp!=4.0.0a0,!=4.0.0a1->fsspec[http]<=2025.3.0,>=2023.1.0->datasets) (25.4.0)\n",
            "Requirement already satisfied: frozenlist>=1.1.1 in /usr/local/lib/python3.12/dist-packages (from aiohttp!=4.0.0a0,!=4.0.0a1->fsspec[http]<=2025.3.0,>=2023.1.0->datasets) (1.8.0)\n",
            "Requirement already satisfied: multidict<7.0,>=4.5 in /usr/local/lib/python3.12/dist-packages (from aiohttp!=4.0.0a0,!=4.0.0a1->fsspec[http]<=2025.3.0,>=2023.1.0->datasets) (6.7.0)\n",
            "Requirement already satisfied: propcache>=0.2.0 in /usr/local/lib/python3.12/dist-packages (from aiohttp!=4.0.0a0,!=4.0.0a1->fsspec[http]<=2025.3.0,>=2023.1.0->datasets) (0.3.2)\n",
            "Requirement already satisfied: yarl<2.0,>=1.17.0 in /usr/local/lib/python3.12/dist-packages (from aiohttp!=4.0.0a0,!=4.0.0a1->fsspec[http]<=2025.3.0,>=2023.1.0->datasets) (1.22.0)\n",
            "Requirement already satisfied: six>=1.5 in /usr/local/lib/python3.12/dist-packages (from python-dateutil>=2.8.2->pandas->datasets) (1.17.0)\n"
          ]
        }
      ]
    },
    {
      "cell_type": "code",
      "source": [
        "! git lfs install"
      ],
      "metadata": {
        "colab": {
          "base_uri": "https://localhost:8080/"
        },
        "id": "J09kmdgwxHsY",
        "outputId": "27966a9d-4947-422c-ba8c-a76e97c5f3bd"
      },
      "execution_count": 4,
      "outputs": [
        {
          "output_type": "stream",
          "name": "stdout",
          "text": [
            "Git LFS initialized.\n"
          ]
        }
      ]
    },
    {
      "cell_type": "code",
      "source": [
        "!git clone https://huggingface.co/datasets/eriktks/conll2003"
      ],
      "metadata": {
        "colab": {
          "base_uri": "https://localhost:8080/"
        },
        "id": "eeHgjHqVxRan",
        "outputId": "73738384-7ba6-419f-cb53-5e17eccdd5aa"
      },
      "execution_count": 5,
      "outputs": [
        {
          "output_type": "stream",
          "name": "stdout",
          "text": [
            "Cloning into 'conll2003'...\n",
            "remote: Enumerating objects: 64, done.\u001b[K\n",
            "remote: Total 64 (delta 0), reused 0 (delta 0), pack-reused 64 (from 1)\u001b[K\n",
            "Unpacking objects: 100% (64/64), 17.57 KiB | 817.00 KiB/s, done.\n"
          ]
        }
      ]
    },
    {
      "cell_type": "code",
      "source": [
        "from datasets import load_dataset\n",
        "import wandb\n",
        "from collections import Counter\n",
        "\n"
      ],
      "metadata": {
        "id": "zc3cPVb3xWhl"
      },
      "execution_count": 6,
      "outputs": []
    },
    {
      "cell_type": "code",
      "source": [
        "ls\n"
      ],
      "metadata": {
        "colab": {
          "base_uri": "https://localhost:8080/"
        },
        "id": "es8EuUQ4xaCE",
        "outputId": "8c05458f-44e7-4647-fe38-0fa213dc0287"
      },
      "execution_count": 7,
      "outputs": [
        {
          "output_type": "stream",
          "name": "stdout",
          "text": [
            "\u001b[0m\u001b[01;34mconll2003\u001b[0m/  \u001b[01;34msample_data\u001b[0m/  \u001b[01;34mwandb\u001b[0m/\n"
          ]
        }
      ]
    },
    {
      "cell_type": "code",
      "source": [
        "cd conll2003/"
      ],
      "metadata": {
        "colab": {
          "base_uri": "https://localhost:8080/"
        },
        "id": "L81RyBnhxeYK",
        "outputId": "4fab00c8-92dd-474a-c89b-5a13c8827034"
      },
      "execution_count": 8,
      "outputs": [
        {
          "output_type": "stream",
          "name": "stdout",
          "text": [
            "/content/conll2003\n"
          ]
        }
      ]
    },
    {
      "cell_type": "code",
      "source": [
        "ls"
      ],
      "metadata": {
        "colab": {
          "base_uri": "https://localhost:8080/"
        },
        "id": "_NCOqOPaxiwn",
        "outputId": "8da128ac-0b50-4311-ace3-a35920706d9f"
      },
      "execution_count": 9,
      "outputs": [
        {
          "output_type": "stream",
          "name": "stdout",
          "text": [
            "conll2003.py  README.md\n"
          ]
        }
      ]
    },
    {
      "cell_type": "code",
      "source": [
        "ls -lh"
      ],
      "metadata": {
        "colab": {
          "base_uri": "https://localhost:8080/"
        },
        "id": "3VA2oWclxmTE",
        "outputId": "d31a2a08-ede0-48af-84c9-f013fff170b3"
      },
      "execution_count": 10,
      "outputs": [
        {
          "output_type": "stream",
          "name": "stdout",
          "text": [
            "total 28K\n",
            "-rw-r--r-- 1 root root 9.4K Oct 13 14:11 conll2003.py\n",
            "-rw-r--r-- 1 root root  13K Oct 13 14:11 README.md\n"
          ]
        }
      ]
    },
    {
      "cell_type": "code",
      "source": [
        "!git lfs pull"
      ],
      "metadata": {
        "id": "3NcS5rinxo_n"
      },
      "execution_count": 11,
      "outputs": []
    },
    {
      "cell_type": "code",
      "source": [
        "ls -lh"
      ],
      "metadata": {
        "colab": {
          "base_uri": "https://localhost:8080/"
        },
        "id": "RvsdcJB5xri6",
        "outputId": "efb8c1ee-c7b7-48e3-e0a2-1591e2a46dcf"
      },
      "execution_count": 12,
      "outputs": [
        {
          "output_type": "stream",
          "name": "stdout",
          "text": [
            "total 28K\n",
            "-rw-r--r-- 1 root root 9.4K Oct 13 14:11 conll2003.py\n",
            "-rw-r--r-- 1 root root  13K Oct 13 14:11 README.md\n"
          ]
        }
      ]
    },
    {
      "cell_type": "code",
      "source": [
        "ls"
      ],
      "metadata": {
        "colab": {
          "base_uri": "https://localhost:8080/"
        },
        "id": "qX0OuLdZxv71",
        "outputId": "278b97b5-2da0-4944-d3d2-23fdb14b5738"
      },
      "execution_count": 13,
      "outputs": [
        {
          "output_type": "stream",
          "name": "stdout",
          "text": [
            "conll2003.py  README.md\n"
          ]
        }
      ]
    },
    {
      "cell_type": "code",
      "source": [
        "ls -la\n"
      ],
      "metadata": {
        "colab": {
          "base_uri": "https://localhost:8080/"
        },
        "id": "VJYeCUpAxyjv",
        "outputId": "ea60b5fb-222e-42ac-86b4-1566df59432d"
      },
      "execution_count": 14,
      "outputs": [
        {
          "output_type": "stream",
          "name": "stdout",
          "text": [
            "total 44\n",
            "drwxr-xr-x 3 root root  4096 Oct 13 14:11 \u001b[0m\u001b[01;34m.\u001b[0m/\n",
            "drwxr-xr-x 1 root root  4096 Oct 13 14:11 \u001b[01;34m..\u001b[0m/\n",
            "-rw-r--r-- 1 root root  9570 Oct 13 14:11 conll2003.py\n",
            "drwxr-xr-x 9 root root  4096 Oct 13 14:12 \u001b[01;34m.git\u001b[0m/\n",
            "-rw-r--r-- 1 root root  1174 Oct 13 14:11 .gitattributes\n",
            "-rw-r--r-- 1 root root 12330 Oct 13 14:11 README.md\n"
          ]
        }
      ]
    },
    {
      "cell_type": "code",
      "source": [
        "!git lfs ls-files\n"
      ],
      "metadata": {
        "id": "rflcFUgnyNMa"
      },
      "execution_count": 15,
      "outputs": []
    },
    {
      "cell_type": "code",
      "source": [
        "!wget -nc https://data.deepai.org/conll2003.zip"
      ],
      "metadata": {
        "colab": {
          "base_uri": "https://localhost:8080/"
        },
        "id": "jlG5nWeSyRnE",
        "outputId": "f85caed0-ad86-4c15-f08a-6947d7d5c745"
      },
      "execution_count": 16,
      "outputs": [
        {
          "output_type": "stream",
          "name": "stdout",
          "text": [
            "--2025-10-13 14:12:02--  https://data.deepai.org/conll2003.zip\n",
            "Resolving data.deepai.org (data.deepai.org)... 195.181.163.202, 2400:52e0:1a02::1210:1\n",
            "Connecting to data.deepai.org (data.deepai.org)|195.181.163.202|:443... connected.\n",
            "HTTP request sent, awaiting response... 200 OK\n",
            "Length: 982975 (960K) [application/zip]\n",
            "Saving to: ‘conll2003.zip’\n",
            "\n",
            "conll2003.zip       100%[===================>] 959.94K  5.47MB/s    in 0.2s    \n",
            "\n",
            "2025-10-13 14:12:03 (5.47 MB/s) - ‘conll2003.zip’ saved [982975/982975]\n",
            "\n"
          ]
        }
      ]
    },
    {
      "cell_type": "code",
      "source": [
        "!unzip -o conll2003.zip -d conll2003_data"
      ],
      "metadata": {
        "colab": {
          "base_uri": "https://localhost:8080/"
        },
        "id": "oIlgxb08yWAN",
        "outputId": "26f3d857-15c1-4ebb-9025-65c9162c0518"
      },
      "execution_count": 17,
      "outputs": [
        {
          "output_type": "stream",
          "name": "stdout",
          "text": [
            "Archive:  conll2003.zip\n",
            "  inflating: conll2003_data/metadata  \n",
            "  inflating: conll2003_data/test.txt  \n",
            "  inflating: conll2003_data/train.txt  \n",
            "  inflating: conll2003_data/valid.txt  \n"
          ]
        }
      ]
    },
    {
      "cell_type": "code",
      "source": [
        "!ls -lh conll2003_data\n",
        "# peek at top of train file\n",
        "!head -n 50 conll2003_data/train.txt"
      ],
      "metadata": {
        "colab": {
          "base_uri": "https://localhost:8080/"
        },
        "id": "jSApLPj3yZKt",
        "outputId": "cf3d4659-6ecc-4a8f-f315-e4febf3709c3"
      },
      "execution_count": 18,
      "outputs": [
        {
          "output_type": "stream",
          "name": "stdout",
          "text": [
            "total 4.7M\n",
            "-rw-r--r-- 1 root root  153 Oct  5  2019 metadata\n",
            "-rw-r--r-- 1 root root 731K Oct  5  2019 test.txt\n",
            "-rw-r--r-- 1 root root 3.2M Oct  5  2019 train.txt\n",
            "-rw-r--r-- 1 root root 809K Oct  5  2019 valid.txt\n",
            "-DOCSTART- -X- -X- O\n",
            "\n",
            "EU NNP B-NP B-ORG\n",
            "rejects VBZ B-VP O\n",
            "German JJ B-NP B-MISC\n",
            "call NN I-NP O\n",
            "to TO B-VP O\n",
            "boycott VB I-VP O\n",
            "British JJ B-NP B-MISC\n",
            "lamb NN I-NP O\n",
            ". . O O\n",
            "\n",
            "Peter NNP B-NP B-PER\n",
            "Blackburn NNP I-NP I-PER\n",
            "\n",
            "BRUSSELS NNP B-NP B-LOC\n",
            "1996-08-22 CD I-NP O\n",
            "\n",
            "The DT B-NP O\n",
            "European NNP I-NP B-ORG\n",
            "Commission NNP I-NP I-ORG\n",
            "said VBD B-VP O\n",
            "on IN B-PP O\n",
            "Thursday NNP B-NP O\n",
            "it PRP B-NP O\n",
            "disagreed VBD B-VP O\n",
            "with IN B-PP O\n",
            "German JJ B-NP B-MISC\n",
            "advice NN I-NP O\n",
            "to TO B-PP O\n",
            "consumers NNS B-NP O\n",
            "to TO B-VP O\n",
            "shun VB I-VP O\n",
            "British JJ B-NP B-MISC\n",
            "lamb NN I-NP O\n",
            "until IN B-SBAR O\n",
            "scientists NNS B-NP O\n",
            "determine VBP B-VP O\n",
            "whether IN B-SBAR O\n",
            "mad JJ B-NP O\n",
            "cow NN I-NP O\n",
            "disease NN I-NP O\n",
            "can MD B-VP O\n",
            "be VB I-VP O\n",
            "transmitted VBN I-VP O\n",
            "to TO B-PP O\n",
            "sheep NN B-NP O\n",
            ". . O O\n",
            "\n",
            "Germany NNP B-NP B-LOC\n"
          ]
        }
      ]
    },
    {
      "cell_type": "code",
      "source": [
        "ls -lh"
      ],
      "metadata": {
        "colab": {
          "base_uri": "https://localhost:8080/"
        },
        "id": "2JRTW3G7ybK7",
        "outputId": "e7864fad-0cfa-4461-e1ec-52bc5adc8336"
      },
      "execution_count": 19,
      "outputs": [
        {
          "output_type": "stream",
          "name": "stdout",
          "text": [
            "total 992K\n",
            "drwxr-xr-x 2 root root 4.0K Oct 13 14:12 \u001b[0m\u001b[01;34mconll2003_data\u001b[0m/\n",
            "-rw-r--r-- 1 root root 9.4K Oct 13 14:11 conll2003.py\n",
            "-rw-r--r-- 1 root root 960K Dec 18  2022 conll2003.zip\n",
            "-rw-r--r-- 1 root root  13K Oct 13 14:11 README.md\n"
          ]
        }
      ]
    },
    {
      "cell_type": "code",
      "source": [
        "cd conll2003_data/"
      ],
      "metadata": {
        "colab": {
          "base_uri": "https://localhost:8080/"
        },
        "id": "bErCtHz-ydsE",
        "outputId": "39f7767a-5e17-4c7e-b160-6b4b04e19adf"
      },
      "execution_count": 20,
      "outputs": [
        {
          "output_type": "stream",
          "name": "stdout",
          "text": [
            "/content/conll2003/conll2003_data\n"
          ]
        }
      ]
    },
    {
      "cell_type": "code",
      "source": [
        "ls"
      ],
      "metadata": {
        "colab": {
          "base_uri": "https://localhost:8080/"
        },
        "id": "9Tandwl2yfni",
        "outputId": "8bd2fa2b-a626-48cf-bf37-73e6473c1bde"
      },
      "execution_count": 21,
      "outputs": [
        {
          "output_type": "stream",
          "name": "stdout",
          "text": [
            "metadata  test.txt  train.txt  valid.txt\n"
          ]
        }
      ]
    },
    {
      "cell_type": "code",
      "source": [
        "!head -20 train.txt"
      ],
      "metadata": {
        "colab": {
          "base_uri": "https://localhost:8080/"
        },
        "id": "aPUT_c3Qyhn3",
        "outputId": "8daa1283-e42b-45b4-9179-bf83892b173b"
      },
      "execution_count": 22,
      "outputs": [
        {
          "output_type": "stream",
          "name": "stdout",
          "text": [
            "-DOCSTART- -X- -X- O\n",
            "\n",
            "EU NNP B-NP B-ORG\n",
            "rejects VBZ B-VP O\n",
            "German JJ B-NP B-MISC\n",
            "call NN I-NP O\n",
            "to TO B-VP O\n",
            "boycott VB I-VP O\n",
            "British JJ B-NP B-MISC\n",
            "lamb NN I-NP O\n",
            ". . O O\n",
            "\n",
            "Peter NNP B-NP B-PER\n",
            "Blackburn NNP I-NP I-PER\n",
            "\n",
            "BRUSSELS NNP B-NP B-LOC\n",
            "1996-08-22 CD I-NP O\n",
            "\n",
            "The DT B-NP O\n",
            "European NNP I-NP B-ORG\n"
          ]
        }
      ]
    },
    {
      "cell_type": "code",
      "source": [
        "cd .."
      ],
      "metadata": {
        "colab": {
          "base_uri": "https://localhost:8080/"
        },
        "id": "JprdUvohyjlv",
        "outputId": "c9dce207-a39e-4e18-97b5-4facab0d15e1"
      },
      "execution_count": 23,
      "outputs": [
        {
          "output_type": "stream",
          "name": "stdout",
          "text": [
            "/content/conll2003\n"
          ]
        }
      ]
    },
    {
      "cell_type": "code",
      "source": [
        "import os\n",
        "from collections import Counter\n",
        "\n",
        "def read_conll_file(path):\n",
        "    examples = []\n",
        "    with open(path, encoding=\"utf-8\") as f:\n",
        "        tokens, tags = [], []\n",
        "        for line in f:\n",
        "            line = line.strip()\n",
        "            if not line:\n",
        "                if tokens:\n",
        "                    examples.append({\"tokens\": tokens, \"ner_tags\": tags})\n",
        "                    tokens, tags = [], []\n",
        "            elif not line.startswith(\"-DOCSTART-\"):\n",
        "                parts = line.split()\n",
        "                tokens.append(parts[0])\n",
        "                tags.append(parts[-1])\n",
        "        if tokens:\n",
        "            examples.append({\"tokens\": tokens, \"ner_tags\": tags})\n",
        "    return examples\n",
        "\n",
        "data_dir = \"conll2003_data\"\n",
        "train = read_conll_file(os.path.join(data_dir, \"train.txt\"))\n",
        "valid = read_conll_file(os.path.join(data_dir, \"valid.txt\"))\n",
        "test  = read_conll_file(os.path.join(data_dir, \"test.txt\"))\n"
      ],
      "metadata": {
        "id": "wQOYyDnNymD7"
      },
      "execution_count": 24,
      "outputs": []
    },
    {
      "cell_type": "markdown",
      "source": [
        "**Question1**"
      ],
      "metadata": {
        "id": "y8aa1TJiytq9"
      }
    },
    {
      "cell_type": "code",
      "source": [
        "# Count total samples (sentences)\n",
        "total_samples = len(train) + len(valid) + len(test)\n",
        "\n",
        "# Count entity distribution\n",
        "entity_counter = Counter()\n",
        "for split in [train, valid, test]:\n",
        "    for ex in split:\n",
        "        for tag in ex[\"ner_tags\"]:\n",
        "            if tag != \"O\":  # ignore non-entities\n",
        "                # Keep only the entity type (PER, LOC, ORG, MISC)\n",
        "                entity_type = tag.split(\"-\")[-1]\n",
        "                entity_counter[entity_type] += 1\n",
        "\n",
        "print(\"Total samples:\", total_samples)\n",
        "print(\"Entity counts:\", dict(entity_counter))\n"
      ],
      "metadata": {
        "colab": {
          "base_uri": "https://localhost:8080/"
        },
        "id": "rGxv5RFMypOV",
        "outputId": "0f87b73d-1c91-4c40-da5b-67466cbd4d12"
      },
      "execution_count": 25,
      "outputs": [
        {
          "output_type": "stream",
          "name": "stdout",
          "text": [
            "Total samples: 20744\n",
            "Entity counts: {'ORG': 14613, 'MISC': 6779, 'PER': 17050, 'LOC': 12316}\n"
          ]
        }
      ]
    },
    {
      "cell_type": "code",
      "source": [
        "import wandb\n",
        "\n",
        "# Initialize W&B project\n",
        "wandb.init(project=\"Q1-weak-supervision-ner\", name=\"dataset-summary\")\n",
        "\n",
        "# Log summary metrics\n",
        "wandb.summary[\"total_samples\"] = total_samples\n",
        "for entity, count in entity_counter.items():\n",
        "    wandb.summary[f\"entity_count_{entity}\"] = count\n",
        "\n",
        "wandb.log({\n",
        "    \"total_samples\": total_samples,\n",
        "    **{f\"entity_count_{k}\": v for k, v in entity_counter.items()}\n",
        "})\n",
        "wandb.finish()"
      ],
      "metadata": {
        "colab": {
          "base_uri": "https://localhost:8080/",
          "height": 653
        },
        "id": "JsCGnMJbysdl",
        "outputId": "5757f894-2206-435b-df3c-b050feff8a6c"
      },
      "execution_count": 26,
      "outputs": [
        {
          "output_type": "display_data",
          "data": {
            "text/plain": [
              "<IPython.core.display.HTML object>"
            ],
            "text/html": [
              "Finishing previous runs because reinit is set to 'default'."
            ]
          },
          "metadata": {}
        },
        {
          "output_type": "display_data",
          "data": {
            "text/plain": [
              "<IPython.core.display.HTML object>"
            ],
            "text/html": []
          },
          "metadata": {}
        },
        {
          "output_type": "display_data",
          "data": {
            "text/plain": [
              "<IPython.core.display.HTML object>"
            ],
            "text/html": [
              " View run <strong style=\"color:#cdcd00\">Dataset summary</strong> at: <a href='https://wandb.ai/142502011-indian-institute-of-technology-palakkad/%22Q1-weak-supervision-ner/runs/50j1q87k' target=\"_blank\">https://wandb.ai/142502011-indian-institute-of-technology-palakkad/%22Q1-weak-supervision-ner/runs/50j1q87k</a><br> View project at: <a href='https://wandb.ai/142502011-indian-institute-of-technology-palakkad/%22Q1-weak-supervision-ner' target=\"_blank\">https://wandb.ai/142502011-indian-institute-of-technology-palakkad/%22Q1-weak-supervision-ner</a><br>Synced 5 W&B file(s), 0 media file(s), 0 artifact file(s) and 0 other file(s)"
            ]
          },
          "metadata": {}
        },
        {
          "output_type": "display_data",
          "data": {
            "text/plain": [
              "<IPython.core.display.HTML object>"
            ],
            "text/html": [
              "Find logs at: <code>/content/wandb/run-20251013_141143-50j1q87k/logs</code>"
            ]
          },
          "metadata": {}
        },
        {
          "output_type": "display_data",
          "data": {
            "text/plain": [
              "<IPython.core.display.HTML object>"
            ],
            "text/html": []
          },
          "metadata": {}
        },
        {
          "output_type": "display_data",
          "data": {
            "text/plain": [
              "<IPython.core.display.HTML object>"
            ],
            "text/html": [
              "Tracking run with wandb version 0.22.2"
            ]
          },
          "metadata": {}
        },
        {
          "output_type": "display_data",
          "data": {
            "text/plain": [
              "<IPython.core.display.HTML object>"
            ],
            "text/html": [
              "Run data is saved locally in <code>/content/wandb/run-20251013_141205-phu7kmoq</code>"
            ]
          },
          "metadata": {}
        },
        {
          "output_type": "display_data",
          "data": {
            "text/plain": [
              "<IPython.core.display.HTML object>"
            ],
            "text/html": [
              "Syncing run <strong><a href='https://wandb.ai/142502011-indian-institute-of-technology-palakkad/Q1-weak-supervision-ner/runs/phu7kmoq' target=\"_blank\">dataset-summary</a></strong> to <a href='https://wandb.ai/142502011-indian-institute-of-technology-palakkad/Q1-weak-supervision-ner' target=\"_blank\">Weights & Biases</a> (<a href='https://wandb.me/developer-guide' target=\"_blank\">docs</a>)<br>"
            ]
          },
          "metadata": {}
        },
        {
          "output_type": "display_data",
          "data": {
            "text/plain": [
              "<IPython.core.display.HTML object>"
            ],
            "text/html": [
              " View project at <a href='https://wandb.ai/142502011-indian-institute-of-technology-palakkad/Q1-weak-supervision-ner' target=\"_blank\">https://wandb.ai/142502011-indian-institute-of-technology-palakkad/Q1-weak-supervision-ner</a>"
            ]
          },
          "metadata": {}
        },
        {
          "output_type": "display_data",
          "data": {
            "text/plain": [
              "<IPython.core.display.HTML object>"
            ],
            "text/html": [
              " View run at <a href='https://wandb.ai/142502011-indian-institute-of-technology-palakkad/Q1-weak-supervision-ner/runs/phu7kmoq' target=\"_blank\">https://wandb.ai/142502011-indian-institute-of-technology-palakkad/Q1-weak-supervision-ner/runs/phu7kmoq</a>"
            ]
          },
          "metadata": {}
        },
        {
          "output_type": "display_data",
          "data": {
            "text/plain": [
              "<IPython.core.display.HTML object>"
            ],
            "text/html": []
          },
          "metadata": {}
        },
        {
          "output_type": "display_data",
          "data": {
            "text/plain": [
              "<IPython.core.display.HTML object>"
            ],
            "text/html": [
              "<br>    <style><br>        .wandb-row {<br>            display: flex;<br>            flex-direction: row;<br>            flex-wrap: wrap;<br>            justify-content: flex-start;<br>            width: 100%;<br>        }<br>        .wandb-col {<br>            display: flex;<br>            flex-direction: column;<br>            flex-basis: 100%;<br>            flex: 1;<br>            padding: 10px;<br>        }<br>    </style><br><div class=\"wandb-row\"><div class=\"wandb-col\"><h3>Run history:</h3><br/><table class=\"wandb\"><tr><td>entity_count_LOC</td><td>▁</td></tr><tr><td>entity_count_MISC</td><td>▁</td></tr><tr><td>entity_count_ORG</td><td>▁</td></tr><tr><td>entity_count_PER</td><td>▁</td></tr><tr><td>total_samples</td><td>▁</td></tr></table><br/></div><div class=\"wandb-col\"><h3>Run summary:</h3><br/><table class=\"wandb\"><tr><td>entity_count_LOC</td><td>12316</td></tr><tr><td>entity_count_MISC</td><td>6779</td></tr><tr><td>entity_count_ORG</td><td>14613</td></tr><tr><td>entity_count_PER</td><td>17050</td></tr><tr><td>total_samples</td><td>20744</td></tr></table><br/></div></div>"
            ]
          },
          "metadata": {}
        },
        {
          "output_type": "display_data",
          "data": {
            "text/plain": [
              "<IPython.core.display.HTML object>"
            ],
            "text/html": [
              " View run <strong style=\"color:#cdcd00\">dataset-summary</strong> at: <a href='https://wandb.ai/142502011-indian-institute-of-technology-palakkad/Q1-weak-supervision-ner/runs/phu7kmoq' target=\"_blank\">https://wandb.ai/142502011-indian-institute-of-technology-palakkad/Q1-weak-supervision-ner/runs/phu7kmoq</a><br> View project at: <a href='https://wandb.ai/142502011-indian-institute-of-technology-palakkad/Q1-weak-supervision-ner' target=\"_blank\">https://wandb.ai/142502011-indian-institute-of-technology-palakkad/Q1-weak-supervision-ner</a><br>Synced 5 W&B file(s), 0 media file(s), 0 artifact file(s) and 0 other file(s)"
            ]
          },
          "metadata": {}
        },
        {
          "output_type": "display_data",
          "data": {
            "text/plain": [
              "<IPython.core.display.HTML object>"
            ],
            "text/html": [
              "Find logs at: <code>/content/wandb/run-20251013_141205-phu7kmoq/logs</code>"
            ]
          },
          "metadata": {}
        }
      ]
    },
    {
      "cell_type": "code",
      "source": [
        "! pip install snorkel\n"
      ],
      "metadata": {
        "colab": {
          "base_uri": "https://localhost:8080/"
        },
        "id": "LXujwF3ry8k4",
        "outputId": "58cc0334-d201-4529-e133-7de60d46f211"
      },
      "execution_count": 27,
      "outputs": [
        {
          "output_type": "stream",
          "name": "stdout",
          "text": [
            "Collecting snorkel\n",
            "  Downloading snorkel-0.10.0-py3-none-any.whl.metadata (9.5 kB)\n",
            "Collecting munkres>=1.0.6 (from snorkel)\n",
            "  Downloading munkres-1.1.4-py2.py3-none-any.whl.metadata (980 bytes)\n",
            "Requirement already satisfied: numpy>=1.24.0 in /usr/local/lib/python3.12/dist-packages (from snorkel) (2.0.2)\n",
            "Requirement already satisfied: scipy>=1.2.0 in /usr/local/lib/python3.12/dist-packages (from snorkel) (1.16.2)\n",
            "Requirement already satisfied: pandas>=1.0.0 in /usr/local/lib/python3.12/dist-packages (from snorkel) (2.2.2)\n",
            "Requirement already satisfied: tqdm>=4.33.0 in /usr/local/lib/python3.12/dist-packages (from snorkel) (4.67.1)\n",
            "Requirement already satisfied: scikit-learn>=0.20.2 in /usr/local/lib/python3.12/dist-packages (from snorkel) (1.6.1)\n",
            "Requirement already satisfied: torch>=1.2.0 in /usr/local/lib/python3.12/dist-packages (from snorkel) (2.8.0+cu126)\n",
            "Requirement already satisfied: tensorboard>=2.13.0 in /usr/local/lib/python3.12/dist-packages (from snorkel) (2.19.0)\n",
            "Requirement already satisfied: protobuf>=3.19.6 in /usr/local/lib/python3.12/dist-packages (from snorkel) (5.29.5)\n",
            "Requirement already satisfied: networkx>=2.2 in /usr/local/lib/python3.12/dist-packages (from snorkel) (3.5)\n",
            "Requirement already satisfied: python-dateutil>=2.8.2 in /usr/local/lib/python3.12/dist-packages (from pandas>=1.0.0->snorkel) (2.9.0.post0)\n",
            "Requirement already satisfied: pytz>=2020.1 in /usr/local/lib/python3.12/dist-packages (from pandas>=1.0.0->snorkel) (2025.2)\n",
            "Requirement already satisfied: tzdata>=2022.7 in /usr/local/lib/python3.12/dist-packages (from pandas>=1.0.0->snorkel) (2025.2)\n",
            "Requirement already satisfied: joblib>=1.2.0 in /usr/local/lib/python3.12/dist-packages (from scikit-learn>=0.20.2->snorkel) (1.5.2)\n",
            "Requirement already satisfied: threadpoolctl>=3.1.0 in /usr/local/lib/python3.12/dist-packages (from scikit-learn>=0.20.2->snorkel) (3.6.0)\n",
            "Requirement already satisfied: absl-py>=0.4 in /usr/local/lib/python3.12/dist-packages (from tensorboard>=2.13.0->snorkel) (1.4.0)\n",
            "Requirement already satisfied: grpcio>=1.48.2 in /usr/local/lib/python3.12/dist-packages (from tensorboard>=2.13.0->snorkel) (1.75.1)\n",
            "Requirement already satisfied: markdown>=2.6.8 in /usr/local/lib/python3.12/dist-packages (from tensorboard>=2.13.0->snorkel) (3.9)\n",
            "Requirement already satisfied: packaging in /usr/local/lib/python3.12/dist-packages (from tensorboard>=2.13.0->snorkel) (25.0)\n",
            "Requirement already satisfied: setuptools>=41.0.0 in /usr/local/lib/python3.12/dist-packages (from tensorboard>=2.13.0->snorkel) (75.2.0)\n",
            "Requirement already satisfied: six>1.9 in /usr/local/lib/python3.12/dist-packages (from tensorboard>=2.13.0->snorkel) (1.17.0)\n",
            "Requirement already satisfied: tensorboard-data-server<0.8.0,>=0.7.0 in /usr/local/lib/python3.12/dist-packages (from tensorboard>=2.13.0->snorkel) (0.7.2)\n",
            "Requirement already satisfied: werkzeug>=1.0.1 in /usr/local/lib/python3.12/dist-packages (from tensorboard>=2.13.0->snorkel) (3.1.3)\n",
            "Requirement already satisfied: filelock in /usr/local/lib/python3.12/dist-packages (from torch>=1.2.0->snorkel) (3.20.0)\n",
            "Requirement already satisfied: typing-extensions>=4.10.0 in /usr/local/lib/python3.12/dist-packages (from torch>=1.2.0->snorkel) (4.15.0)\n",
            "Requirement already satisfied: sympy>=1.13.3 in /usr/local/lib/python3.12/dist-packages (from torch>=1.2.0->snorkel) (1.13.3)\n",
            "Requirement already satisfied: jinja2 in /usr/local/lib/python3.12/dist-packages (from torch>=1.2.0->snorkel) (3.1.6)\n",
            "Requirement already satisfied: fsspec in /usr/local/lib/python3.12/dist-packages (from torch>=1.2.0->snorkel) (2025.3.0)\n",
            "Requirement already satisfied: nvidia-cuda-nvrtc-cu12==12.6.77 in /usr/local/lib/python3.12/dist-packages (from torch>=1.2.0->snorkel) (12.6.77)\n",
            "Requirement already satisfied: nvidia-cuda-runtime-cu12==12.6.77 in /usr/local/lib/python3.12/dist-packages (from torch>=1.2.0->snorkel) (12.6.77)\n",
            "Requirement already satisfied: nvidia-cuda-cupti-cu12==12.6.80 in /usr/local/lib/python3.12/dist-packages (from torch>=1.2.0->snorkel) (12.6.80)\n",
            "Requirement already satisfied: nvidia-cudnn-cu12==9.10.2.21 in /usr/local/lib/python3.12/dist-packages (from torch>=1.2.0->snorkel) (9.10.2.21)\n",
            "Requirement already satisfied: nvidia-cublas-cu12==12.6.4.1 in /usr/local/lib/python3.12/dist-packages (from torch>=1.2.0->snorkel) (12.6.4.1)\n",
            "Requirement already satisfied: nvidia-cufft-cu12==11.3.0.4 in /usr/local/lib/python3.12/dist-packages (from torch>=1.2.0->snorkel) (11.3.0.4)\n",
            "Requirement already satisfied: nvidia-curand-cu12==10.3.7.77 in /usr/local/lib/python3.12/dist-packages (from torch>=1.2.0->snorkel) (10.3.7.77)\n",
            "Requirement already satisfied: nvidia-cusolver-cu12==11.7.1.2 in /usr/local/lib/python3.12/dist-packages (from torch>=1.2.0->snorkel) (11.7.1.2)\n",
            "Requirement already satisfied: nvidia-cusparse-cu12==12.5.4.2 in /usr/local/lib/python3.12/dist-packages (from torch>=1.2.0->snorkel) (12.5.4.2)\n",
            "Requirement already satisfied: nvidia-cusparselt-cu12==0.7.1 in /usr/local/lib/python3.12/dist-packages (from torch>=1.2.0->snorkel) (0.7.1)\n",
            "Requirement already satisfied: nvidia-nccl-cu12==2.27.3 in /usr/local/lib/python3.12/dist-packages (from torch>=1.2.0->snorkel) (2.27.3)\n",
            "Requirement already satisfied: nvidia-nvtx-cu12==12.6.77 in /usr/local/lib/python3.12/dist-packages (from torch>=1.2.0->snorkel) (12.6.77)\n",
            "Requirement already satisfied: nvidia-nvjitlink-cu12==12.6.85 in /usr/local/lib/python3.12/dist-packages (from torch>=1.2.0->snorkel) (12.6.85)\n",
            "Requirement already satisfied: nvidia-cufile-cu12==1.11.1.6 in /usr/local/lib/python3.12/dist-packages (from torch>=1.2.0->snorkel) (1.11.1.6)\n",
            "Requirement already satisfied: triton==3.4.0 in /usr/local/lib/python3.12/dist-packages (from torch>=1.2.0->snorkel) (3.4.0)\n",
            "Requirement already satisfied: mpmath<1.4,>=1.1.0 in /usr/local/lib/python3.12/dist-packages (from sympy>=1.13.3->torch>=1.2.0->snorkel) (1.3.0)\n",
            "Requirement already satisfied: MarkupSafe>=2.1.1 in /usr/local/lib/python3.12/dist-packages (from werkzeug>=1.0.1->tensorboard>=2.13.0->snorkel) (3.0.3)\n",
            "Downloading snorkel-0.10.0-py3-none-any.whl (103 kB)\n",
            "\u001b[2K   \u001b[90m━━━━━━━━━━━━━━━━━━━━━━━━━━━━━━━━━━━━━━━━\u001b[0m \u001b[32m103.3/103.3 kB\u001b[0m \u001b[31m3.7 MB/s\u001b[0m eta \u001b[36m0:00:00\u001b[0m\n",
            "\u001b[?25hDownloading munkres-1.1.4-py2.py3-none-any.whl (7.0 kB)\n",
            "Installing collected packages: munkres, snorkel\n",
            "Successfully installed munkres-1.1.4 snorkel-0.10.0\n"
          ]
        }
      ]
    },
    {
      "cell_type": "code",
      "source": [
        "import re\n",
        "import pandas as pd\n",
        "import wandb\n",
        "from snorkel.labeling import labeling_function, PandasLFApplier, LFAnalysis"
      ],
      "metadata": {
        "id": "dkFI43WCzB1h"
      },
      "execution_count": 28,
      "outputs": []
    },
    {
      "cell_type": "code",
      "source": [
        "# Flatten train data into tokens\n",
        "rows = []\n",
        "for sent in train:  # 'train' from Q1\n",
        "    for token, tag in zip(sent[\"tokens\"], sent[\"ner_tags\"]):\n",
        "        rows.append({\"token\": token, \"true_label\": tag})\n",
        "\n",
        "df = pd.DataFrame(rows)\n",
        "df.head()"
      ],
      "metadata": {
        "colab": {
          "base_uri": "https://localhost:8080/",
          "height": 206
        },
        "id": "m6aV6OuwzWbq",
        "outputId": "d198e453-1392-43ee-96f4-720f3a7356c9"
      },
      "execution_count": 29,
      "outputs": [
        {
          "output_type": "execute_result",
          "data": {
            "text/plain": [
              "     token true_label\n",
              "0       EU      B-ORG\n",
              "1  rejects          O\n",
              "2   German     B-MISC\n",
              "3     call          O\n",
              "4       to          O"
            ],
            "text/html": [
              "\n",
              "  <div id=\"df-fdefedff-b31a-42ce-ae99-0aa49cfb2af2\" class=\"colab-df-container\">\n",
              "    <div>\n",
              "<style scoped>\n",
              "    .dataframe tbody tr th:only-of-type {\n",
              "        vertical-align: middle;\n",
              "    }\n",
              "\n",
              "    .dataframe tbody tr th {\n",
              "        vertical-align: top;\n",
              "    }\n",
              "\n",
              "    .dataframe thead th {\n",
              "        text-align: right;\n",
              "    }\n",
              "</style>\n",
              "<table border=\"1\" class=\"dataframe\">\n",
              "  <thead>\n",
              "    <tr style=\"text-align: right;\">\n",
              "      <th></th>\n",
              "      <th>token</th>\n",
              "      <th>true_label</th>\n",
              "    </tr>\n",
              "  </thead>\n",
              "  <tbody>\n",
              "    <tr>\n",
              "      <th>0</th>\n",
              "      <td>EU</td>\n",
              "      <td>B-ORG</td>\n",
              "    </tr>\n",
              "    <tr>\n",
              "      <th>1</th>\n",
              "      <td>rejects</td>\n",
              "      <td>O</td>\n",
              "    </tr>\n",
              "    <tr>\n",
              "      <th>2</th>\n",
              "      <td>German</td>\n",
              "      <td>B-MISC</td>\n",
              "    </tr>\n",
              "    <tr>\n",
              "      <th>3</th>\n",
              "      <td>call</td>\n",
              "      <td>O</td>\n",
              "    </tr>\n",
              "    <tr>\n",
              "      <th>4</th>\n",
              "      <td>to</td>\n",
              "      <td>O</td>\n",
              "    </tr>\n",
              "  </tbody>\n",
              "</table>\n",
              "</div>\n",
              "    <div class=\"colab-df-buttons\">\n",
              "\n",
              "  <div class=\"colab-df-container\">\n",
              "    <button class=\"colab-df-convert\" onclick=\"convertToInteractive('df-fdefedff-b31a-42ce-ae99-0aa49cfb2af2')\"\n",
              "            title=\"Convert this dataframe to an interactive table.\"\n",
              "            style=\"display:none;\">\n",
              "\n",
              "  <svg xmlns=\"http://www.w3.org/2000/svg\" height=\"24px\" viewBox=\"0 -960 960 960\">\n",
              "    <path d=\"M120-120v-720h720v720H120Zm60-500h600v-160H180v160Zm220 220h160v-160H400v160Zm0 220h160v-160H400v160ZM180-400h160v-160H180v160Zm440 0h160v-160H620v160ZM180-180h160v-160H180v160Zm440 0h160v-160H620v160Z\"/>\n",
              "  </svg>\n",
              "    </button>\n",
              "\n",
              "  <style>\n",
              "    .colab-df-container {\n",
              "      display:flex;\n",
              "      gap: 12px;\n",
              "    }\n",
              "\n",
              "    .colab-df-convert {\n",
              "      background-color: #E8F0FE;\n",
              "      border: none;\n",
              "      border-radius: 50%;\n",
              "      cursor: pointer;\n",
              "      display: none;\n",
              "      fill: #1967D2;\n",
              "      height: 32px;\n",
              "      padding: 0 0 0 0;\n",
              "      width: 32px;\n",
              "    }\n",
              "\n",
              "    .colab-df-convert:hover {\n",
              "      background-color: #E2EBFA;\n",
              "      box-shadow: 0px 1px 2px rgba(60, 64, 67, 0.3), 0px 1px 3px 1px rgba(60, 64, 67, 0.15);\n",
              "      fill: #174EA6;\n",
              "    }\n",
              "\n",
              "    .colab-df-buttons div {\n",
              "      margin-bottom: 4px;\n",
              "    }\n",
              "\n",
              "    [theme=dark] .colab-df-convert {\n",
              "      background-color: #3B4455;\n",
              "      fill: #D2E3FC;\n",
              "    }\n",
              "\n",
              "    [theme=dark] .colab-df-convert:hover {\n",
              "      background-color: #434B5C;\n",
              "      box-shadow: 0px 1px 3px 1px rgba(0, 0, 0, 0.15);\n",
              "      filter: drop-shadow(0px 1px 2px rgba(0, 0, 0, 0.3));\n",
              "      fill: #FFFFFF;\n",
              "    }\n",
              "  </style>\n",
              "\n",
              "    <script>\n",
              "      const buttonEl =\n",
              "        document.querySelector('#df-fdefedff-b31a-42ce-ae99-0aa49cfb2af2 button.colab-df-convert');\n",
              "      buttonEl.style.display =\n",
              "        google.colab.kernel.accessAllowed ? 'block' : 'none';\n",
              "\n",
              "      async function convertToInteractive(key) {\n",
              "        const element = document.querySelector('#df-fdefedff-b31a-42ce-ae99-0aa49cfb2af2');\n",
              "        const dataTable =\n",
              "          await google.colab.kernel.invokeFunction('convertToInteractive',\n",
              "                                                    [key], {});\n",
              "        if (!dataTable) return;\n",
              "\n",
              "        const docLinkHtml = 'Like what you see? Visit the ' +\n",
              "          '<a target=\"_blank\" href=https://colab.research.google.com/notebooks/data_table.ipynb>data table notebook</a>'\n",
              "          + ' to learn more about interactive tables.';\n",
              "        element.innerHTML = '';\n",
              "        dataTable['output_type'] = 'display_data';\n",
              "        await google.colab.output.renderOutput(dataTable, element);\n",
              "        const docLink = document.createElement('div');\n",
              "        docLink.innerHTML = docLinkHtml;\n",
              "        element.appendChild(docLink);\n",
              "      }\n",
              "    </script>\n",
              "  </div>\n",
              "\n",
              "\n",
              "    <div id=\"df-c99a1b98-b39c-4f03-b39c-8d510c70a436\">\n",
              "      <button class=\"colab-df-quickchart\" onclick=\"quickchart('df-c99a1b98-b39c-4f03-b39c-8d510c70a436')\"\n",
              "                title=\"Suggest charts\"\n",
              "                style=\"display:none;\">\n",
              "\n",
              "<svg xmlns=\"http://www.w3.org/2000/svg\" height=\"24px\"viewBox=\"0 0 24 24\"\n",
              "     width=\"24px\">\n",
              "    <g>\n",
              "        <path d=\"M19 3H5c-1.1 0-2 .9-2 2v14c0 1.1.9 2 2 2h14c1.1 0 2-.9 2-2V5c0-1.1-.9-2-2-2zM9 17H7v-7h2v7zm4 0h-2V7h2v10zm4 0h-2v-4h2v4z\"/>\n",
              "    </g>\n",
              "</svg>\n",
              "      </button>\n",
              "\n",
              "<style>\n",
              "  .colab-df-quickchart {\n",
              "      --bg-color: #E8F0FE;\n",
              "      --fill-color: #1967D2;\n",
              "      --hover-bg-color: #E2EBFA;\n",
              "      --hover-fill-color: #174EA6;\n",
              "      --disabled-fill-color: #AAA;\n",
              "      --disabled-bg-color: #DDD;\n",
              "  }\n",
              "\n",
              "  [theme=dark] .colab-df-quickchart {\n",
              "      --bg-color: #3B4455;\n",
              "      --fill-color: #D2E3FC;\n",
              "      --hover-bg-color: #434B5C;\n",
              "      --hover-fill-color: #FFFFFF;\n",
              "      --disabled-bg-color: #3B4455;\n",
              "      --disabled-fill-color: #666;\n",
              "  }\n",
              "\n",
              "  .colab-df-quickchart {\n",
              "    background-color: var(--bg-color);\n",
              "    border: none;\n",
              "    border-radius: 50%;\n",
              "    cursor: pointer;\n",
              "    display: none;\n",
              "    fill: var(--fill-color);\n",
              "    height: 32px;\n",
              "    padding: 0;\n",
              "    width: 32px;\n",
              "  }\n",
              "\n",
              "  .colab-df-quickchart:hover {\n",
              "    background-color: var(--hover-bg-color);\n",
              "    box-shadow: 0 1px 2px rgba(60, 64, 67, 0.3), 0 1px 3px 1px rgba(60, 64, 67, 0.15);\n",
              "    fill: var(--button-hover-fill-color);\n",
              "  }\n",
              "\n",
              "  .colab-df-quickchart-complete:disabled,\n",
              "  .colab-df-quickchart-complete:disabled:hover {\n",
              "    background-color: var(--disabled-bg-color);\n",
              "    fill: var(--disabled-fill-color);\n",
              "    box-shadow: none;\n",
              "  }\n",
              "\n",
              "  .colab-df-spinner {\n",
              "    border: 2px solid var(--fill-color);\n",
              "    border-color: transparent;\n",
              "    border-bottom-color: var(--fill-color);\n",
              "    animation:\n",
              "      spin 1s steps(1) infinite;\n",
              "  }\n",
              "\n",
              "  @keyframes spin {\n",
              "    0% {\n",
              "      border-color: transparent;\n",
              "      border-bottom-color: var(--fill-color);\n",
              "      border-left-color: var(--fill-color);\n",
              "    }\n",
              "    20% {\n",
              "      border-color: transparent;\n",
              "      border-left-color: var(--fill-color);\n",
              "      border-top-color: var(--fill-color);\n",
              "    }\n",
              "    30% {\n",
              "      border-color: transparent;\n",
              "      border-left-color: var(--fill-color);\n",
              "      border-top-color: var(--fill-color);\n",
              "      border-right-color: var(--fill-color);\n",
              "    }\n",
              "    40% {\n",
              "      border-color: transparent;\n",
              "      border-right-color: var(--fill-color);\n",
              "      border-top-color: var(--fill-color);\n",
              "    }\n",
              "    60% {\n",
              "      border-color: transparent;\n",
              "      border-right-color: var(--fill-color);\n",
              "    }\n",
              "    80% {\n",
              "      border-color: transparent;\n",
              "      border-right-color: var(--fill-color);\n",
              "      border-bottom-color: var(--fill-color);\n",
              "    }\n",
              "    90% {\n",
              "      border-color: transparent;\n",
              "      border-bottom-color: var(--fill-color);\n",
              "    }\n",
              "  }\n",
              "</style>\n",
              "\n",
              "      <script>\n",
              "        async function quickchart(key) {\n",
              "          const quickchartButtonEl =\n",
              "            document.querySelector('#' + key + ' button');\n",
              "          quickchartButtonEl.disabled = true;  // To prevent multiple clicks.\n",
              "          quickchartButtonEl.classList.add('colab-df-spinner');\n",
              "          try {\n",
              "            const charts = await google.colab.kernel.invokeFunction(\n",
              "                'suggestCharts', [key], {});\n",
              "          } catch (error) {\n",
              "            console.error('Error during call to suggestCharts:', error);\n",
              "          }\n",
              "          quickchartButtonEl.classList.remove('colab-df-spinner');\n",
              "          quickchartButtonEl.classList.add('colab-df-quickchart-complete');\n",
              "        }\n",
              "        (() => {\n",
              "          let quickchartButtonEl =\n",
              "            document.querySelector('#df-c99a1b98-b39c-4f03-b39c-8d510c70a436 button');\n",
              "          quickchartButtonEl.style.display =\n",
              "            google.colab.kernel.accessAllowed ? 'block' : 'none';\n",
              "        })();\n",
              "      </script>\n",
              "    </div>\n",
              "\n",
              "    </div>\n",
              "  </div>\n"
            ],
            "application/vnd.google.colaboratory.intrinsic+json": {
              "type": "dataframe",
              "variable_name": "df"
            }
          },
          "metadata": {},
          "execution_count": 29
        }
      ]
    },
    {
      "cell_type": "code",
      "source": [
        "ABSTAIN = -1\n",
        "DATE = 0   # heuristic: years → DATE/MISC\n",
        "ORG  = 1   # organization suffix"
      ],
      "metadata": {
        "id": "XFWVuaGjzYzM"
      },
      "execution_count": 30,
      "outputs": []
    },
    {
      "cell_type": "markdown",
      "source": [
        "**Question2**"
      ],
      "metadata": {
        "id": "JKmh-aQazfex"
      }
    },
    {
      "cell_type": "code",
      "source": [
        "@labeling_function()\n",
        "def lf_detect_year(x):\n",
        "    if re.search(r\"\\b(19|20)\\d{2}\\b\", x.token):\n",
        "        return DATE\n",
        "    return ABSTAIN"
      ],
      "metadata": {
        "id": "NdlmSoCpzbl_"
      },
      "execution_count": 31,
      "outputs": []
    },
    {
      "cell_type": "code",
      "source": [
        "@labeling_function()\n",
        "def lf_org_suffix(x):\n",
        "    if re.search(r\"(Inc\\.|Corp\\.|Ltd\\.)$\", x.token):\n",
        "        return ORG\n",
        "    return ABSTAIN\n"
      ],
      "metadata": {
        "id": "U3Ygi-ILzjDI"
      },
      "execution_count": 32,
      "outputs": []
    },
    {
      "cell_type": "code",
      "source": [
        "def gold_to_label(tag):\n",
        "    if \"ORG\" in tag:\n",
        "        return ORG\n",
        "    elif \"MISC\" in tag:\n",
        "        return DATE\n",
        "    else:\n",
        "        return ABSTAIN\n",
        "\n",
        "df[\"gold_label\"] = df[\"true_label\"].apply(gold_to_label)\n",
        "import numpy as np\n",
        "\n",
        "# Convert to numpy array\n",
        "gold_labels = df[\"gold_label\"].to_numpy()"
      ],
      "metadata": {
        "id": "D0Nk5zsHzlEK"
      },
      "execution_count": 33,
      "outputs": []
    },
    {
      "cell_type": "code",
      "source": [
        "lfs = [lf_detect_year, lf_org_suffix]\n",
        "applier = PandasLFApplier(lfs)\n",
        "L = applier.apply(df)\n"
      ],
      "metadata": {
        "colab": {
          "base_uri": "https://localhost:8080/"
        },
        "id": "Pb_N2mRfzmvr",
        "outputId": "87631ec0-59a4-4cc9-9a86-d1dea9b132e4"
      },
      "execution_count": 34,
      "outputs": [
        {
          "output_type": "stream",
          "name": "stderr",
          "text": [
            "100%|██████████| 203621/203621 [00:09<00:00, 21463.07it/s]\n"
          ]
        }
      ]
    },
    {
      "cell_type": "code",
      "source": [
        "analysis = LFAnalysis(L=L, lfs=lfs).lf_summary(gold_labels)\n",
        "print(analysis)\n"
      ],
      "metadata": {
        "colab": {
          "base_uri": "https://localhost:8080/"
        },
        "id": "EFyKFm1Lzoji",
        "outputId": "d8fa0661-1f7c-418d-bfa4-b433cacd10a9"
      },
      "execution_count": 35,
      "outputs": [
        {
          "output_type": "stream",
          "name": "stdout",
          "text": [
            "                j Polarity  Coverage  Overlaps  Conflicts  Correct  Incorrect  \\\n",
            "lf_detect_year  0      [0]  0.007430       0.0        0.0        4          1   \n",
            "lf_org_suffix   1      [1]  0.000108       0.0        0.0       22          0   \n",
            "\n",
            "                Emp. Acc.  \n",
            "lf_detect_year   0.002644  \n",
            "lf_org_suffix    1.000000  \n"
          ]
        }
      ]
    },
    {
      "cell_type": "code",
      "source": [
        "wandb.init(project=\"Q1-weak-supervision-ner\", name=\"snorkel-lf-summary\", reinit=True)\n",
        "\n",
        "for lf_name in analysis.index:\n",
        "    wandb.log({\n",
        "        f\"{lf_name}_coverage\": analysis.loc[lf_name, \"Coverage\"],\n",
        "        f\"{lf_name}_accuracy\": analysis.loc[lf_name, \"Emp. Acc.\"]\n",
        "    })\n",
        "\n",
        "wandb.finish()"
      ],
      "metadata": {
        "colab": {
          "base_uri": "https://localhost:8080/",
          "height": 543
        },
        "id": "ps9FoLdczsBO",
        "outputId": "b65d1a00-ad2e-400a-8578-82f592a72d1e"
      },
      "execution_count": 36,
      "outputs": [
        {
          "output_type": "stream",
          "name": "stderr",
          "text": [
            "\u001b[34m\u001b[1mwandb\u001b[0m: \u001b[33mWARNING\u001b[0m Using a boolean value for 'reinit' is deprecated. Use 'return_previous' or 'finish_previous' instead.\n"
          ]
        },
        {
          "output_type": "display_data",
          "data": {
            "text/plain": [
              "<IPython.core.display.HTML object>"
            ],
            "text/html": []
          },
          "metadata": {}
        },
        {
          "output_type": "display_data",
          "data": {
            "text/plain": [
              "<IPython.core.display.HTML object>"
            ],
            "text/html": [
              "Tracking run with wandb version 0.22.2"
            ]
          },
          "metadata": {}
        },
        {
          "output_type": "display_data",
          "data": {
            "text/plain": [
              "<IPython.core.display.HTML object>"
            ],
            "text/html": [
              "Run data is saved locally in <code>/content/wandb/run-20251013_141231-z996c9in</code>"
            ]
          },
          "metadata": {}
        },
        {
          "output_type": "display_data",
          "data": {
            "text/plain": [
              "<IPython.core.display.HTML object>"
            ],
            "text/html": [
              "Syncing run <strong><a href='https://wandb.ai/142502011-indian-institute-of-technology-palakkad/Q1-weak-supervision-ner/runs/z996c9in' target=\"_blank\">snorkel-lf-summary</a></strong> to <a href='https://wandb.ai/142502011-indian-institute-of-technology-palakkad/Q1-weak-supervision-ner' target=\"_blank\">Weights & Biases</a> (<a href='https://wandb.me/developer-guide' target=\"_blank\">docs</a>)<br>"
            ]
          },
          "metadata": {}
        },
        {
          "output_type": "display_data",
          "data": {
            "text/plain": [
              "<IPython.core.display.HTML object>"
            ],
            "text/html": [
              " View project at <a href='https://wandb.ai/142502011-indian-institute-of-technology-palakkad/Q1-weak-supervision-ner' target=\"_blank\">https://wandb.ai/142502011-indian-institute-of-technology-palakkad/Q1-weak-supervision-ner</a>"
            ]
          },
          "metadata": {}
        },
        {
          "output_type": "display_data",
          "data": {
            "text/plain": [
              "<IPython.core.display.HTML object>"
            ],
            "text/html": [
              " View run at <a href='https://wandb.ai/142502011-indian-institute-of-technology-palakkad/Q1-weak-supervision-ner/runs/z996c9in' target=\"_blank\">https://wandb.ai/142502011-indian-institute-of-technology-palakkad/Q1-weak-supervision-ner/runs/z996c9in</a>"
            ]
          },
          "metadata": {}
        },
        {
          "output_type": "display_data",
          "data": {
            "text/plain": [
              "<IPython.core.display.HTML object>"
            ],
            "text/html": []
          },
          "metadata": {}
        },
        {
          "output_type": "display_data",
          "data": {
            "text/plain": [
              "<IPython.core.display.HTML object>"
            ],
            "text/html": [
              "<br>    <style><br>        .wandb-row {<br>            display: flex;<br>            flex-direction: row;<br>            flex-wrap: wrap;<br>            justify-content: flex-start;<br>            width: 100%;<br>        }<br>        .wandb-col {<br>            display: flex;<br>            flex-direction: column;<br>            flex-basis: 100%;<br>            flex: 1;<br>            padding: 10px;<br>        }<br>    </style><br><div class=\"wandb-row\"><div class=\"wandb-col\"><h3>Run history:</h3><br/><table class=\"wandb\"><tr><td>lf_detect_year_accuracy</td><td>▁</td></tr><tr><td>lf_detect_year_coverage</td><td>▁</td></tr><tr><td>lf_org_suffix_accuracy</td><td>▁</td></tr><tr><td>lf_org_suffix_coverage</td><td>▁</td></tr></table><br/></div><div class=\"wandb-col\"><h3>Run summary:</h3><br/><table class=\"wandb\"><tr><td>lf_detect_year_accuracy</td><td>0.00264</td></tr><tr><td>lf_detect_year_coverage</td><td>0.00743</td></tr><tr><td>lf_org_suffix_accuracy</td><td>1</td></tr><tr><td>lf_org_suffix_coverage</td><td>0.00011</td></tr></table><br/></div></div>"
            ]
          },
          "metadata": {}
        },
        {
          "output_type": "display_data",
          "data": {
            "text/plain": [
              "<IPython.core.display.HTML object>"
            ],
            "text/html": [
              " View run <strong style=\"color:#cdcd00\">snorkel-lf-summary</strong> at: <a href='https://wandb.ai/142502011-indian-institute-of-technology-palakkad/Q1-weak-supervision-ner/runs/z996c9in' target=\"_blank\">https://wandb.ai/142502011-indian-institute-of-technology-palakkad/Q1-weak-supervision-ner/runs/z996c9in</a><br> View project at: <a href='https://wandb.ai/142502011-indian-institute-of-technology-palakkad/Q1-weak-supervision-ner' target=\"_blank\">https://wandb.ai/142502011-indian-institute-of-technology-palakkad/Q1-weak-supervision-ner</a><br>Synced 5 W&B file(s), 0 media file(s), 0 artifact file(s) and 0 other file(s)"
            ]
          },
          "metadata": {}
        },
        {
          "output_type": "display_data",
          "data": {
            "text/plain": [
              "<IPython.core.display.HTML object>"
            ],
            "text/html": [
              "Find logs at: <code>/content/wandb/run-20251013_141231-z996c9in/logs</code>"
            ]
          },
          "metadata": {}
        }
      ]
    },
    {
      "cell_type": "markdown",
      "source": [
        "**Question3**\n"
      ],
      "metadata": {
        "id": "C88f8QEezykd"
      }
    },
    {
      "cell_type": "code",
      "source": [
        "from snorkel.labeling.model import MajorityLabelVoter\n",
        "\n"
      ],
      "metadata": {
        "id": "KKcs1SGfzuVv"
      },
      "execution_count": 37,
      "outputs": []
    },
    {
      "cell_type": "code",
      "source": [
        "# L is your label matrix from previous step (shape: num_samples x num_LFs)\n",
        "majority_model = MajorityLabelVoter(cardinality=2)"
      ],
      "metadata": {
        "id": "MpIiUawPz4xY"
      },
      "execution_count": 38,
      "outputs": []
    },
    {
      "cell_type": "code",
      "source": [
        "# Predict combined label for each token\n",
        "majority_labels = majority_model.predict(L=L)"
      ],
      "metadata": {
        "id": "qsAebbvZz7BD"
      },
      "execution_count": 39,
      "outputs": []
    },
    {
      "cell_type": "code",
      "source": [
        "import numpy as np\n",
        "\n",
        "# Only evaluate non-abstain predictions\n",
        "mask = majority_labels != -1\n",
        "accuracy = (majority_labels[mask] == df[\"gold_label\"].to_numpy()[mask]).mean()\n",
        "\n",
        "print(f\"Majority Label Voter Accuracy: {accuracy:.4f}\")\n",
        "print(f\"Coverage: {mask.mean():.4f}\")  # fraction of tokens labeled\n"
      ],
      "metadata": {
        "colab": {
          "base_uri": "https://localhost:8080/"
        },
        "id": "UMRybJjXz9A7",
        "outputId": "33db24e6-7adf-48df-f53e-4969825b3b3c"
      },
      "execution_count": 40,
      "outputs": [
        {
          "output_type": "stream",
          "name": "stdout",
          "text": [
            "Majority Label Voter Accuracy: 0.0169\n",
            "Coverage: 0.0075\n"
          ]
        }
      ]
    },
    {
      "cell_type": "code",
      "source": [
        "wandb.init(project=\"Q1-weak-supervision-ner\", name=\"majority-voter\", reinit=True)\n",
        "\n",
        "wandb.log({\n",
        "    \"majority_voter_accuracy\": accuracy,\n",
        "    \"majority_voter_coverage\": mask.mean()\n",
        "})\n",
        "\n",
        "wandb.finish()\n"
      ],
      "metadata": {
        "colab": {
          "base_uri": "https://localhost:8080/",
          "height": 443
        },
        "id": "MI8kuwiuz-rX",
        "outputId": "03ee72e5-76c0-4cb9-e279-42fe758024fa"
      },
      "execution_count": 41,
      "outputs": [
        {
          "output_type": "display_data",
          "data": {
            "text/plain": [
              "<IPython.core.display.HTML object>"
            ],
            "text/html": []
          },
          "metadata": {}
        },
        {
          "output_type": "display_data",
          "data": {
            "text/plain": [
              "<IPython.core.display.HTML object>"
            ],
            "text/html": [
              "Tracking run with wandb version 0.22.2"
            ]
          },
          "metadata": {}
        },
        {
          "output_type": "display_data",
          "data": {
            "text/plain": [
              "<IPython.core.display.HTML object>"
            ],
            "text/html": [
              "Run data is saved locally in <code>/content/wandb/run-20251013_141242-eg8dyv4d</code>"
            ]
          },
          "metadata": {}
        },
        {
          "output_type": "display_data",
          "data": {
            "text/plain": [
              "<IPython.core.display.HTML object>"
            ],
            "text/html": [
              "Syncing run <strong><a href='https://wandb.ai/142502011-indian-institute-of-technology-palakkad/Q1-weak-supervision-ner/runs/eg8dyv4d' target=\"_blank\">majority-voter</a></strong> to <a href='https://wandb.ai/142502011-indian-institute-of-technology-palakkad/Q1-weak-supervision-ner' target=\"_blank\">Weights & Biases</a> (<a href='https://wandb.me/developer-guide' target=\"_blank\">docs</a>)<br>"
            ]
          },
          "metadata": {}
        },
        {
          "output_type": "display_data",
          "data": {
            "text/plain": [
              "<IPython.core.display.HTML object>"
            ],
            "text/html": [
              " View project at <a href='https://wandb.ai/142502011-indian-institute-of-technology-palakkad/Q1-weak-supervision-ner' target=\"_blank\">https://wandb.ai/142502011-indian-institute-of-technology-palakkad/Q1-weak-supervision-ner</a>"
            ]
          },
          "metadata": {}
        },
        {
          "output_type": "display_data",
          "data": {
            "text/plain": [
              "<IPython.core.display.HTML object>"
            ],
            "text/html": [
              " View run at <a href='https://wandb.ai/142502011-indian-institute-of-technology-palakkad/Q1-weak-supervision-ner/runs/eg8dyv4d' target=\"_blank\">https://wandb.ai/142502011-indian-institute-of-technology-palakkad/Q1-weak-supervision-ner/runs/eg8dyv4d</a>"
            ]
          },
          "metadata": {}
        },
        {
          "output_type": "display_data",
          "data": {
            "text/plain": [
              "<IPython.core.display.HTML object>"
            ],
            "text/html": []
          },
          "metadata": {}
        },
        {
          "output_type": "display_data",
          "data": {
            "text/plain": [
              "<IPython.core.display.HTML object>"
            ],
            "text/html": [
              "<br>    <style><br>        .wandb-row {<br>            display: flex;<br>            flex-direction: row;<br>            flex-wrap: wrap;<br>            justify-content: flex-start;<br>            width: 100%;<br>        }<br>        .wandb-col {<br>            display: flex;<br>            flex-direction: column;<br>            flex-basis: 100%;<br>            flex: 1;<br>            padding: 10px;<br>        }<br>    </style><br><div class=\"wandb-row\"><div class=\"wandb-col\"><h3>Run history:</h3><br/><table class=\"wandb\"><tr><td>majority_voter_accuracy</td><td>▁</td></tr><tr><td>majority_voter_coverage</td><td>▁</td></tr></table><br/></div><div class=\"wandb-col\"><h3>Run summary:</h3><br/><table class=\"wandb\"><tr><td>majority_voter_accuracy</td><td>0.01694</td></tr><tr><td>majority_voter_coverage</td><td>0.00754</td></tr></table><br/></div></div>"
            ]
          },
          "metadata": {}
        },
        {
          "output_type": "display_data",
          "data": {
            "text/plain": [
              "<IPython.core.display.HTML object>"
            ],
            "text/html": [
              " View run <strong style=\"color:#cdcd00\">majority-voter</strong> at: <a href='https://wandb.ai/142502011-indian-institute-of-technology-palakkad/Q1-weak-supervision-ner/runs/eg8dyv4d' target=\"_blank\">https://wandb.ai/142502011-indian-institute-of-technology-palakkad/Q1-weak-supervision-ner/runs/eg8dyv4d</a><br> View project at: <a href='https://wandb.ai/142502011-indian-institute-of-technology-palakkad/Q1-weak-supervision-ner' target=\"_blank\">https://wandb.ai/142502011-indian-institute-of-technology-palakkad/Q1-weak-supervision-ner</a><br>Synced 5 W&B file(s), 0 media file(s), 0 artifact file(s) and 0 other file(s)"
            ]
          },
          "metadata": {}
        },
        {
          "output_type": "display_data",
          "data": {
            "text/plain": [
              "<IPython.core.display.HTML object>"
            ],
            "text/html": [
              "Find logs at: <code>/content/wandb/run-20251013_141242-eg8dyv4d/logs</code>"
            ]
          },
          "metadata": {}
        }
      ]
    },
    {
      "cell_type": "code",
      "source": [
        "**Question 4**"
      ],
      "metadata": {
        "id": "QJj7gsjSX1u5"
      },
      "execution_count": null,
      "outputs": []
    },
    {
      "cell_type": "code",
      "source": [
        "import wandb\n",
        "import tensorflow as tf\n",
        "from tensorflow.keras import layers, models\n",
        "\n",
        "def create_model(num_classes):\n",
        "    model = models.Sequential([\n",
        "        layers.Conv2D(32, (3, 3), activation='relu', input_shape=(32, 32, 3)),\n",
        "        layers.MaxPooling2D((2, 2)),\n",
        "        layers.Flatten(),\n",
        "        layers.Dense(64, activation='relu'),\n",
        "        layers.Dense(num_classes, activation='softmax')\n",
        "    ])\n",
        "    return model\n",
        "\n",
        "def train_on_dataset(dataset_name, num_classes, epochs):\n",
        "    (x_train, y_train), (x_test, y_test) = getattr(tf.keras.datasets, dataset_name).load_data()\n",
        "    x_train = x_train.astype('float32') / 255.0\n",
        "    x_test = x_test.astype('float32') / 255.0\n",
        "    y_train = tf.keras.utils.to_categorical(y_train, num_classes)\n",
        "    y_test = tf.keras.utils.to_categorical(y_test, num_classes)\n",
        "\n",
        "    wandb.init(project=\"sequential-cifar\", name=f\"{dataset_name}-run\", reinit=True)\n",
        "    model = create_model(num_classes)\n",
        "    model.compile(optimizer='adam', loss='categorical_crossentropy', metrics=['accuracy'])\n",
        "\n",
        "    # Use minimal W&B callback avoiding model graph logging entirely\n",
        "    class CustomWandbCallback(tf.keras.callbacks.Callback):\n",
        "        def on_epoch_end(self, epoch, logs=None):\n",
        "            if logs is not None:\n",
        "                wandb.log(logs)\n",
        "\n",
        "        def on_train_end(self, logs=None):\n",
        "            wandb.finish()\n",
        "\n",
        "    model.fit(x_train, y_train,\n",
        "              epochs=epochs,\n",
        "              validation_data=(x_test, y_test),\n",
        "              callbacks=[CustomWandbCallback()])\n",
        "\n",
        "    return model\n",
        "\n",
        "\n"
      ],
      "metadata": {
        "id": "281FWF7D0AfT"
      },
      "execution_count": 42,
      "outputs": []
    },
    {
      "cell_type": "code",
      "source": [
        "import wandb\n",
        "import tensorflow as tf\n",
        "from tensorflow.keras import layers, models\n",
        "\n",
        "def create_model(num_classes):\n",
        "    model = models.Sequential([\n",
        "        layers.Conv2D(32, (3, 3), activation='relu', input_shape=(32, 32, 3)),\n",
        "        layers.MaxPooling2D((2, 2)),\n",
        "        layers.Flatten(),\n",
        "        layers.Dense(64, activation='relu'),\n",
        "        layers.Dense(num_classes, activation='softmax')\n",
        "    ])\n",
        "    return model\n",
        "\n",
        "def train_on_dataset(dataset_name, num_classes, epochs):\n",
        "    (x_train, y_train), (x_test, y_test) = getattr(tf.keras.datasets, dataset_name).load_data()\n",
        "    x_train = x_train.astype('float32') / 255.0\n",
        "    x_test = x_test.astype('float32') / 255.0\n",
        "    y_train = tf.keras.utils.to_categorical(y_train, num_classes)\n",
        "    y_test = tf.keras.utils.to_categorical(y_test, num_classes)\n",
        "\n",
        "    wandb.init(project=\"sequential-cifar\", name=f\"{dataset_name}-run\", reinit=True)\n",
        "    model = create_model(num_classes)\n",
        "    model.compile(optimizer='adam', loss='categorical_crossentropy', metrics=['accuracy'])\n",
        "\n",
        "    # Use minimal W&B callback avoiding model graph logging entirely\n",
        "    class CustomWandbCallback(tf.keras.callbacks.Callback):\n",
        "        def on_epoch_end(self, epoch, logs=None):\n",
        "            if logs is not None:\n",
        "                wandb.log(logs)\n",
        "\n",
        "        def on_train_end(self, logs=None):\n",
        "            wandb.finish()\n",
        "\n",
        "    model.fit(x_train, y_train,\n",
        "              epochs=epochs,\n",
        "              validation_data=(x_test, y_test),\n",
        "              callbacks=[CustomWandbCallback()])\n",
        "\n",
        "    return model\n",
        "\n",
        "\n"
      ],
      "metadata": {
        "id": "gefYb5dL0EjD"
      },
      "execution_count": 43,
      "outputs": []
    },
    {
      "cell_type": "code",
      "source": [
        "# Run sequential training experiments\n",
        "\n",
        "model_100 = train_on_dataset('cifar100', 100, 100)\n",
        "model_10_from_100 = train_on_dataset('cifar10', 10, 100)\n",
        "\n",
        "model_10 = train_on_dataset('cifar10', 10, 100)\n",
        "model_100_from_10 = train_on_dataset('cifar100', 100, 100)"
      ],
      "metadata": {
        "colab": {
          "base_uri": "https://localhost:8080/",
          "height": 1000
        },
        "id": "9041tv_w0TNM",
        "outputId": "f51dd9ba-12b0-44a0-9eb5-7f4d700e3bbb"
      },
      "execution_count": null,
      "outputs": [
        {
          "output_type": "stream",
          "name": "stdout",
          "text": [
            "Downloading data from https://www.cs.toronto.edu/~kriz/cifar-100-python.tar.gz\n",
            "\u001b[1m169001437/169001437\u001b[0m \u001b[32m━━━━━━━━━━━━━━━━━━━━\u001b[0m\u001b[37m\u001b[0m \u001b[1m8s\u001b[0m 0us/step\n"
          ]
        },
        {
          "output_type": "display_data",
          "data": {
            "text/plain": [
              "<IPython.core.display.HTML object>"
            ],
            "text/html": []
          },
          "metadata": {}
        },
        {
          "output_type": "display_data",
          "data": {
            "text/plain": [
              "<IPython.core.display.HTML object>"
            ],
            "text/html": [
              "Tracking run with wandb version 0.22.2"
            ]
          },
          "metadata": {}
        },
        {
          "output_type": "display_data",
          "data": {
            "text/plain": [
              "<IPython.core.display.HTML object>"
            ],
            "text/html": [
              "Run data is saved locally in <code>/content/wandb/run-20251013_141300-5suxazrd</code>"
            ]
          },
          "metadata": {}
        },
        {
          "output_type": "display_data",
          "data": {
            "text/plain": [
              "<IPython.core.display.HTML object>"
            ],
            "text/html": [
              "Syncing run <strong><a href='https://wandb.ai/142502011-indian-institute-of-technology-palakkad/sequential-cifar/runs/5suxazrd' target=\"_blank\">cifar100-run</a></strong> to <a href='https://wandb.ai/142502011-indian-institute-of-technology-palakkad/sequential-cifar' target=\"_blank\">Weights & Biases</a> (<a href='https://wandb.me/developer-guide' target=\"_blank\">docs</a>)<br>"
            ]
          },
          "metadata": {}
        },
        {
          "output_type": "display_data",
          "data": {
            "text/plain": [
              "<IPython.core.display.HTML object>"
            ],
            "text/html": [
              " View project at <a href='https://wandb.ai/142502011-indian-institute-of-technology-palakkad/sequential-cifar' target=\"_blank\">https://wandb.ai/142502011-indian-institute-of-technology-palakkad/sequential-cifar</a>"
            ]
          },
          "metadata": {}
        },
        {
          "output_type": "display_data",
          "data": {
            "text/plain": [
              "<IPython.core.display.HTML object>"
            ],
            "text/html": [
              " View run at <a href='https://wandb.ai/142502011-indian-institute-of-technology-palakkad/sequential-cifar/runs/5suxazrd' target=\"_blank\">https://wandb.ai/142502011-indian-institute-of-technology-palakkad/sequential-cifar/runs/5suxazrd</a>"
            ]
          },
          "metadata": {}
        },
        {
          "output_type": "stream",
          "name": "stderr",
          "text": [
            "/usr/local/lib/python3.12/dist-packages/keras/src/layers/convolutional/base_conv.py:113: UserWarning: Do not pass an `input_shape`/`input_dim` argument to a layer. When using Sequential models, prefer using an `Input(shape)` object as the first layer in the model instead.\n",
            "  super().__init__(activity_regularizer=activity_regularizer, **kwargs)\n"
          ]
        },
        {
          "output_type": "stream",
          "name": "stdout",
          "text": [
            "Epoch 1/100\n",
            "\u001b[1m1563/1563\u001b[0m \u001b[32m━━━━━━━━━━━━━━━━━━━━\u001b[0m\u001b[37m\u001b[0m \u001b[1m47s\u001b[0m 29ms/step - accuracy: 0.0731 - loss: 4.1657 - val_accuracy: 0.1735 - val_loss: 3.4520\n",
            "Epoch 2/100\n",
            "\u001b[1m1563/1563\u001b[0m \u001b[32m━━━━━━━━━━━━━━━━━━━━\u001b[0m\u001b[37m\u001b[0m \u001b[1m44s\u001b[0m 28ms/step - accuracy: 0.2233 - loss: 3.2233 - val_accuracy: 0.2448 - val_loss: 3.1267\n",
            "Epoch 3/100\n",
            "\u001b[1m1563/1563\u001b[0m \u001b[32m━━━━━━━━━━━━━━━━━━━━\u001b[0m\u001b[37m\u001b[0m \u001b[1m45s\u001b[0m 28ms/step - accuracy: 0.2656 - loss: 2.9679 - val_accuracy: 0.2634 - val_loss: 3.0251\n",
            "Epoch 4/100\n",
            "\u001b[1m1563/1563\u001b[0m \u001b[32m━━━━━━━━━━━━━━━━━━━━\u001b[0m\u001b[37m\u001b[0m \u001b[1m85s\u001b[0m 30ms/step - accuracy: 0.2903 - loss: 2.8336 - val_accuracy: 0.2683 - val_loss: 2.9910\n",
            "Epoch 5/100\n",
            "\u001b[1m1563/1563\u001b[0m \u001b[32m━━━━━━━━━━━━━━━━━━━━\u001b[0m\u001b[37m\u001b[0m \u001b[1m45s\u001b[0m 29ms/step - accuracy: 0.3133 - loss: 2.7327 - val_accuracy: 0.2789 - val_loss: 2.9554\n",
            "Epoch 6/100\n",
            "\u001b[1m1563/1563\u001b[0m \u001b[32m━━━━━━━━━━━━━━━━━━━━\u001b[0m\u001b[37m\u001b[0m \u001b[1m44s\u001b[0m 28ms/step - accuracy: 0.3318 - loss: 2.6457 - val_accuracy: 0.2818 - val_loss: 2.9353\n",
            "Epoch 7/100\n",
            "\u001b[1m1563/1563\u001b[0m \u001b[32m━━━━━━━━━━━━━━━━━━━━\u001b[0m\u001b[37m\u001b[0m \u001b[1m45s\u001b[0m 29ms/step - accuracy: 0.3409 - loss: 2.5895 - val_accuracy: 0.2932 - val_loss: 2.8890\n",
            "Epoch 8/100\n",
            "\u001b[1m1563/1563\u001b[0m \u001b[32m━━━━━━━━━━━━━━━━━━━━\u001b[0m\u001b[37m\u001b[0m \u001b[1m45s\u001b[0m 28ms/step - accuracy: 0.3560 - loss: 2.5092 - val_accuracy: 0.2984 - val_loss: 2.8662\n",
            "Epoch 9/100\n",
            "\u001b[1m1563/1563\u001b[0m \u001b[32m━━━━━━━━━━━━━━━━━━━━\u001b[0m\u001b[37m\u001b[0m \u001b[1m43s\u001b[0m 28ms/step - accuracy: 0.3764 - loss: 2.4141 - val_accuracy: 0.3049 - val_loss: 2.8347\n",
            "Epoch 10/100\n",
            "\u001b[1m1563/1563\u001b[0m \u001b[32m━━━━━━━━━━━━━━━━━━━━\u001b[0m\u001b[37m\u001b[0m \u001b[1m43s\u001b[0m 28ms/step - accuracy: 0.3862 - loss: 2.3646 - val_accuracy: 0.3024 - val_loss: 2.8320\n",
            "Epoch 11/100\n",
            "\u001b[1m1563/1563\u001b[0m \u001b[32m━━━━━━━━━━━━━━━━━━━━\u001b[0m\u001b[37m\u001b[0m \u001b[1m44s\u001b[0m 28ms/step - accuracy: 0.3980 - loss: 2.2981 - val_accuracy: 0.3018 - val_loss: 2.8834\n",
            "Epoch 12/100\n",
            "\u001b[1m1563/1563\u001b[0m \u001b[32m━━━━━━━━━━━━━━━━━━━━\u001b[0m\u001b[37m\u001b[0m \u001b[1m45s\u001b[0m 28ms/step - accuracy: 0.4159 - loss: 2.2348 - val_accuracy: 0.3119 - val_loss: 2.8656\n",
            "Epoch 13/100\n",
            "\u001b[1m1563/1563\u001b[0m \u001b[32m━━━━━━━━━━━━━━━━━━━━\u001b[0m\u001b[37m\u001b[0m \u001b[1m84s\u001b[0m 30ms/step - accuracy: 0.4255 - loss: 2.1851 - val_accuracy: 0.3090 - val_loss: 2.8701\n",
            "Epoch 14/100\n",
            "\u001b[1m1563/1563\u001b[0m \u001b[32m━━━━━━━━━━━━━━━━━━━━\u001b[0m\u001b[37m\u001b[0m \u001b[1m44s\u001b[0m 28ms/step - accuracy: 0.4358 - loss: 2.1201 - val_accuracy: 0.3019 - val_loss: 2.9349\n",
            "Epoch 15/100\n",
            "\u001b[1m1563/1563\u001b[0m \u001b[32m━━━━━━━━━━━━━━━━━━━━\u001b[0m\u001b[37m\u001b[0m \u001b[1m83s\u001b[0m 29ms/step - accuracy: 0.4453 - loss: 2.0784 - val_accuracy: 0.3036 - val_loss: 2.9075\n",
            "Epoch 16/100\n",
            "\u001b[1m1563/1563\u001b[0m \u001b[32m━━━━━━━━━━━━━━━━━━━━\u001b[0m\u001b[37m\u001b[0m \u001b[1m47s\u001b[0m 30ms/step - accuracy: 0.4517 - loss: 2.0477 - val_accuracy: 0.3086 - val_loss: 2.9551\n",
            "Epoch 17/100\n",
            "\u001b[1m1563/1563\u001b[0m \u001b[32m━━━━━━━━━━━━━━━━━━━━\u001b[0m\u001b[37m\u001b[0m \u001b[1m44s\u001b[0m 28ms/step - accuracy: 0.4639 - loss: 2.0070 - val_accuracy: 0.3027 - val_loss: 2.9686\n",
            "Epoch 18/100\n",
            "\u001b[1m1563/1563\u001b[0m \u001b[32m━━━━━━━━━━━━━━━━━━━━\u001b[0m\u001b[37m\u001b[0m \u001b[1m45s\u001b[0m 29ms/step - accuracy: 0.4746 - loss: 1.9624 - val_accuracy: 0.3034 - val_loss: 2.9724\n",
            "Epoch 19/100\n",
            "\u001b[1m1563/1563\u001b[0m \u001b[32m━━━━━━━━━━━━━━━━━━━━\u001b[0m\u001b[37m\u001b[0m \u001b[1m45s\u001b[0m 29ms/step - accuracy: 0.4832 - loss: 1.9167 - val_accuracy: 0.3037 - val_loss: 2.9996\n",
            "Epoch 20/100\n",
            "\u001b[1m1563/1563\u001b[0m \u001b[32m━━━━━━━━━━━━━━━━━━━━\u001b[0m\u001b[37m\u001b[0m \u001b[1m46s\u001b[0m 30ms/step - accuracy: 0.4865 - loss: 1.8916 - val_accuracy: 0.2916 - val_loss: 3.1195\n",
            "Epoch 21/100\n",
            "\u001b[1m1563/1563\u001b[0m \u001b[32m━━━━━━━━━━━━━━━━━━━━\u001b[0m\u001b[37m\u001b[0m \u001b[1m45s\u001b[0m 29ms/step - accuracy: 0.4969 - loss: 1.8423 - val_accuracy: 0.2909 - val_loss: 3.1139\n",
            "Epoch 22/100\n",
            "\u001b[1m1563/1563\u001b[0m \u001b[32m━━━━━━━━━━━━━━━━━━━━\u001b[0m\u001b[37m\u001b[0m \u001b[1m45s\u001b[0m 29ms/step - accuracy: 0.5040 - loss: 1.8158 - val_accuracy: 0.3004 - val_loss: 3.1531\n",
            "Epoch 23/100\n",
            "\u001b[1m1563/1563\u001b[0m \u001b[32m━━━━━━━━━━━━━━━━━━━━\u001b[0m\u001b[37m\u001b[0m \u001b[1m44s\u001b[0m 28ms/step - accuracy: 0.5128 - loss: 1.7781 - val_accuracy: 0.2979 - val_loss: 3.1760\n",
            "Epoch 24/100\n",
            "\u001b[1m1563/1563\u001b[0m \u001b[32m━━━━━━━━━━━━━━━━━━━━\u001b[0m\u001b[37m\u001b[0m \u001b[1m47s\u001b[0m 30ms/step - accuracy: 0.5194 - loss: 1.7481 - val_accuracy: 0.2896 - val_loss: 3.2690\n",
            "Epoch 25/100\n",
            "\u001b[1m1563/1563\u001b[0m \u001b[32m━━━━━━━━━━━━━━━━━━━━\u001b[0m\u001b[37m\u001b[0m \u001b[1m46s\u001b[0m 29ms/step - accuracy: 0.5272 - loss: 1.7063 - val_accuracy: 0.2820 - val_loss: 3.3683\n",
            "Epoch 26/100\n",
            "\u001b[1m1563/1563\u001b[0m \u001b[32m━━━━━━━━━━━━━━━━━━━━\u001b[0m\u001b[37m\u001b[0m \u001b[1m46s\u001b[0m 29ms/step - accuracy: 0.5321 - loss: 1.6847 - val_accuracy: 0.2871 - val_loss: 3.3477\n",
            "Epoch 27/100\n",
            "\u001b[1m1563/1563\u001b[0m \u001b[32m━━━━━━━━━━━━━━━━━━━━\u001b[0m\u001b[37m\u001b[0m \u001b[1m47s\u001b[0m 30ms/step - accuracy: 0.5423 - loss: 1.6462 - val_accuracy: 0.2882 - val_loss: 3.3181\n",
            "Epoch 28/100\n",
            "\u001b[1m1563/1563\u001b[0m \u001b[32m━━━━━━━━━━━━━━━━━━━━\u001b[0m\u001b[37m\u001b[0m \u001b[1m47s\u001b[0m 30ms/step - accuracy: 0.5424 - loss: 1.6432 - val_accuracy: 0.2884 - val_loss: 3.3562\n",
            "Epoch 29/100\n",
            "\u001b[1m1563/1563\u001b[0m \u001b[32m━━━━━━━━━━━━━━━━━━━━\u001b[0m\u001b[37m\u001b[0m \u001b[1m46s\u001b[0m 29ms/step - accuracy: 0.5477 - loss: 1.6134 - val_accuracy: 0.2846 - val_loss: 3.4382\n",
            "Epoch 30/100\n",
            "\u001b[1m1563/1563\u001b[0m \u001b[32m━━━━━━━━━━━━━━━━━━━━\u001b[0m\u001b[37m\u001b[0m \u001b[1m83s\u001b[0m 30ms/step - accuracy: 0.5579 - loss: 1.5631 - val_accuracy: 0.2785 - val_loss: 3.4870\n",
            "Epoch 31/100\n",
            "\u001b[1m1563/1563\u001b[0m \u001b[32m━━━━━━━━━━━━━━━━━━━━\u001b[0m\u001b[37m\u001b[0m \u001b[1m85s\u001b[0m 32ms/step - accuracy: 0.5604 - loss: 1.5524 - val_accuracy: 0.2824 - val_loss: 3.5446\n",
            "Epoch 32/100\n",
            "\u001b[1m1563/1563\u001b[0m \u001b[32m━━━━━━━━━━━━━━━━━━━━\u001b[0m\u001b[37m\u001b[0m \u001b[1m79s\u001b[0m 30ms/step - accuracy: 0.5722 - loss: 1.5259 - val_accuracy: 0.2816 - val_loss: 3.5724\n",
            "Epoch 33/100\n",
            "\u001b[1m1563/1563\u001b[0m \u001b[32m━━━━━━━━━━━━━━━━━━━━\u001b[0m\u001b[37m\u001b[0m \u001b[1m45s\u001b[0m 29ms/step - accuracy: 0.5753 - loss: 1.5013 - val_accuracy: 0.2827 - val_loss: 3.6532\n",
            "Epoch 34/100\n",
            "\u001b[1m1563/1563\u001b[0m \u001b[32m━━━━━━━━━━━━━━━━━━━━\u001b[0m\u001b[37m\u001b[0m \u001b[1m45s\u001b[0m 29ms/step - accuracy: 0.5757 - loss: 1.4847 - val_accuracy: 0.2723 - val_loss: 3.7255\n",
            "Epoch 35/100\n",
            "\u001b[1m1563/1563\u001b[0m \u001b[32m━━━━━━━━━━━━━━━━━━━━\u001b[0m\u001b[37m\u001b[0m \u001b[1m85s\u001b[0m 31ms/step - accuracy: 0.5874 - loss: 1.4572 - val_accuracy: 0.2766 - val_loss: 3.7712\n",
            "Epoch 36/100\n",
            "\u001b[1m1563/1563\u001b[0m \u001b[32m━━━━━━━━━━━━━━━━━━━━\u001b[0m\u001b[37m\u001b[0m \u001b[1m45s\u001b[0m 29ms/step - accuracy: 0.5908 - loss: 1.4351 - val_accuracy: 0.2752 - val_loss: 3.8006\n",
            "Epoch 37/100\n",
            "\u001b[1m1563/1563\u001b[0m \u001b[32m━━━━━━━━━━━━━━━━━━━━\u001b[0m\u001b[37m\u001b[0m \u001b[1m45s\u001b[0m 29ms/step - accuracy: 0.5952 - loss: 1.4089 - val_accuracy: 0.2746 - val_loss: 3.8490\n",
            "Epoch 38/100\n",
            "\u001b[1m1563/1563\u001b[0m \u001b[32m━━━━━━━━━━━━━━━━━━━━\u001b[0m\u001b[37m\u001b[0m \u001b[1m45s\u001b[0m 29ms/step - accuracy: 0.6040 - loss: 1.3830 - val_accuracy: 0.2714 - val_loss: 3.8404\n",
            "Epoch 39/100\n",
            "\u001b[1m1563/1563\u001b[0m \u001b[32m━━━━━━━━━━━━━━━━━━━━\u001b[0m\u001b[37m\u001b[0m \u001b[1m46s\u001b[0m 30ms/step - accuracy: 0.6086 - loss: 1.3554 - val_accuracy: 0.2764 - val_loss: 3.9080\n",
            "Epoch 40/100\n",
            "\u001b[1m1563/1563\u001b[0m \u001b[32m━━━━━━━━━━━━━━━━━━━━\u001b[0m\u001b[37m\u001b[0m \u001b[1m82s\u001b[0m 30ms/step - accuracy: 0.6147 - loss: 1.3394 - val_accuracy: 0.2681 - val_loss: 4.0047\n",
            "Epoch 41/100\n",
            "\u001b[1m1563/1563\u001b[0m \u001b[32m━━━━━━━━━━━━━━━━━━━━\u001b[0m\u001b[37m\u001b[0m \u001b[1m46s\u001b[0m 30ms/step - accuracy: 0.6188 - loss: 1.3223 - val_accuracy: 0.2657 - val_loss: 4.1487\n",
            "Epoch 42/100\n",
            "\u001b[1m1563/1563\u001b[0m \u001b[32m━━━━━━━━━━━━━━━━━━━━\u001b[0m\u001b[37m\u001b[0m \u001b[1m47s\u001b[0m 30ms/step - accuracy: 0.6235 - loss: 1.3100 - val_accuracy: 0.2678 - val_loss: 4.1113\n",
            "Epoch 43/100\n",
            "\u001b[1m1563/1563\u001b[0m \u001b[32m━━━━━━━━━━━━━━━━━━━━\u001b[0m\u001b[37m\u001b[0m \u001b[1m48s\u001b[0m 30ms/step - accuracy: 0.6282 - loss: 1.2851 - val_accuracy: 0.2648 - val_loss: 4.1743\n",
            "Epoch 44/100\n",
            "\u001b[1m1563/1563\u001b[0m \u001b[32m━━━━━━━━━━━━━━━━━━━━\u001b[0m\u001b[37m\u001b[0m \u001b[1m47s\u001b[0m 30ms/step - accuracy: 0.6323 - loss: 1.2709 - val_accuracy: 0.2652 - val_loss: 4.2239\n",
            "Epoch 45/100\n",
            "\u001b[1m1563/1563\u001b[0m \u001b[32m━━━━━━━━━━━━━━━━━━━━\u001b[0m\u001b[37m\u001b[0m \u001b[1m81s\u001b[0m 29ms/step - accuracy: 0.6438 - loss: 1.2303 - val_accuracy: 0.2668 - val_loss: 4.2772\n",
            "Epoch 46/100\n",
            "\u001b[1m1563/1563\u001b[0m \u001b[32m━━━━━━━━━━━━━━━━━━━━\u001b[0m\u001b[37m\u001b[0m \u001b[1m84s\u001b[0m 31ms/step - accuracy: 0.6424 - loss: 1.2298 - val_accuracy: 0.2676 - val_loss: 4.3549\n",
            "Epoch 47/100\n",
            "\u001b[1m1563/1563\u001b[0m \u001b[32m━━━━━━━━━━━━━━━━━━━━\u001b[0m\u001b[37m\u001b[0m \u001b[1m83s\u001b[0m 31ms/step - accuracy: 0.6467 - loss: 1.2150 - val_accuracy: 0.2609 - val_loss: 4.4972\n",
            "Epoch 48/100\n",
            "\u001b[1m1563/1563\u001b[0m \u001b[32m━━━━━━━━━━━━━━━━━━━━\u001b[0m\u001b[37m\u001b[0m \u001b[1m79s\u001b[0m 29ms/step - accuracy: 0.6577 - loss: 1.1769 - val_accuracy: 0.2588 - val_loss: 4.4864\n",
            "Epoch 49/100\n",
            "\u001b[1m1563/1563\u001b[0m \u001b[32m━━━━━━━━━━━━━━━━━━━━\u001b[0m\u001b[37m\u001b[0m \u001b[1m82s\u001b[0m 29ms/step - accuracy: 0.6603 - loss: 1.1561 - val_accuracy: 0.2635 - val_loss: 4.5929\n",
            "Epoch 50/100\n",
            "\u001b[1m1563/1563\u001b[0m \u001b[32m━━━━━━━━━━━━━━━━━━━━\u001b[0m\u001b[37m\u001b[0m \u001b[1m45s\u001b[0m 29ms/step - accuracy: 0.6564 - loss: 1.1714 - val_accuracy: 0.2624 - val_loss: 4.6388\n",
            "Epoch 51/100\n",
            "\u001b[1m1563/1563\u001b[0m \u001b[32m━━━━━━━━━━━━━━━━━━━━\u001b[0m\u001b[37m\u001b[0m \u001b[1m86s\u001b[0m 31ms/step - accuracy: 0.6643 - loss: 1.1325 - val_accuracy: 0.2624 - val_loss: 4.6876\n",
            "Epoch 52/100\n",
            "\u001b[1m1563/1563\u001b[0m \u001b[32m━━━━━━━━━━━━━━━━━━━━\u001b[0m\u001b[37m\u001b[0m \u001b[1m46s\u001b[0m 29ms/step - accuracy: 0.6650 - loss: 1.1376 - val_accuracy: 0.2547 - val_loss: 4.7411\n",
            "Epoch 53/100\n",
            "\u001b[1m1563/1563\u001b[0m \u001b[32m━━━━━━━━━━━━━━━━━━━━\u001b[0m\u001b[37m\u001b[0m \u001b[1m82s\u001b[0m 29ms/step - accuracy: 0.6717 - loss: 1.1066 - val_accuracy: 0.2492 - val_loss: 4.8709\n",
            "Epoch 54/100\n",
            "\u001b[1m1563/1563\u001b[0m \u001b[32m━━━━━━━━━━━━━━━━━━━━\u001b[0m\u001b[37m\u001b[0m \u001b[1m47s\u001b[0m 30ms/step - accuracy: 0.6714 - loss: 1.0981 - val_accuracy: 0.2558 - val_loss: 4.9744\n",
            "Epoch 55/100\n",
            "\u001b[1m1563/1563\u001b[0m \u001b[32m━━━━━━━━━━━━━━━━━━━━\u001b[0m\u001b[37m\u001b[0m \u001b[1m45s\u001b[0m 29ms/step - accuracy: 0.6772 - loss: 1.0844 - val_accuracy: 0.2568 - val_loss: 4.9325\n",
            "Epoch 56/100\n",
            "\u001b[1m1563/1563\u001b[0m \u001b[32m━━━━━━━━━━━━━━━━━━━━\u001b[0m\u001b[37m\u001b[0m \u001b[1m44s\u001b[0m 28ms/step - accuracy: 0.6829 - loss: 1.0640 - val_accuracy: 0.2552 - val_loss: 5.0629\n",
            "Epoch 57/100\n",
            "\u001b[1m1563/1563\u001b[0m \u001b[32m━━━━━━━━━━━━━━━━━━━━\u001b[0m\u001b[37m\u001b[0m \u001b[1m85s\u001b[0m 30ms/step - accuracy: 0.6799 - loss: 1.0591 - val_accuracy: 0.2548 - val_loss: 5.1247\n",
            "Epoch 58/100\n",
            "\u001b[1m1563/1563\u001b[0m \u001b[32m━━━━━━━━━━━━━━━━━━━━\u001b[0m\u001b[37m\u001b[0m \u001b[1m45s\u001b[0m 29ms/step - accuracy: 0.6816 - loss: 1.0582 - val_accuracy: 0.2556 - val_loss: 5.1607\n",
            "Epoch 59/100\n",
            "\u001b[1m1563/1563\u001b[0m \u001b[32m━━━━━━━━━━━━━━━━━━━━\u001b[0m\u001b[37m\u001b[0m \u001b[1m46s\u001b[0m 29ms/step - accuracy: 0.6939 - loss: 1.0267 - val_accuracy: 0.2506 - val_loss: 5.2307\n",
            "Epoch 60/100\n",
            "\u001b[1m1563/1563\u001b[0m \u001b[32m━━━━━━━━━━━━━━━━━━━━\u001b[0m\u001b[37m\u001b[0m \u001b[1m46s\u001b[0m 29ms/step - accuracy: 0.6963 - loss: 1.0170 - val_accuracy: 0.2484 - val_loss: 5.4464\n",
            "Epoch 61/100\n",
            "\u001b[1m1563/1563\u001b[0m \u001b[32m━━━━━━━━━━━━━━━━━━━━\u001b[0m\u001b[37m\u001b[0m \u001b[1m48s\u001b[0m 31ms/step - accuracy: 0.6967 - loss: 1.0090 - val_accuracy: 0.2500 - val_loss: 5.4619\n",
            "Epoch 62/100\n",
            "\u001b[1m1563/1563\u001b[0m \u001b[32m━━━━━━━━━━━━━━━━━━━━\u001b[0m\u001b[37m\u001b[0m \u001b[1m46s\u001b[0m 29ms/step - accuracy: 0.7037 - loss: 0.9816 - val_accuracy: 0.2481 - val_loss: 5.4659\n",
            "Epoch 63/100\n",
            "\u001b[1m1563/1563\u001b[0m \u001b[32m━━━━━━━━━━━━━━━━━━━━\u001b[0m\u001b[37m\u001b[0m \u001b[1m49s\u001b[0m 31ms/step - accuracy: 0.7001 - loss: 0.9906 - val_accuracy: 0.2456 - val_loss: 5.6144\n",
            "Epoch 64/100\n",
            "\u001b[1m1563/1563\u001b[0m \u001b[32m━━━━━━━━━━━━━━━━━━━━\u001b[0m\u001b[37m\u001b[0m \u001b[1m46s\u001b[0m 30ms/step - accuracy: 0.7040 - loss: 0.9766 - val_accuracy: 0.2465 - val_loss: 5.6569\n",
            "Epoch 65/100\n",
            "\u001b[1m1563/1563\u001b[0m \u001b[32m━━━━━━━━━━━━━━━━━━━━\u001b[0m\u001b[37m\u001b[0m \u001b[1m45s\u001b[0m 28ms/step - accuracy: 0.7102 - loss: 0.9603 - val_accuracy: 0.2504 - val_loss: 5.6402\n",
            "Epoch 66/100\n",
            "\u001b[1m1563/1563\u001b[0m \u001b[32m━━━━━━━━━━━━━━━━━━━━\u001b[0m\u001b[37m\u001b[0m \u001b[1m45s\u001b[0m 29ms/step - accuracy: 0.7167 - loss: 0.9393 - val_accuracy: 0.2442 - val_loss: 5.7383\n",
            "Epoch 67/100\n",
            "\u001b[1m1563/1563\u001b[0m \u001b[32m━━━━━━━━━━━━━━━━━━━━\u001b[0m\u001b[37m\u001b[0m \u001b[1m83s\u001b[0m 30ms/step - accuracy: 0.7171 - loss: 0.9286 - val_accuracy: 0.2399 - val_loss: 5.8269\n",
            "Epoch 68/100\n",
            "\u001b[1m1563/1563\u001b[0m \u001b[32m━━━━━━━━━━━━━━━━━━━━\u001b[0m\u001b[37m\u001b[0m \u001b[1m44s\u001b[0m 28ms/step - accuracy: 0.7189 - loss: 0.9268 - val_accuracy: 0.2443 - val_loss: 5.9243\n",
            "Epoch 69/100\n",
            "\u001b[1m1563/1563\u001b[0m \u001b[32m━━━━━━━━━━━━━━━━━━━━\u001b[0m\u001b[37m\u001b[0m \u001b[1m45s\u001b[0m 29ms/step - accuracy: 0.7230 - loss: 0.9129 - val_accuracy: 0.2410 - val_loss: 5.9290\n",
            "Epoch 70/100\n",
            "\u001b[1m1563/1563\u001b[0m \u001b[32m━━━━━━━━━━━━━━━━━━━━\u001b[0m\u001b[37m\u001b[0m \u001b[1m45s\u001b[0m 29ms/step - accuracy: 0.7258 - loss: 0.9000 - val_accuracy: 0.2460 - val_loss: 5.9938\n",
            "Epoch 71/100\n",
            "\u001b[1m1563/1563\u001b[0m \u001b[32m━━━━━━━━━━━━━━━━━━━━\u001b[0m\u001b[37m\u001b[0m \u001b[1m46s\u001b[0m 30ms/step - accuracy: 0.7328 - loss: 0.8811 - val_accuracy: 0.2407 - val_loss: 6.1157\n",
            "Epoch 72/100\n",
            "\u001b[1m1563/1563\u001b[0m \u001b[32m━━━━━━━━━━━━━━━━━━━━\u001b[0m\u001b[37m\u001b[0m \u001b[1m45s\u001b[0m 29ms/step - accuracy: 0.7321 - loss: 0.8820 - val_accuracy: 0.2364 - val_loss: 6.2245\n",
            "Epoch 73/100\n",
            "\u001b[1m1563/1563\u001b[0m \u001b[32m━━━━━━━━━━━━━━━━━━━━\u001b[0m\u001b[37m\u001b[0m \u001b[1m44s\u001b[0m 28ms/step - accuracy: 0.7347 - loss: 0.8775 - val_accuracy: 0.2393 - val_loss: 6.1799\n",
            "Epoch 74/100\n",
            "\u001b[1m1563/1563\u001b[0m \u001b[32m━━━━━━━━━━━━━━━━━━━━\u001b[0m\u001b[37m\u001b[0m \u001b[1m84s\u001b[0m 29ms/step - accuracy: 0.7375 - loss: 0.8629 - val_accuracy: 0.2397 - val_loss: 6.3873\n",
            "Epoch 75/100\n",
            "\u001b[1m1563/1563\u001b[0m \u001b[32m━━━━━━━━━━━━━━━━━━━━\u001b[0m\u001b[37m\u001b[0m \u001b[1m47s\u001b[0m 30ms/step - accuracy: 0.7413 - loss: 0.8409 - val_accuracy: 0.2411 - val_loss: 6.4140\n",
            "Epoch 76/100\n",
            "\u001b[1m1563/1563\u001b[0m \u001b[32m━━━━━━━━━━━━━━━━━━━━\u001b[0m\u001b[37m\u001b[0m \u001b[1m81s\u001b[0m 29ms/step - accuracy: 0.7467 - loss: 0.8310 - val_accuracy: 0.2369 - val_loss: 6.5071\n",
            "Epoch 77/100\n",
            "\u001b[1m1563/1563\u001b[0m \u001b[32m━━━━━━━━━━━━━━━━━━━━\u001b[0m\u001b[37m\u001b[0m \u001b[1m45s\u001b[0m 29ms/step - accuracy: 0.7411 - loss: 0.8454 - val_accuracy: 0.2343 - val_loss: 6.7207\n",
            "Epoch 78/100\n",
            "\u001b[1m1563/1563\u001b[0m \u001b[32m━━━━━━━━━━━━━━━━━━━━\u001b[0m\u001b[37m\u001b[0m \u001b[1m51s\u001b[0m 33ms/step - accuracy: 0.7416 - loss: 0.8324 - val_accuracy: 0.2379 - val_loss: 6.5665\n",
            "Epoch 79/100\n",
            "\u001b[1m1563/1563\u001b[0m \u001b[32m━━━━━━━━━━━━━━━━━━━━\u001b[0m\u001b[37m\u001b[0m \u001b[1m52s\u001b[0m 33ms/step - accuracy: 0.7500 - loss: 0.8057 - val_accuracy: 0.2360 - val_loss: 6.7103\n",
            "Epoch 80/100\n",
            "\u001b[1m1563/1563\u001b[0m \u001b[32m━━━━━━━━━━━━━━━━━━━━\u001b[0m\u001b[37m\u001b[0m \u001b[1m50s\u001b[0m 32ms/step - accuracy: 0.7485 - loss: 0.8139 - val_accuracy: 0.2382 - val_loss: 6.8849\n",
            "Epoch 81/100\n",
            "\u001b[1m1563/1563\u001b[0m \u001b[32m━━━━━━━━━━━━━━━━━━━━\u001b[0m\u001b[37m\u001b[0m \u001b[1m46s\u001b[0m 30ms/step - accuracy: 0.7517 - loss: 0.8056 - val_accuracy: 0.2343 - val_loss: 6.9953\n",
            "Epoch 82/100\n",
            "\u001b[1m1563/1563\u001b[0m \u001b[32m━━━━━━━━━━━━━━━━━━━━\u001b[0m\u001b[37m\u001b[0m \u001b[1m49s\u001b[0m 31ms/step - accuracy: 0.7603 - loss: 0.7769 - val_accuracy: 0.2370 - val_loss: 7.0833\n",
            "Epoch 83/100\n",
            "\u001b[1m1563/1563\u001b[0m \u001b[32m━━━━━━━━━━━━━━━━━━━━\u001b[0m\u001b[37m\u001b[0m \u001b[1m84s\u001b[0m 33ms/step - accuracy: 0.7590 - loss: 0.7822 - val_accuracy: 0.2389 - val_loss: 6.9442\n",
            "Epoch 84/100\n",
            "\u001b[1m1563/1563\u001b[0m \u001b[32m━━━━━━━━━━━━━━━━━━━━\u001b[0m\u001b[37m\u001b[0m \u001b[1m48s\u001b[0m 31ms/step - accuracy: 0.7609 - loss: 0.7762 - val_accuracy: 0.2316 - val_loss: 7.1342\n",
            "Epoch 85/100\n",
            "\u001b[1m1563/1563\u001b[0m \u001b[32m━━━━━━━━━━━━━━━━━━━━\u001b[0m\u001b[37m\u001b[0m \u001b[1m79s\u001b[0m 29ms/step - accuracy: 0.7627 - loss: 0.7680 - val_accuracy: 0.2342 - val_loss: 7.1147\n",
            "Epoch 86/100\n",
            "\u001b[1m1563/1563\u001b[0m \u001b[32m━━━━━━━━━━━━━━━━━━━━\u001b[0m\u001b[37m\u001b[0m \u001b[1m84s\u001b[0m 31ms/step - accuracy: 0.7672 - loss: 0.7579 - val_accuracy: 0.2371 - val_loss: 7.2719\n",
            "Epoch 87/100\n",
            "\u001b[1m1563/1563\u001b[0m \u001b[32m━━━━━━━━━━━━━━━━━━━━\u001b[0m\u001b[37m\u001b[0m \u001b[1m47s\u001b[0m 30ms/step - accuracy: 0.7696 - loss: 0.7453 - val_accuracy: 0.2317 - val_loss: 7.4260\n",
            "Epoch 88/100\n",
            "\u001b[1m1563/1563\u001b[0m \u001b[32m━━━━━━━━━━━━━━━━━━━━\u001b[0m\u001b[37m\u001b[0m \u001b[1m50s\u001b[0m 32ms/step - accuracy: 0.7690 - loss: 0.7451 - val_accuracy: 0.2337 - val_loss: 7.3667\n",
            "Epoch 89/100\n",
            "\u001b[1m1563/1563\u001b[0m \u001b[32m━━━━━━━━━━━━━━━━━━━━\u001b[0m\u001b[37m\u001b[0m \u001b[1m47s\u001b[0m 30ms/step - accuracy: 0.7721 - loss: 0.7401 - val_accuracy: 0.2301 - val_loss: 7.5726\n",
            "Epoch 90/100\n",
            "\u001b[1m1563/1563\u001b[0m \u001b[32m━━━━━━━━━━━━━━━━━━━━\u001b[0m\u001b[37m\u001b[0m \u001b[1m47s\u001b[0m 30ms/step - accuracy: 0.7771 - loss: 0.7271 - val_accuracy: 0.2327 - val_loss: 7.6357\n",
            "Epoch 91/100\n",
            "\u001b[1m1563/1563\u001b[0m \u001b[32m━━━━━━━━━━━━━━━━━━━━\u001b[0m\u001b[37m\u001b[0m \u001b[1m82s\u001b[0m 30ms/step - accuracy: 0.7758 - loss: 0.7243 - val_accuracy: 0.2322 - val_loss: 7.6513\n",
            "Epoch 92/100\n",
            "\u001b[1m1563/1563\u001b[0m \u001b[32m━━━━━━━━━━━━━━━━━━━━\u001b[0m\u001b[37m\u001b[0m \u001b[1m82s\u001b[0m 30ms/step - accuracy: 0.7795 - loss: 0.7083 - val_accuracy: 0.2324 - val_loss: 7.9052\n",
            "Epoch 93/100\n",
            "\u001b[1m1563/1563\u001b[0m \u001b[32m━━━━━━━━━━━━━━━━━━━━\u001b[0m\u001b[37m\u001b[0m \u001b[1m46s\u001b[0m 29ms/step - accuracy: 0.7693 - loss: 0.7308 - val_accuracy: 0.2295 - val_loss: 7.7578\n",
            "Epoch 94/100\n",
            "\u001b[1m1563/1563\u001b[0m \u001b[32m━━━━━━━━━━━━━━━━━━━━\u001b[0m\u001b[37m\u001b[0m \u001b[1m46s\u001b[0m 29ms/step - accuracy: 0.7836 - loss: 0.6971 - val_accuracy: 0.2297 - val_loss: 7.9404\n",
            "Epoch 95/100\n",
            "\u001b[1m1563/1563\u001b[0m \u001b[32m━━━━━━━━━━━━━━━━━━━━\u001b[0m\u001b[37m\u001b[0m \u001b[1m47s\u001b[0m 30ms/step - accuracy: 0.7862 - loss: 0.6914 - val_accuracy: 0.2314 - val_loss: 7.8842\n",
            "Epoch 96/100\n",
            "\u001b[1m1563/1563\u001b[0m \u001b[32m━━━━━━━━━━━━━━━━━━━━\u001b[0m\u001b[37m\u001b[0m \u001b[1m46s\u001b[0m 30ms/step - accuracy: 0.7892 - loss: 0.6818 - val_accuracy: 0.2279 - val_loss: 8.1582\n",
            "Epoch 97/100\n",
            "\u001b[1m1563/1563\u001b[0m \u001b[32m━━━━━━━━━━━━━━━━━━━━\u001b[0m\u001b[37m\u001b[0m \u001b[1m46s\u001b[0m 29ms/step - accuracy: 0.7851 - loss: 0.6834 - val_accuracy: 0.2277 - val_loss: 8.1602\n",
            "Epoch 98/100\n",
            "\u001b[1m1563/1563\u001b[0m \u001b[32m━━━━━━━━━━━━━━━━━━━━\u001b[0m\u001b[37m\u001b[0m \u001b[1m83s\u001b[0m 30ms/step - accuracy: 0.7943 - loss: 0.6641 - val_accuracy: 0.2249 - val_loss: 8.1582\n",
            "Epoch 99/100\n",
            "\u001b[1m1563/1563\u001b[0m \u001b[32m━━━━━━━━━━━━━━━━━━━━\u001b[0m\u001b[37m\u001b[0m \u001b[1m47s\u001b[0m 30ms/step - accuracy: 0.7921 - loss: 0.6629 - val_accuracy: 0.2249 - val_loss: 8.3697\n",
            "Epoch 100/100\n",
            "\u001b[1m1563/1563\u001b[0m \u001b[32m━━━━━━━━━━━━━━━━━━━━\u001b[0m\u001b[37m\u001b[0m \u001b[1m81s\u001b[0m 30ms/step - accuracy: 0.7898 - loss: 0.6753 - val_accuracy: 0.2294 - val_loss: 8.3224\n"
          ]
        },
        {
          "output_type": "display_data",
          "data": {
            "text/plain": [
              "<IPython.core.display.HTML object>"
            ],
            "text/html": []
          },
          "metadata": {}
        },
        {
          "output_type": "display_data",
          "data": {
            "text/plain": [
              "<IPython.core.display.HTML object>"
            ],
            "text/html": [
              "<br>    <style><br>        .wandb-row {<br>            display: flex;<br>            flex-direction: row;<br>            flex-wrap: wrap;<br>            justify-content: flex-start;<br>            width: 100%;<br>        }<br>        .wandb-col {<br>            display: flex;<br>            flex-direction: column;<br>            flex-basis: 100%;<br>            flex: 1;<br>            padding: 10px;<br>        }<br>    </style><br><div class=\"wandb-row\"><div class=\"wandb-col\"><h3>Run history:</h3><br/><table class=\"wandb\"><tr><td>accuracy</td><td>▁▂▃▃▃▄▄▄▅▅▅▅▅▅▅▅▆▆▆▆▇▇▇▇▇▇▇▇▇▇▇▇▇███████</td></tr><tr><td>loss</td><td>█▇▆▆▆▅▄▄▄▃▃▃▃▃▃▃▃▃▂▂▂▂▂▂▂▂▂▂▂▂▁▁▁▁▁▁▁▁▁▁</td></tr><tr><td>val_accuracy</td><td>▃▅▆▇███▇▇▆▆▆▆▅▆▄▄▄▅▄▄▄▃▃▃▂▃▂▂▂▂▂▂▂▁▂▁▂▁▁</td></tr><tr><td>val_loss</td><td>▂▁▁▁▁▁▁▁▁▁▁▁▁▂▂▂▂▂▂▂▂▃▃▄▄▄▄▅▅▅▆▆▆▆▆▇▇▇▇█</td></tr></table><br/></div><div class=\"wandb-col\"><h3>Run summary:</h3><br/><table class=\"wandb\"><tr><td>accuracy</td><td>0.77432</td></tr><tr><td>loss</td><td>0.71892</td></tr><tr><td>val_accuracy</td><td>0.2294</td></tr><tr><td>val_loss</td><td>8.32241</td></tr></table><br/></div></div>"
            ]
          },
          "metadata": {}
        },
        {
          "output_type": "display_data",
          "data": {
            "text/plain": [
              "<IPython.core.display.HTML object>"
            ],
            "text/html": [
              " View run <strong style=\"color:#cdcd00\">cifar100-run</strong> at: <a href='https://wandb.ai/142502011-indian-institute-of-technology-palakkad/sequential-cifar/runs/5suxazrd' target=\"_blank\">https://wandb.ai/142502011-indian-institute-of-technology-palakkad/sequential-cifar/runs/5suxazrd</a><br> View project at: <a href='https://wandb.ai/142502011-indian-institute-of-technology-palakkad/sequential-cifar' target=\"_blank\">https://wandb.ai/142502011-indian-institute-of-technology-palakkad/sequential-cifar</a><br>Synced 5 W&B file(s), 0 media file(s), 0 artifact file(s) and 0 other file(s)"
            ]
          },
          "metadata": {}
        },
        {
          "output_type": "display_data",
          "data": {
            "text/plain": [
              "<IPython.core.display.HTML object>"
            ],
            "text/html": [
              "Find logs at: <code>/content/wandb/run-20251013_141300-5suxazrd/logs</code>"
            ]
          },
          "metadata": {}
        },
        {
          "output_type": "stream",
          "name": "stdout",
          "text": [
            "Downloading data from https://www.cs.toronto.edu/~kriz/cifar-10-python.tar.gz\n",
            "\u001b[1m170498071/170498071\u001b[0m \u001b[32m━━━━━━━━━━━━━━━━━━━━\u001b[0m\u001b[37m\u001b[0m \u001b[1m5s\u001b[0m 0us/step\n"
          ]
        },
        {
          "output_type": "display_data",
          "data": {
            "text/plain": [
              "<IPython.core.display.HTML object>"
            ],
            "text/html": []
          },
          "metadata": {}
        },
        {
          "output_type": "display_data",
          "data": {
            "text/plain": [
              "<IPython.core.display.HTML object>"
            ],
            "text/html": [
              "Tracking run with wandb version 0.22.2"
            ]
          },
          "metadata": {}
        },
        {
          "output_type": "display_data",
          "data": {
            "text/plain": [
              "<IPython.core.display.HTML object>"
            ],
            "text/html": [
              "Run data is saved locally in <code>/content/wandb/run-20251013_154552-soewzzaj</code>"
            ]
          },
          "metadata": {}
        },
        {
          "output_type": "display_data",
          "data": {
            "text/plain": [
              "<IPython.core.display.HTML object>"
            ],
            "text/html": [
              "Syncing run <strong><a href='https://wandb.ai/142502011-indian-institute-of-technology-palakkad/sequential-cifar/runs/soewzzaj' target=\"_blank\">cifar10-run</a></strong> to <a href='https://wandb.ai/142502011-indian-institute-of-technology-palakkad/sequential-cifar' target=\"_blank\">Weights & Biases</a> (<a href='https://wandb.me/developer-guide' target=\"_blank\">docs</a>)<br>"
            ]
          },
          "metadata": {}
        },
        {
          "output_type": "display_data",
          "data": {
            "text/plain": [
              "<IPython.core.display.HTML object>"
            ],
            "text/html": [
              " View project at <a href='https://wandb.ai/142502011-indian-institute-of-technology-palakkad/sequential-cifar' target=\"_blank\">https://wandb.ai/142502011-indian-institute-of-technology-palakkad/sequential-cifar</a>"
            ]
          },
          "metadata": {}
        },
        {
          "output_type": "display_data",
          "data": {
            "text/plain": [
              "<IPython.core.display.HTML object>"
            ],
            "text/html": [
              " View run at <a href='https://wandb.ai/142502011-indian-institute-of-technology-palakkad/sequential-cifar/runs/soewzzaj' target=\"_blank\">https://wandb.ai/142502011-indian-institute-of-technology-palakkad/sequential-cifar/runs/soewzzaj</a>"
            ]
          },
          "metadata": {}
        },
        {
          "output_type": "stream",
          "name": "stderr",
          "text": [
            "/usr/local/lib/python3.12/dist-packages/keras/src/layers/convolutional/base_conv.py:113: UserWarning: Do not pass an `input_shape`/`input_dim` argument to a layer. When using Sequential models, prefer using an `Input(shape)` object as the first layer in the model instead.\n",
            "  super().__init__(activity_regularizer=activity_regularizer, **kwargs)\n"
          ]
        },
        {
          "output_type": "stream",
          "name": "stdout",
          "text": [
            "Epoch 1/100\n",
            "\u001b[1m1563/1563\u001b[0m \u001b[32m━━━━━━━━━━━━━━━━━━━━\u001b[0m\u001b[37m\u001b[0m \u001b[1m49s\u001b[0m 30ms/step - accuracy: 0.3754 - loss: 1.7326 - val_accuracy: 0.5399 - val_loss: 1.3001\n",
            "Epoch 2/100\n",
            "\u001b[1m1563/1563\u001b[0m \u001b[32m━━━━━━━━━━━━━━━━━━━━\u001b[0m\u001b[37m\u001b[0m \u001b[1m45s\u001b[0m 29ms/step - accuracy: 0.5737 - loss: 1.2113 - val_accuracy: 0.5823 - val_loss: 1.1745\n",
            "Epoch 3/100\n",
            "\u001b[1m1563/1563\u001b[0m \u001b[32m━━━━━━━━━━━━━━━━━━━━\u001b[0m\u001b[37m\u001b[0m \u001b[1m84s\u001b[0m 30ms/step - accuracy: 0.6266 - loss: 1.0760 - val_accuracy: 0.6099 - val_loss: 1.1111\n",
            "Epoch 4/100\n",
            "\u001b[1m1563/1563\u001b[0m \u001b[32m━━━━━━━━━━━━━━━━━━━━\u001b[0m\u001b[37m\u001b[0m \u001b[1m49s\u001b[0m 31ms/step - accuracy: 0.6536 - loss: 0.9984 - val_accuracy: 0.6032 - val_loss: 1.1242\n",
            "Epoch 5/100\n",
            "\u001b[1m1563/1563\u001b[0m \u001b[32m━━━━━━━━━━━━━━━━━━━━\u001b[0m\u001b[37m\u001b[0m \u001b[1m47s\u001b[0m 30ms/step - accuracy: 0.6692 - loss: 0.9490 - val_accuracy: 0.6325 - val_loss: 1.0634\n",
            "Epoch 6/100\n",
            "\u001b[1m1563/1563\u001b[0m \u001b[32m━━━━━━━━━━━━━━━━━━━━\u001b[0m\u001b[37m\u001b[0m \u001b[1m47s\u001b[0m 30ms/step - accuracy: 0.6899 - loss: 0.8941 - val_accuracy: 0.6332 - val_loss: 1.0644\n",
            "Epoch 7/100\n",
            "\u001b[1m1563/1563\u001b[0m \u001b[32m━━━━━━━━━━━━━━━━━━━━\u001b[0m\u001b[37m\u001b[0m \u001b[1m46s\u001b[0m 30ms/step - accuracy: 0.6993 - loss: 0.8577 - val_accuracy: 0.6290 - val_loss: 1.0636\n",
            "Epoch 8/100\n",
            "\u001b[1m1563/1563\u001b[0m \u001b[32m━━━━━━━━━━━━━━━━━━━━\u001b[0m\u001b[37m\u001b[0m \u001b[1m46s\u001b[0m 29ms/step - accuracy: 0.7107 - loss: 0.8253 - val_accuracy: 0.6480 - val_loss: 1.0324\n",
            "Epoch 9/100\n",
            "\u001b[1m1563/1563\u001b[0m \u001b[32m━━━━━━━━━━━━━━━━━━━━\u001b[0m\u001b[37m\u001b[0m \u001b[1m48s\u001b[0m 31ms/step - accuracy: 0.7223 - loss: 0.7950 - val_accuracy: 0.6482 - val_loss: 1.0374\n",
            "Epoch 10/100\n",
            "\u001b[1m1563/1563\u001b[0m \u001b[32m━━━━━━━━━━━━━━━━━━━━\u001b[0m\u001b[37m\u001b[0m \u001b[1m45s\u001b[0m 29ms/step - accuracy: 0.7369 - loss: 0.7603 - val_accuracy: 0.6495 - val_loss: 1.0499\n",
            "Epoch 11/100\n",
            "\u001b[1m1563/1563\u001b[0m \u001b[32m━━━━━━━━━━━━━━━━━━━━\u001b[0m\u001b[37m\u001b[0m \u001b[1m85s\u001b[0m 31ms/step - accuracy: 0.7472 - loss: 0.7268 - val_accuracy: 0.6486 - val_loss: 1.0640\n",
            "Epoch 12/100\n",
            "\u001b[1m1563/1563\u001b[0m \u001b[32m━━━━━━━━━━━━━━━━━━━━\u001b[0m\u001b[37m\u001b[0m \u001b[1m51s\u001b[0m 33ms/step - accuracy: 0.7599 - loss: 0.7002 - val_accuracy: 0.6500 - val_loss: 1.0608\n",
            "Epoch 13/100\n",
            "\u001b[1m1563/1563\u001b[0m \u001b[32m━━━━━━━━━━━━━━━━━━━━\u001b[0m\u001b[37m\u001b[0m \u001b[1m47s\u001b[0m 30ms/step - accuracy: 0.7640 - loss: 0.6726 - val_accuracy: 0.6401 - val_loss: 1.0972\n",
            "Epoch 14/100\n",
            "\u001b[1m1563/1563\u001b[0m \u001b[32m━━━━━━━━━━━━━━━━━━━━\u001b[0m\u001b[37m\u001b[0m \u001b[1m48s\u001b[0m 31ms/step - accuracy: 0.7734 - loss: 0.6489 - val_accuracy: 0.6418 - val_loss: 1.1105\n",
            "Epoch 15/100\n",
            "\u001b[1m1563/1563\u001b[0m \u001b[32m━━━━━━━━━━━━━━━━━━━━\u001b[0m\u001b[37m\u001b[0m \u001b[1m47s\u001b[0m 30ms/step - accuracy: 0.7869 - loss: 0.6129 - val_accuracy: 0.6451 - val_loss: 1.1257\n",
            "Epoch 16/100\n",
            "\u001b[1m1563/1563\u001b[0m \u001b[32m━━━━━━━━━━━━━━━━━━━━\u001b[0m\u001b[37m\u001b[0m \u001b[1m50s\u001b[0m 32ms/step - accuracy: 0.7960 - loss: 0.5921 - val_accuracy: 0.6474 - val_loss: 1.1505\n",
            "Epoch 17/100\n",
            "\u001b[1m1563/1563\u001b[0m \u001b[32m━━━━━━━━━━━━━━━━━━━━\u001b[0m\u001b[37m\u001b[0m \u001b[1m47s\u001b[0m 30ms/step - accuracy: 0.8010 - loss: 0.5711 - val_accuracy: 0.6350 - val_loss: 1.1932\n",
            "Epoch 18/100\n",
            "\u001b[1m1563/1563\u001b[0m \u001b[32m━━━━━━━━━━━━━━━━━━━━\u001b[0m\u001b[37m\u001b[0m \u001b[1m47s\u001b[0m 30ms/step - accuracy: 0.8085 - loss: 0.5486 - val_accuracy: 0.6294 - val_loss: 1.2282\n",
            "Epoch 19/100\n",
            "\u001b[1m1563/1563\u001b[0m \u001b[32m━━━━━━━━━━━━━━━━━━━━\u001b[0m\u001b[37m\u001b[0m \u001b[1m50s\u001b[0m 32ms/step - accuracy: 0.8208 - loss: 0.5165 - val_accuracy: 0.6320 - val_loss: 1.2494\n",
            "Epoch 20/100\n",
            "\u001b[1m1563/1563\u001b[0m \u001b[32m━━━━━━━━━━━━━━━━━━━━\u001b[0m\u001b[37m\u001b[0m \u001b[1m55s\u001b[0m 35ms/step - accuracy: 0.8235 - loss: 0.5032 - val_accuracy: 0.6368 - val_loss: 1.2541\n",
            "Epoch 21/100\n",
            "\u001b[1m1563/1563\u001b[0m \u001b[32m━━━━━━━━━━━━━━━━━━━━\u001b[0m\u001b[37m\u001b[0m \u001b[1m50s\u001b[0m 32ms/step - accuracy: 0.8311 - loss: 0.4783 - val_accuracy: 0.6296 - val_loss: 1.3227\n",
            "Epoch 22/100\n",
            "\u001b[1m1563/1563\u001b[0m \u001b[32m━━━━━━━━━━━━━━━━━━━━\u001b[0m\u001b[37m\u001b[0m \u001b[1m53s\u001b[0m 34ms/step - accuracy: 0.8428 - loss: 0.4535 - val_accuracy: 0.6213 - val_loss: 1.3646\n",
            "Epoch 23/100\n",
            "\u001b[1m1563/1563\u001b[0m \u001b[32m━━━━━━━━━━━━━━━━━━━━\u001b[0m\u001b[37m\u001b[0m \u001b[1m47s\u001b[0m 30ms/step - accuracy: 0.8439 - loss: 0.4460 - val_accuracy: 0.6281 - val_loss: 1.3858\n",
            "Epoch 24/100\n",
            "\u001b[1m1563/1563\u001b[0m \u001b[32m━━━━━━━━━━━━━━━━━━━━\u001b[0m\u001b[37m\u001b[0m \u001b[1m81s\u001b[0m 29ms/step - accuracy: 0.8527 - loss: 0.4193 - val_accuracy: 0.6190 - val_loss: 1.4810\n",
            "Epoch 25/100\n",
            "\u001b[1m1563/1563\u001b[0m \u001b[32m━━━━━━━━━━━━━━━━━━━━\u001b[0m\u001b[37m\u001b[0m \u001b[1m49s\u001b[0m 31ms/step - accuracy: 0.8615 - loss: 0.4005 - val_accuracy: 0.6079 - val_loss: 1.6147\n",
            "Epoch 26/100\n",
            "\u001b[1m1563/1563\u001b[0m \u001b[32m━━━━━━━━━━━━━━━━━━━━\u001b[0m\u001b[37m\u001b[0m \u001b[1m48s\u001b[0m 31ms/step - accuracy: 0.8677 - loss: 0.3793 - val_accuracy: 0.6159 - val_loss: 1.5577\n",
            "Epoch 27/100\n",
            "\u001b[1m1563/1563\u001b[0m \u001b[32m━━━━━━━━━━━━━━━━━━━━\u001b[0m\u001b[37m\u001b[0m \u001b[1m50s\u001b[0m 32ms/step - accuracy: 0.8776 - loss: 0.3583 - val_accuracy: 0.6172 - val_loss: 1.5694\n",
            "Epoch 28/100\n",
            "\u001b[1m1563/1563\u001b[0m \u001b[32m━━━━━━━━━━━━━━━━━━━━\u001b[0m\u001b[37m\u001b[0m \u001b[1m79s\u001b[0m 30ms/step - accuracy: 0.8849 - loss: 0.3374 - val_accuracy: 0.6250 - val_loss: 1.6254\n",
            "Epoch 29/100\n",
            "\u001b[1m1563/1563\u001b[0m \u001b[32m━━━━━━━━━━━━━━━━━━━━\u001b[0m\u001b[37m\u001b[0m \u001b[1m81s\u001b[0m 29ms/step - accuracy: 0.8898 - loss: 0.3188 - val_accuracy: 0.6110 - val_loss: 1.7064\n",
            "Epoch 30/100\n",
            "\u001b[1m1563/1563\u001b[0m \u001b[32m━━━━━━━━━━━━━━━━━━━━\u001b[0m\u001b[37m\u001b[0m \u001b[1m46s\u001b[0m 30ms/step - accuracy: 0.8946 - loss: 0.3058 - val_accuracy: 0.6078 - val_loss: 1.7260\n",
            "Epoch 31/100\n",
            "\u001b[1m1563/1563\u001b[0m \u001b[32m━━━━━━━━━━━━━━━━━━━━\u001b[0m\u001b[37m\u001b[0m \u001b[1m49s\u001b[0m 31ms/step - accuracy: 0.8987 - loss: 0.2970 - val_accuracy: 0.6123 - val_loss: 1.7935\n",
            "Epoch 32/100\n",
            "\u001b[1m1563/1563\u001b[0m \u001b[32m━━━━━━━━━━━━━━━━━━━━\u001b[0m\u001b[37m\u001b[0m \u001b[1m47s\u001b[0m 30ms/step - accuracy: 0.9048 - loss: 0.2766 - val_accuracy: 0.6101 - val_loss: 1.8317\n",
            "Epoch 33/100\n",
            "\u001b[1m1563/1563\u001b[0m \u001b[32m━━━━━━━━━━━━━━━━━━━━\u001b[0m\u001b[37m\u001b[0m \u001b[1m47s\u001b[0m 30ms/step - accuracy: 0.9093 - loss: 0.2652 - val_accuracy: 0.6104 - val_loss: 1.9119\n",
            "Epoch 34/100\n",
            "\u001b[1m1563/1563\u001b[0m \u001b[32m━━━━━━━━━━━━━━━━━━━━\u001b[0m\u001b[37m\u001b[0m \u001b[1m47s\u001b[0m 30ms/step - accuracy: 0.9160 - loss: 0.2484 - val_accuracy: 0.6075 - val_loss: 1.9841\n",
            "Epoch 35/100\n",
            "\u001b[1m1563/1563\u001b[0m \u001b[32m━━━━━━━━━━━━━━━━━━━━\u001b[0m\u001b[37m\u001b[0m \u001b[1m82s\u001b[0m 30ms/step - accuracy: 0.9183 - loss: 0.2411 - val_accuracy: 0.5966 - val_loss: 2.0589\n",
            "Epoch 36/100\n",
            "\u001b[1m1563/1563\u001b[0m \u001b[32m━━━━━━━━━━━━━━━━━━━━\u001b[0m\u001b[37m\u001b[0m \u001b[1m81s\u001b[0m 29ms/step - accuracy: 0.9249 - loss: 0.2218 - val_accuracy: 0.6053 - val_loss: 2.0865\n",
            "Epoch 37/100\n",
            "\u001b[1m1563/1563\u001b[0m \u001b[32m━━━━━━━━━━━━━━━━━━━━\u001b[0m\u001b[37m\u001b[0m \u001b[1m54s\u001b[0m 35ms/step - accuracy: 0.9250 - loss: 0.2146 - val_accuracy: 0.6044 - val_loss: 2.1378\n",
            "Epoch 38/100\n",
            "\u001b[1m1563/1563\u001b[0m \u001b[32m━━━━━━━━━━━━━━━━━━━━\u001b[0m\u001b[37m\u001b[0m \u001b[1m47s\u001b[0m 30ms/step - accuracy: 0.9292 - loss: 0.2098 - val_accuracy: 0.5951 - val_loss: 2.1933\n",
            "Epoch 39/100\n",
            "\u001b[1m1563/1563\u001b[0m \u001b[32m━━━━━━━━━━━━━━━━━━━━\u001b[0m\u001b[37m\u001b[0m \u001b[1m55s\u001b[0m 35ms/step - accuracy: 0.9341 - loss: 0.1905 - val_accuracy: 0.5962 - val_loss: 2.2624\n",
            "Epoch 40/100\n",
            "\u001b[1m1563/1563\u001b[0m \u001b[32m━━━━━━━━━━━━━━━━━━━━\u001b[0m\u001b[37m\u001b[0m \u001b[1m46s\u001b[0m 29ms/step - accuracy: 0.9340 - loss: 0.1941 - val_accuracy: 0.5948 - val_loss: 2.3276\n",
            "Epoch 41/100\n",
            "\u001b[1m1563/1563\u001b[0m \u001b[32m━━━━━━━━━━━━━━━━━━━━\u001b[0m\u001b[37m\u001b[0m \u001b[1m47s\u001b[0m 30ms/step - accuracy: 0.9368 - loss: 0.1834 - val_accuracy: 0.6027 - val_loss: 2.4067\n",
            "Epoch 42/100\n",
            "\u001b[1m1563/1563\u001b[0m \u001b[32m━━━━━━━━━━━━━━━━━━━━\u001b[0m\u001b[37m\u001b[0m \u001b[1m82s\u001b[0m 30ms/step - accuracy: 0.9436 - loss: 0.1685 - val_accuracy: 0.5955 - val_loss: 2.5787\n",
            "Epoch 43/100\n",
            "\u001b[1m1563/1563\u001b[0m \u001b[32m━━━━━━━━━━━━━━━━━━━━\u001b[0m\u001b[37m\u001b[0m \u001b[1m46s\u001b[0m 30ms/step - accuracy: 0.9431 - loss: 0.1660 - val_accuracy: 0.5972 - val_loss: 2.5722\n",
            "Epoch 44/100\n",
            "\u001b[1m1563/1563\u001b[0m \u001b[32m━━━━━━━━━━━━━━━━━━━━\u001b[0m\u001b[37m\u001b[0m \u001b[1m46s\u001b[0m 29ms/step - accuracy: 0.9473 - loss: 0.1570 - val_accuracy: 0.5951 - val_loss: 2.6249\n",
            "Epoch 45/100\n",
            "\u001b[1m1563/1563\u001b[0m \u001b[32m━━━━━━━━━━━━━━━━━━━━\u001b[0m\u001b[37m\u001b[0m \u001b[1m48s\u001b[0m 30ms/step - accuracy: 0.9489 - loss: 0.1544 - val_accuracy: 0.5903 - val_loss: 2.7278\n",
            "Epoch 46/100\n",
            "\u001b[1m1563/1563\u001b[0m \u001b[32m━━━━━━━━━━━━━━━━━━━━\u001b[0m\u001b[37m\u001b[0m \u001b[1m45s\u001b[0m 29ms/step - accuracy: 0.9529 - loss: 0.1417 - val_accuracy: 0.6023 - val_loss: 2.6926\n",
            "Epoch 47/100\n",
            "\u001b[1m1563/1563\u001b[0m \u001b[32m━━━━━━━━━━━━━━━━━━━━\u001b[0m\u001b[37m\u001b[0m \u001b[1m45s\u001b[0m 29ms/step - accuracy: 0.9503 - loss: 0.1416 - val_accuracy: 0.5968 - val_loss: 2.8192\n",
            "Epoch 48/100\n",
            "\u001b[1m1563/1563\u001b[0m \u001b[32m━━━━━━━━━━━━━━━━━━━━\u001b[0m\u001b[37m\u001b[0m \u001b[1m46s\u001b[0m 29ms/step - accuracy: 0.9544 - loss: 0.1335 - val_accuracy: 0.5889 - val_loss: 2.9986\n",
            "Epoch 49/100\n",
            "\u001b[1m1563/1563\u001b[0m \u001b[32m━━━━━━━━━━━━━━━━━━━━\u001b[0m\u001b[37m\u001b[0m \u001b[1m46s\u001b[0m 29ms/step - accuracy: 0.9560 - loss: 0.1315 - val_accuracy: 0.5971 - val_loss: 2.9187\n",
            "Epoch 50/100\n",
            "\u001b[1m1563/1563\u001b[0m \u001b[32m━━━━━━━━━━━━━━━━━━━━\u001b[0m\u001b[37m\u001b[0m \u001b[1m46s\u001b[0m 29ms/step - accuracy: 0.9567 - loss: 0.1277 - val_accuracy: 0.5917 - val_loss: 3.1904\n",
            "Epoch 51/100\n",
            "\u001b[1m1563/1563\u001b[0m \u001b[32m━━━━━━━━━━━━━━━━━━━━\u001b[0m\u001b[37m\u001b[0m \u001b[1m48s\u001b[0m 31ms/step - accuracy: 0.9575 - loss: 0.1242 - val_accuracy: 0.5912 - val_loss: 3.1577\n",
            "Epoch 52/100\n",
            "\u001b[1m1563/1563\u001b[0m \u001b[32m━━━━━━━━━━━━━━━━━━━━\u001b[0m\u001b[37m\u001b[0m \u001b[1m46s\u001b[0m 30ms/step - accuracy: 0.9609 - loss: 0.1148 - val_accuracy: 0.5926 - val_loss: 3.1470\n",
            "Epoch 53/100\n",
            "\u001b[1m1563/1563\u001b[0m \u001b[32m━━━━━━━━━━━━━━━━━━━━\u001b[0m\u001b[37m\u001b[0m \u001b[1m45s\u001b[0m 29ms/step - accuracy: 0.9636 - loss: 0.1088 - val_accuracy: 0.5916 - val_loss: 3.2489\n",
            "Epoch 54/100\n",
            "\u001b[1m1563/1563\u001b[0m \u001b[32m━━━━━━━━━━━━━━━━━━━━\u001b[0m\u001b[37m\u001b[0m \u001b[1m84s\u001b[0m 30ms/step - accuracy: 0.9625 - loss: 0.1105 - val_accuracy: 0.5842 - val_loss: 3.3404\n",
            "Epoch 55/100\n",
            "\u001b[1m1563/1563\u001b[0m \u001b[32m━━━━━━━━━━━━━━━━━━━━\u001b[0m\u001b[37m\u001b[0m \u001b[1m47s\u001b[0m 30ms/step - accuracy: 0.9578 - loss: 0.1190 - val_accuracy: 0.5806 - val_loss: 3.4331\n",
            "Epoch 56/100\n",
            "\u001b[1m1563/1563\u001b[0m \u001b[32m━━━━━━━━━━━━━━━━━━━━\u001b[0m\u001b[37m\u001b[0m \u001b[1m47s\u001b[0m 30ms/step - accuracy: 0.9650 - loss: 0.1015 - val_accuracy: 0.5932 - val_loss: 3.4767\n",
            "Epoch 57/100\n",
            "\u001b[1m1563/1563\u001b[0m \u001b[32m━━━━━━━━━━━━━━━━━━━━\u001b[0m\u001b[37m\u001b[0m \u001b[1m48s\u001b[0m 31ms/step - accuracy: 0.9628 - loss: 0.1103 - val_accuracy: 0.5759 - val_loss: 3.5321\n",
            "Epoch 58/100\n",
            "\u001b[1m1563/1563\u001b[0m \u001b[32m━━━━━━━━━━━━━━━━━━━━\u001b[0m\u001b[37m\u001b[0m \u001b[1m47s\u001b[0m 30ms/step - accuracy: 0.9656 - loss: 0.1003 - val_accuracy: 0.5940 - val_loss: 3.5422\n",
            "Epoch 59/100\n",
            "\u001b[1m1563/1563\u001b[0m \u001b[32m━━━━━━━━━━━━━━━━━━━━\u001b[0m\u001b[37m\u001b[0m \u001b[1m48s\u001b[0m 31ms/step - accuracy: 0.9685 - loss: 0.0923 - val_accuracy: 0.5868 - val_loss: 3.6085\n",
            "Epoch 60/100\n",
            "\u001b[1m1563/1563\u001b[0m \u001b[32m━━━━━━━━━━━━━━━━━━━━\u001b[0m\u001b[37m\u001b[0m \u001b[1m49s\u001b[0m 32ms/step - accuracy: 0.9695 - loss: 0.0926 - val_accuracy: 0.5903 - val_loss: 3.5760\n",
            "Epoch 61/100\n",
            "\u001b[1m1563/1563\u001b[0m \u001b[32m━━━━━━━━━━━━━━━━━━━━\u001b[0m\u001b[37m\u001b[0m \u001b[1m46s\u001b[0m 29ms/step - accuracy: 0.9724 - loss: 0.0815 - val_accuracy: 0.5903 - val_loss: 3.6123\n",
            "Epoch 62/100\n",
            "\u001b[1m1563/1563\u001b[0m \u001b[32m━━━━━━━━━━━━━━━━━━━━\u001b[0m\u001b[37m\u001b[0m \u001b[1m46s\u001b[0m 29ms/step - accuracy: 0.9609 - loss: 0.1103 - val_accuracy: 0.5842 - val_loss: 3.6982\n",
            "Epoch 63/100\n",
            "\u001b[1m1563/1563\u001b[0m \u001b[32m━━━━━━━━━━━━━━━━━━━━\u001b[0m\u001b[37m\u001b[0m \u001b[1m50s\u001b[0m 32ms/step - accuracy: 0.9674 - loss: 0.0972 - val_accuracy: 0.5823 - val_loss: 3.8638\n",
            "Epoch 64/100\n",
            "\u001b[1m1563/1563\u001b[0m \u001b[32m━━━━━━━━━━━━━━━━━━━━\u001b[0m\u001b[37m\u001b[0m \u001b[1m78s\u001b[0m 29ms/step - accuracy: 0.9724 - loss: 0.0819 - val_accuracy: 0.5833 - val_loss: 3.9674\n",
            "Epoch 65/100\n",
            "\u001b[1m1563/1563\u001b[0m \u001b[32m━━━━━━━━━━━━━━━━━━━━\u001b[0m\u001b[37m\u001b[0m \u001b[1m45s\u001b[0m 29ms/step - accuracy: 0.9665 - loss: 0.0943 - val_accuracy: 0.5759 - val_loss: 3.9816\n",
            "Epoch 66/100\n",
            "\u001b[1m1563/1563\u001b[0m \u001b[32m━━━━━━━━━━━━━━━━━━━━\u001b[0m\u001b[37m\u001b[0m \u001b[1m46s\u001b[0m 29ms/step - accuracy: 0.9733 - loss: 0.0790 - val_accuracy: 0.5948 - val_loss: 3.9192\n",
            "Epoch 67/100\n",
            "\u001b[1m1563/1563\u001b[0m \u001b[32m━━━━━━━━━━━━━━━━━━━━\u001b[0m\u001b[37m\u001b[0m \u001b[1m47s\u001b[0m 30ms/step - accuracy: 0.9711 - loss: 0.0855 - val_accuracy: 0.5932 - val_loss: 3.9686\n",
            "Epoch 68/100\n",
            "\u001b[1m1563/1563\u001b[0m \u001b[32m━━━━━━━━━━━━━━━━━━━━\u001b[0m\u001b[37m\u001b[0m \u001b[1m46s\u001b[0m 29ms/step - accuracy: 0.9733 - loss: 0.0816 - val_accuracy: 0.5814 - val_loss: 4.0499\n",
            "Epoch 69/100\n",
            "\u001b[1m1563/1563\u001b[0m \u001b[32m━━━━━━━━━━━━━━━━━━━━\u001b[0m\u001b[37m\u001b[0m \u001b[1m81s\u001b[0m 29ms/step - accuracy: 0.9760 - loss: 0.0753 - val_accuracy: 0.5770 - val_loss: 4.3005\n",
            "Epoch 70/100\n",
            "\u001b[1m1563/1563\u001b[0m \u001b[32m━━━━━━━━━━━━━━━━━━━━\u001b[0m\u001b[37m\u001b[0m \u001b[1m46s\u001b[0m 29ms/step - accuracy: 0.9711 - loss: 0.0827 - val_accuracy: 0.5862 - val_loss: 4.2204\n",
            "Epoch 71/100\n",
            "\u001b[1m1563/1563\u001b[0m \u001b[32m━━━━━━━━━━━━━━━━━━━━\u001b[0m\u001b[37m\u001b[0m \u001b[1m84s\u001b[0m 30ms/step - accuracy: 0.9744 - loss: 0.0763 - val_accuracy: 0.5735 - val_loss: 4.2316\n",
            "Epoch 72/100\n",
            "\u001b[1m1563/1563\u001b[0m \u001b[32m━━━━━━━━━━━━━━━━━━━━\u001b[0m\u001b[37m\u001b[0m \u001b[1m81s\u001b[0m 30ms/step - accuracy: 0.9792 - loss: 0.0647 - val_accuracy: 0.5824 - val_loss: 4.3137\n",
            "Epoch 73/100\n",
            "\u001b[1m1563/1563\u001b[0m \u001b[32m━━━━━━━━━━━━━━━━━━━━\u001b[0m\u001b[37m\u001b[0m \u001b[1m46s\u001b[0m 29ms/step - accuracy: 0.9724 - loss: 0.0861 - val_accuracy: 0.5849 - val_loss: 4.2723\n",
            "Epoch 74/100\n",
            "\u001b[1m1563/1563\u001b[0m \u001b[32m━━━━━━━━━━━━━━━━━━━━\u001b[0m\u001b[37m\u001b[0m \u001b[1m46s\u001b[0m 30ms/step - accuracy: 0.9814 - loss: 0.0556 - val_accuracy: 0.5837 - val_loss: 4.4534\n",
            "Epoch 75/100\n",
            "\u001b[1m1563/1563\u001b[0m \u001b[32m━━━━━━━━━━━━━━━━━━━━\u001b[0m\u001b[37m\u001b[0m \u001b[1m49s\u001b[0m 31ms/step - accuracy: 0.9717 - loss: 0.0820 - val_accuracy: 0.5780 - val_loss: 4.5340\n",
            "Epoch 76/100\n",
            "\u001b[1m1563/1563\u001b[0m \u001b[32m━━━━━━━━━━━━━━━━━━━━\u001b[0m\u001b[37m\u001b[0m \u001b[1m49s\u001b[0m 31ms/step - accuracy: 0.9767 - loss: 0.0714 - val_accuracy: 0.5796 - val_loss: 4.4167\n",
            "Epoch 77/100\n",
            "\u001b[1m1563/1563\u001b[0m \u001b[32m━━━━━━━━━━━━━━━━━━━━\u001b[0m\u001b[37m\u001b[0m \u001b[1m49s\u001b[0m 32ms/step - accuracy: 0.9791 - loss: 0.0642 - val_accuracy: 0.5766 - val_loss: 4.6420\n",
            "Epoch 78/100\n",
            "\u001b[1m1563/1563\u001b[0m \u001b[32m━━━━━━━━━━━━━━━━━━━━\u001b[0m\u001b[37m\u001b[0m \u001b[1m84s\u001b[0m 33ms/step - accuracy: 0.9735 - loss: 0.0797 - val_accuracy: 0.5810 - val_loss: 4.5248\n",
            "Epoch 79/100\n",
            "\u001b[1m1563/1563\u001b[0m \u001b[32m━━━━━━━━━━━━━━━━━━━━\u001b[0m\u001b[37m\u001b[0m \u001b[1m49s\u001b[0m 31ms/step - accuracy: 0.9755 - loss: 0.0727 - val_accuracy: 0.5792 - val_loss: 4.6623\n",
            "Epoch 80/100\n",
            "\u001b[1m1563/1563\u001b[0m \u001b[32m━━━━━━━━━━━━━━━━━━━━\u001b[0m\u001b[37m\u001b[0m \u001b[1m54s\u001b[0m 34ms/step - accuracy: 0.9763 - loss: 0.0690 - val_accuracy: 0.5818 - val_loss: 4.6910\n",
            "Epoch 81/100\n",
            "\u001b[1m1563/1563\u001b[0m \u001b[32m━━━━━━━━━━━━━━━━━━━━\u001b[0m\u001b[37m\u001b[0m \u001b[1m49s\u001b[0m 31ms/step - accuracy: 0.9742 - loss: 0.0772 - val_accuracy: 0.5783 - val_loss: 4.7781\n",
            "Epoch 82/100\n",
            "\u001b[1m1563/1563\u001b[0m \u001b[32m━━━━━━━━━━━━━━━━━━━━\u001b[0m\u001b[37m\u001b[0m \u001b[1m48s\u001b[0m 31ms/step - accuracy: 0.9762 - loss: 0.0715 - val_accuracy: 0.5800 - val_loss: 4.8938\n",
            "Epoch 83/100\n",
            "\u001b[1m1563/1563\u001b[0m \u001b[32m━━━━━━━━━━━━━━━━━━━━\u001b[0m\u001b[37m\u001b[0m \u001b[1m46s\u001b[0m 30ms/step - accuracy: 0.9781 - loss: 0.0654 - val_accuracy: 0.5695 - val_loss: 4.7820\n",
            "Epoch 84/100\n",
            "\u001b[1m1563/1563\u001b[0m \u001b[32m━━━━━━━━━━━━━━━━━━━━\u001b[0m\u001b[37m\u001b[0m \u001b[1m48s\u001b[0m 31ms/step - accuracy: 0.9756 - loss: 0.0721 - val_accuracy: 0.5829 - val_loss: 4.8299\n",
            "Epoch 85/100\n",
            "\u001b[1m1563/1563\u001b[0m \u001b[32m━━━━━━━━━━━━━━━━━━━━\u001b[0m\u001b[37m\u001b[0m \u001b[1m47s\u001b[0m 30ms/step - accuracy: 0.9783 - loss: 0.0618 - val_accuracy: 0.5771 - val_loss: 4.9361\n",
            "Epoch 86/100\n",
            "\u001b[1m1563/1563\u001b[0m \u001b[32m━━━━━━━━━━━━━━━━━━━━\u001b[0m\u001b[37m\u001b[0m \u001b[1m81s\u001b[0m 30ms/step - accuracy: 0.9794 - loss: 0.0619 - val_accuracy: 0.5767 - val_loss: 5.0018\n",
            "Epoch 87/100\n",
            "\u001b[1m1563/1563\u001b[0m \u001b[32m━━━━━━━━━━━━━━━━━━━━\u001b[0m\u001b[37m\u001b[0m \u001b[1m47s\u001b[0m 30ms/step - accuracy: 0.9730 - loss: 0.0816 - val_accuracy: 0.5796 - val_loss: 5.0139\n",
            "Epoch 88/100\n",
            "\u001b[1m1563/1563\u001b[0m \u001b[32m━━━━━━━━━━━━━━━━━━━━\u001b[0m\u001b[37m\u001b[0m \u001b[1m48s\u001b[0m 31ms/step - accuracy: 0.9746 - loss: 0.0760 - val_accuracy: 0.5793 - val_loss: 4.9131\n",
            "Epoch 89/100\n",
            "\u001b[1m1563/1563\u001b[0m \u001b[32m━━━━━━━━━━━━━━━━━━━━\u001b[0m\u001b[37m\u001b[0m \u001b[1m48s\u001b[0m 30ms/step - accuracy: 0.9782 - loss: 0.0649 - val_accuracy: 0.5791 - val_loss: 5.0238\n",
            "Epoch 90/100\n",
            "\u001b[1m1563/1563\u001b[0m \u001b[32m━━━━━━━━━━━━━━━━━━━━\u001b[0m\u001b[37m\u001b[0m \u001b[1m84s\u001b[0m 32ms/step - accuracy: 0.9781 - loss: 0.0657 - val_accuracy: 0.5791 - val_loss: 5.1624\n",
            "Epoch 91/100\n",
            "\u001b[1m1563/1563\u001b[0m \u001b[32m━━━━━━━━━━━━━━━━━━━━\u001b[0m\u001b[37m\u001b[0m \u001b[1m47s\u001b[0m 30ms/step - accuracy: 0.9801 - loss: 0.0588 - val_accuracy: 0.5796 - val_loss: 5.0823\n",
            "Epoch 92/100\n",
            "\u001b[1m1563/1563\u001b[0m \u001b[32m━━━━━━━━━━━━━━━━━━━━\u001b[0m\u001b[37m\u001b[0m \u001b[1m82s\u001b[0m 30ms/step - accuracy: 0.9782 - loss: 0.0655 - val_accuracy: 0.5736 - val_loss: 5.1017\n",
            "Epoch 93/100\n",
            "\u001b[1m1563/1563\u001b[0m \u001b[32m━━━━━━━━━━━━━━━━━━━━\u001b[0m\u001b[37m\u001b[0m \u001b[1m49s\u001b[0m 31ms/step - accuracy: 0.9824 - loss: 0.0554 - val_accuracy: 0.5820 - val_loss: 5.1300\n",
            "Epoch 94/100\n",
            "\u001b[1m1563/1563\u001b[0m \u001b[32m━━━━━━━━━━━━━━━━━━━━\u001b[0m\u001b[37m\u001b[0m \u001b[1m47s\u001b[0m 30ms/step - accuracy: 0.9821 - loss: 0.0560 - val_accuracy: 0.5762 - val_loss: 5.2912\n",
            "Epoch 95/100\n",
            "\u001b[1m1563/1563\u001b[0m \u001b[32m━━━━━━━━━━━━━━━━━━━━\u001b[0m\u001b[37m\u001b[0m \u001b[1m49s\u001b[0m 31ms/step - accuracy: 0.9790 - loss: 0.0622 - val_accuracy: 0.5735 - val_loss: 5.2596\n",
            "Epoch 96/100\n",
            "\u001b[1m1563/1563\u001b[0m \u001b[32m━━━━━━━━━━━━━━━━━━━━\u001b[0m\u001b[37m\u001b[0m \u001b[1m49s\u001b[0m 31ms/step - accuracy: 0.9812 - loss: 0.0542 - val_accuracy: 0.5779 - val_loss: 5.3451\n",
            "Epoch 97/100\n",
            "\u001b[1m1563/1563\u001b[0m \u001b[32m━━━━━━━━━━━━━━━━━━━━\u001b[0m\u001b[37m\u001b[0m \u001b[1m49s\u001b[0m 31ms/step - accuracy: 0.9782 - loss: 0.0647 - val_accuracy: 0.5723 - val_loss: 5.3991\n",
            "Epoch 98/100\n",
            "\u001b[1m1563/1563\u001b[0m \u001b[32m━━━━━━━━━━━━━━━━━━━━\u001b[0m\u001b[37m\u001b[0m \u001b[1m50s\u001b[0m 32ms/step - accuracy: 0.9817 - loss: 0.0548 - val_accuracy: 0.5778 - val_loss: 5.3578\n",
            "Epoch 99/100\n",
            "\u001b[1m1563/1563\u001b[0m \u001b[32m━━━━━━━━━━━━━━━━━━━━\u001b[0m\u001b[37m\u001b[0m \u001b[1m53s\u001b[0m 34ms/step - accuracy: 0.9844 - loss: 0.0463 - val_accuracy: 0.5855 - val_loss: 5.4169\n",
            "Epoch 100/100\n",
            "\u001b[1m1563/1563\u001b[0m \u001b[32m━━━━━━━━━━━━━━━━━━━━\u001b[0m\u001b[37m\u001b[0m \u001b[1m53s\u001b[0m 34ms/step - accuracy: 0.9813 - loss: 0.0603 - val_accuracy: 0.5783 - val_loss: 5.4176\n"
          ]
        },
        {
          "output_type": "display_data",
          "data": {
            "text/plain": [
              "<IPython.core.display.HTML object>"
            ],
            "text/html": []
          },
          "metadata": {}
        },
        {
          "output_type": "display_data",
          "data": {
            "text/plain": [
              "<IPython.core.display.HTML object>"
            ],
            "text/html": [
              "<br>    <style><br>        .wandb-row {<br>            display: flex;<br>            flex-direction: row;<br>            flex-wrap: wrap;<br>            justify-content: flex-start;<br>            width: 100%;<br>        }<br>        .wandb-col {<br>            display: flex;<br>            flex-direction: column;<br>            flex-basis: 100%;<br>            flex: 1;<br>            padding: 10px;<br>        }<br>    </style><br><div class=\"wandb-row\"><div class=\"wandb-col\"><h3>Run history:</h3><br/><table class=\"wandb\"><tr><td>accuracy</td><td>▁▄▄▄▄▅▅▅▅▆▆▆▆▇▇▇▇▇▇█████████████████████</td></tr><tr><td>loss</td><td>█▆▅▅▅▄▄▄▄▃▃▂▂▂▂▂▂▁▁▁▁▁▁▁▁▁▁▁▁▁▁▁▁▁▁▁▁▁▁▁</td></tr><tr><td>val_accuracy</td><td>▄▄▆▆▆███▇▆▇▆▄▅▄▄▄▃▃▃▃▃▃▃▃▁▃▂▂▁▂▁▁▁▁▁▁▂▁▂</td></tr><tr><td>val_loss</td><td>▁▁▁▁▁▁▁▂▂▂▂▃▃▃▃▃▃▃▄▄▄▄▄▅▅▅▅▆▆▆▇▇▇▇▇█████</td></tr></table><br/></div><div class=\"wandb-col\"><h3>Run summary:</h3><br/><table class=\"wandb\"><tr><td>accuracy</td><td>0.97928</td></tr><tr><td>loss</td><td>0.06408</td></tr><tr><td>val_accuracy</td><td>0.5783</td></tr><tr><td>val_loss</td><td>5.41758</td></tr></table><br/></div></div>"
            ]
          },
          "metadata": {}
        },
        {
          "output_type": "display_data",
          "data": {
            "text/plain": [
              "<IPython.core.display.HTML object>"
            ],
            "text/html": [
              " View run <strong style=\"color:#cdcd00\">cifar10-run</strong> at: <a href='https://wandb.ai/142502011-indian-institute-of-technology-palakkad/sequential-cifar/runs/soewzzaj' target=\"_blank\">https://wandb.ai/142502011-indian-institute-of-technology-palakkad/sequential-cifar/runs/soewzzaj</a><br> View project at: <a href='https://wandb.ai/142502011-indian-institute-of-technology-palakkad/sequential-cifar' target=\"_blank\">https://wandb.ai/142502011-indian-institute-of-technology-palakkad/sequential-cifar</a><br>Synced 5 W&B file(s), 0 media file(s), 0 artifact file(s) and 0 other file(s)"
            ]
          },
          "metadata": {}
        },
        {
          "output_type": "display_data",
          "data": {
            "text/plain": [
              "<IPython.core.display.HTML object>"
            ],
            "text/html": [
              "Find logs at: <code>/content/wandb/run-20251013_154552-soewzzaj/logs</code>"
            ]
          },
          "metadata": {}
        },
        {
          "output_type": "display_data",
          "data": {
            "text/plain": [
              "<IPython.core.display.HTML object>"
            ],
            "text/html": []
          },
          "metadata": {}
        },
        {
          "output_type": "display_data",
          "data": {
            "text/plain": [
              "<IPython.core.display.HTML object>"
            ],
            "text/html": [
              "Tracking run with wandb version 0.22.2"
            ]
          },
          "metadata": {}
        },
        {
          "output_type": "display_data",
          "data": {
            "text/plain": [
              "<IPython.core.display.HTML object>"
            ],
            "text/html": [
              "Run data is saved locally in <code>/content/wandb/run-20251013_171602-epn2r930</code>"
            ]
          },
          "metadata": {}
        },
        {
          "output_type": "display_data",
          "data": {
            "text/plain": [
              "<IPython.core.display.HTML object>"
            ],
            "text/html": [
              "Syncing run <strong><a href='https://wandb.ai/142502011-indian-institute-of-technology-palakkad/sequential-cifar/runs/epn2r930' target=\"_blank\">cifar10-run</a></strong> to <a href='https://wandb.ai/142502011-indian-institute-of-technology-palakkad/sequential-cifar' target=\"_blank\">Weights & Biases</a> (<a href='https://wandb.me/developer-guide' target=\"_blank\">docs</a>)<br>"
            ]
          },
          "metadata": {}
        },
        {
          "output_type": "display_data",
          "data": {
            "text/plain": [
              "<IPython.core.display.HTML object>"
            ],
            "text/html": [
              " View project at <a href='https://wandb.ai/142502011-indian-institute-of-technology-palakkad/sequential-cifar' target=\"_blank\">https://wandb.ai/142502011-indian-institute-of-technology-palakkad/sequential-cifar</a>"
            ]
          },
          "metadata": {}
        },
        {
          "output_type": "display_data",
          "data": {
            "text/plain": [
              "<IPython.core.display.HTML object>"
            ],
            "text/html": [
              " View run at <a href='https://wandb.ai/142502011-indian-institute-of-technology-palakkad/sequential-cifar/runs/epn2r930' target=\"_blank\">https://wandb.ai/142502011-indian-institute-of-technology-palakkad/sequential-cifar/runs/epn2r930</a>"
            ]
          },
          "metadata": {}
        },
        {
          "output_type": "stream",
          "name": "stderr",
          "text": [
            "/usr/local/lib/python3.12/dist-packages/keras/src/layers/convolutional/base_conv.py:113: UserWarning: Do not pass an `input_shape`/`input_dim` argument to a layer. When using Sequential models, prefer using an `Input(shape)` object as the first layer in the model instead.\n",
            "  super().__init__(activity_regularizer=activity_regularizer, **kwargs)\n"
          ]
        },
        {
          "output_type": "stream",
          "name": "stdout",
          "text": [
            "Epoch 1/100\n",
            "\u001b[1m1563/1563\u001b[0m \u001b[32m━━━━━━━━━━━━━━━━━━━━\u001b[0m\u001b[37m\u001b[0m \u001b[1m56s\u001b[0m 34ms/step - accuracy: 0.3912 - loss: 1.6835 - val_accuracy: 0.5523 - val_loss: 1.2810\n",
            "Epoch 2/100\n",
            "\u001b[1m1563/1563\u001b[0m \u001b[32m━━━━━━━━━━━━━━━━━━━━\u001b[0m\u001b[37m\u001b[0m \u001b[1m50s\u001b[0m 32ms/step - accuracy: 0.5748 - loss: 1.2055 - val_accuracy: 0.5921 - val_loss: 1.1724\n",
            "Epoch 3/100\n",
            "\u001b[1m1563/1563\u001b[0m \u001b[32m━━━━━━━━━━━━━━━━━━━━\u001b[0m\u001b[37m\u001b[0m \u001b[1m48s\u001b[0m 31ms/step - accuracy: 0.6168 - loss: 1.0978 - val_accuracy: 0.6074 - val_loss: 1.1180\n",
            "Epoch 4/100\n",
            "\u001b[1m1563/1563\u001b[0m \u001b[32m━━━━━━━━━━━━━━━━━━━━\u001b[0m\u001b[37m\u001b[0m \u001b[1m47s\u001b[0m 30ms/step - accuracy: 0.6500 - loss: 1.0005 - val_accuracy: 0.6309 - val_loss: 1.0773\n",
            "Epoch 5/100\n",
            "\u001b[1m1563/1563\u001b[0m \u001b[32m━━━━━━━━━━━━━━━━━━━━\u001b[0m\u001b[37m\u001b[0m \u001b[1m47s\u001b[0m 30ms/step - accuracy: 0.6724 - loss: 0.9441 - val_accuracy: 0.6081 - val_loss: 1.1614\n",
            "Epoch 6/100\n",
            "\u001b[1m1563/1563\u001b[0m \u001b[32m━━━━━━━━━━━━━━━━━━━━\u001b[0m\u001b[37m\u001b[0m \u001b[1m83s\u001b[0m 31ms/step - accuracy: 0.6891 - loss: 0.8928 - val_accuracy: 0.6386 - val_loss: 1.0481\n",
            "Epoch 7/100\n",
            "\u001b[1m1563/1563\u001b[0m \u001b[32m━━━━━━━━━━━━━━━━━━━━\u001b[0m\u001b[37m\u001b[0m \u001b[1m85s\u001b[0m 33ms/step - accuracy: 0.7137 - loss: 0.8249 - val_accuracy: 0.6258 - val_loss: 1.0996\n",
            "Epoch 8/100\n",
            "\u001b[1m1563/1563\u001b[0m \u001b[32m━━━━━━━━━━━━━━━━━━━━\u001b[0m\u001b[37m\u001b[0m \u001b[1m46s\u001b[0m 29ms/step - accuracy: 0.7296 - loss: 0.7738 - val_accuracy: 0.6409 - val_loss: 1.0973\n",
            "Epoch 9/100\n",
            "\u001b[1m1563/1563\u001b[0m \u001b[32m━━━━━━━━━━━━━━━━━━━━\u001b[0m\u001b[37m\u001b[0m \u001b[1m84s\u001b[0m 30ms/step - accuracy: 0.7432 - loss: 0.7399 - val_accuracy: 0.6462 - val_loss: 1.0696\n",
            "Epoch 10/100\n",
            "\u001b[1m1563/1563\u001b[0m \u001b[32m━━━━━━━━━━━━━━━━━━━━\u001b[0m\u001b[37m\u001b[0m \u001b[1m82s\u001b[0m 31ms/step - accuracy: 0.7567 - loss: 0.6961 - val_accuracy: 0.6395 - val_loss: 1.0894\n",
            "Epoch 11/100\n",
            "\u001b[1m1563/1563\u001b[0m \u001b[32m━━━━━━━━━━━━━━━━━━━━\u001b[0m\u001b[37m\u001b[0m \u001b[1m46s\u001b[0m 29ms/step - accuracy: 0.7692 - loss: 0.6648 - val_accuracy: 0.6384 - val_loss: 1.0968\n",
            "Epoch 12/100\n",
            "\u001b[1m1563/1563\u001b[0m \u001b[32m━━━━━━━━━━━━━━━━━━━━\u001b[0m\u001b[37m\u001b[0m \u001b[1m46s\u001b[0m 29ms/step - accuracy: 0.7786 - loss: 0.6328 - val_accuracy: 0.6465 - val_loss: 1.1214\n",
            "Epoch 13/100\n",
            "\u001b[1m1563/1563\u001b[0m \u001b[32m━━━━━━━━━━━━━━━━━━━━\u001b[0m\u001b[37m\u001b[0m \u001b[1m47s\u001b[0m 30ms/step - accuracy: 0.7958 - loss: 0.5873 - val_accuracy: 0.6156 - val_loss: 1.2320\n",
            "Epoch 14/100\n",
            "\u001b[1m1563/1563\u001b[0m \u001b[32m━━━━━━━━━━━━━━━━━━━━\u001b[0m\u001b[37m\u001b[0m \u001b[1m82s\u001b[0m 30ms/step - accuracy: 0.7995 - loss: 0.5686 - val_accuracy: 0.6186 - val_loss: 1.2493\n",
            "Epoch 15/100\n",
            "\u001b[1m1563/1563\u001b[0m \u001b[32m━━━━━━━━━━━━━━━━━━━━\u001b[0m\u001b[37m\u001b[0m \u001b[1m46s\u001b[0m 29ms/step - accuracy: 0.8113 - loss: 0.5355 - val_accuracy: 0.6383 - val_loss: 1.1985\n",
            "Epoch 16/100\n",
            "\u001b[1m1563/1563\u001b[0m \u001b[32m━━━━━━━━━━━━━━━━━━━━\u001b[0m\u001b[37m\u001b[0m \u001b[1m83s\u001b[0m 30ms/step - accuracy: 0.8274 - loss: 0.4968 - val_accuracy: 0.6246 - val_loss: 1.2820\n",
            "Epoch 17/100\n",
            "\u001b[1m1563/1563\u001b[0m \u001b[32m━━━━━━━━━━━━━━━━━━━━\u001b[0m\u001b[37m\u001b[0m \u001b[1m83s\u001b[0m 31ms/step - accuracy: 0.8312 - loss: 0.4822 - val_accuracy: 0.6233 - val_loss: 1.3376\n",
            "Epoch 18/100\n",
            "\u001b[1m1563/1563\u001b[0m \u001b[32m━━━━━━━━━━━━━━━━━━━━\u001b[0m\u001b[37m\u001b[0m \u001b[1m81s\u001b[0m 30ms/step - accuracy: 0.8413 - loss: 0.4527 - val_accuracy: 0.6139 - val_loss: 1.3911\n",
            "Epoch 19/100\n",
            "\u001b[1m1563/1563\u001b[0m \u001b[32m━━━━━━━━━━━━━━━━━━━━\u001b[0m\u001b[37m\u001b[0m \u001b[1m82s\u001b[0m 30ms/step - accuracy: 0.8545 - loss: 0.4215 - val_accuracy: 0.6256 - val_loss: 1.3422\n",
            "Epoch 20/100\n",
            "\u001b[1m1563/1563\u001b[0m \u001b[32m━━━━━━━━━━━━━━━━━━━━\u001b[0m\u001b[37m\u001b[0m \u001b[1m80s\u001b[0m 29ms/step - accuracy: 0.8610 - loss: 0.4038 - val_accuracy: 0.6280 - val_loss: 1.4295\n",
            "Epoch 21/100\n",
            "\u001b[1m1563/1563\u001b[0m \u001b[32m━━━━━━━━━━━━━━━━━━━━\u001b[0m\u001b[37m\u001b[0m \u001b[1m48s\u001b[0m 31ms/step - accuracy: 0.8727 - loss: 0.3698 - val_accuracy: 0.6201 - val_loss: 1.4944\n",
            "Epoch 22/100\n",
            "\u001b[1m1563/1563\u001b[0m \u001b[32m━━━━━━━━━━━━━━━━━━━━\u001b[0m\u001b[37m\u001b[0m \u001b[1m50s\u001b[0m 32ms/step - accuracy: 0.8789 - loss: 0.3465 - val_accuracy: 0.6167 - val_loss: 1.5290\n",
            "Epoch 23/100\n",
            "\u001b[1m1563/1563\u001b[0m \u001b[32m━━━━━━━━━━━━━━━━━━━━\u001b[0m\u001b[37m\u001b[0m \u001b[1m49s\u001b[0m 32ms/step - accuracy: 0.8856 - loss: 0.3305 - val_accuracy: 0.6204 - val_loss: 1.5890\n",
            "Epoch 24/100\n",
            "\u001b[1m1563/1563\u001b[0m \u001b[32m━━━━━━━━━━━━━━━━━━━━\u001b[0m\u001b[37m\u001b[0m \u001b[1m48s\u001b[0m 30ms/step - accuracy: 0.8945 - loss: 0.3088 - val_accuracy: 0.6134 - val_loss: 1.6612\n",
            "Epoch 25/100\n",
            "\u001b[1m1563/1563\u001b[0m \u001b[32m━━━━━━━━━━━━━━━━━━━━\u001b[0m\u001b[37m\u001b[0m \u001b[1m46s\u001b[0m 30ms/step - accuracy: 0.8974 - loss: 0.2990 - val_accuracy: 0.6137 - val_loss: 1.7103\n",
            "Epoch 26/100\n",
            "\u001b[1m1563/1563\u001b[0m \u001b[32m━━━━━━━━━━━━━━━━━━━━\u001b[0m\u001b[37m\u001b[0m \u001b[1m49s\u001b[0m 31ms/step - accuracy: 0.9043 - loss: 0.2742 - val_accuracy: 0.6198 - val_loss: 1.7816\n",
            "Epoch 27/100\n",
            "\u001b[1m1563/1563\u001b[0m \u001b[32m━━━━━━━━━━━━━━━━━━━━\u001b[0m\u001b[37m\u001b[0m \u001b[1m78s\u001b[0m 29ms/step - accuracy: 0.9099 - loss: 0.2642 - val_accuracy: 0.6075 - val_loss: 1.9021\n",
            "Epoch 28/100\n",
            "\u001b[1m1563/1563\u001b[0m \u001b[32m━━━━━━━━━━━━━━━━━━━━\u001b[0m\u001b[37m\u001b[0m \u001b[1m82s\u001b[0m 29ms/step - accuracy: 0.9197 - loss: 0.2391 - val_accuracy: 0.6143 - val_loss: 1.9139\n",
            "Epoch 29/100\n",
            "\u001b[1m1563/1563\u001b[0m \u001b[32m━━━━━━━━━━━━━━━━━━━━\u001b[0m\u001b[37m\u001b[0m \u001b[1m48s\u001b[0m 31ms/step - accuracy: 0.9214 - loss: 0.2285 - val_accuracy: 0.6139 - val_loss: 1.9312\n",
            "Epoch 30/100\n",
            "\u001b[1m1563/1563\u001b[0m \u001b[32m━━━━━━━━━━━━━━━━━━━━\u001b[0m\u001b[37m\u001b[0m \u001b[1m45s\u001b[0m 29ms/step - accuracy: 0.9267 - loss: 0.2151 - val_accuracy: 0.6058 - val_loss: 2.1339\n",
            "Epoch 31/100\n",
            "\u001b[1m1563/1563\u001b[0m \u001b[32m━━━━━━━━━━━━━━━━━━━━\u001b[0m\u001b[37m\u001b[0m \u001b[1m83s\u001b[0m 29ms/step - accuracy: 0.9324 - loss: 0.2002 - val_accuracy: 0.6017 - val_loss: 2.1416\n",
            "Epoch 32/100\n",
            "\u001b[1m1563/1563\u001b[0m \u001b[32m━━━━━━━━━━━━━━━━━━━━\u001b[0m\u001b[37m\u001b[0m \u001b[1m50s\u001b[0m 32ms/step - accuracy: 0.9345 - loss: 0.1920 - val_accuracy: 0.6058 - val_loss: 2.2720\n",
            "Epoch 33/100\n",
            "\u001b[1m1563/1563\u001b[0m \u001b[32m━━━━━━━━━━━━━━━━━━━━\u001b[0m\u001b[37m\u001b[0m \u001b[1m49s\u001b[0m 31ms/step - accuracy: 0.9415 - loss: 0.1737 - val_accuracy: 0.6069 - val_loss: 2.2710\n",
            "Epoch 34/100\n",
            "\u001b[1m1563/1563\u001b[0m \u001b[32m━━━━━━━━━━━━━━━━━━━━\u001b[0m\u001b[37m\u001b[0m \u001b[1m51s\u001b[0m 33ms/step - accuracy: 0.9464 - loss: 0.1659 - val_accuracy: 0.6043 - val_loss: 2.4001\n",
            "Epoch 35/100\n",
            "\u001b[1m1563/1563\u001b[0m \u001b[32m━━━━━━━━━━━━━━━━━━━━\u001b[0m\u001b[37m\u001b[0m \u001b[1m47s\u001b[0m 30ms/step - accuracy: 0.9470 - loss: 0.1569 - val_accuracy: 0.6063 - val_loss: 2.4159\n",
            "Epoch 36/100\n",
            "\u001b[1m1563/1563\u001b[0m \u001b[32m━━━━━━━━━━━━━━━━━━━━\u001b[0m\u001b[37m\u001b[0m \u001b[1m46s\u001b[0m 30ms/step - accuracy: 0.9498 - loss: 0.1495 - val_accuracy: 0.6040 - val_loss: 2.5248\n",
            "Epoch 37/100\n",
            "\u001b[1m1563/1563\u001b[0m \u001b[32m━━━━━━━━━━━━━━━━━━━━\u001b[0m\u001b[37m\u001b[0m \u001b[1m48s\u001b[0m 31ms/step - accuracy: 0.9543 - loss: 0.1385 - val_accuracy: 0.5988 - val_loss: 2.6760\n",
            "Epoch 38/100\n",
            "\u001b[1m1563/1563\u001b[0m \u001b[32m━━━━━━━━━━━━━━━━━━━━\u001b[0m\u001b[37m\u001b[0m \u001b[1m48s\u001b[0m 31ms/step - accuracy: 0.9520 - loss: 0.1395 - val_accuracy: 0.6012 - val_loss: 2.7644\n",
            "Epoch 39/100\n",
            "\u001b[1m1563/1563\u001b[0m \u001b[32m━━━━━━━━━━━━━━━━━━━━\u001b[0m\u001b[37m\u001b[0m \u001b[1m50s\u001b[0m 32ms/step - accuracy: 0.9570 - loss: 0.1259 - val_accuracy: 0.5959 - val_loss: 2.7032\n",
            "Epoch 40/100\n",
            "\u001b[1m1563/1563\u001b[0m \u001b[32m━━━━━━━━━━━━━━━━━━━━\u001b[0m\u001b[37m\u001b[0m \u001b[1m51s\u001b[0m 33ms/step - accuracy: 0.9596 - loss: 0.1233 - val_accuracy: 0.6003 - val_loss: 2.8785\n",
            "Epoch 41/100\n",
            "\u001b[1m1563/1563\u001b[0m \u001b[32m━━━━━━━━━━━━━━━━━━━━\u001b[0m\u001b[37m\u001b[0m \u001b[1m51s\u001b[0m 33ms/step - accuracy: 0.9616 - loss: 0.1190 - val_accuracy: 0.5948 - val_loss: 2.9000\n",
            "Epoch 42/100\n",
            "\u001b[1m1563/1563\u001b[0m \u001b[32m━━━━━━━━━━━━━━━━━━━━\u001b[0m\u001b[37m\u001b[0m \u001b[1m46s\u001b[0m 29ms/step - accuracy: 0.9640 - loss: 0.1099 - val_accuracy: 0.5992 - val_loss: 2.9391\n",
            "Epoch 43/100\n",
            "\u001b[1m1563/1563\u001b[0m \u001b[32m━━━━━━━━━━━━━━━━━━━━\u001b[0m\u001b[37m\u001b[0m \u001b[1m84s\u001b[0m 31ms/step - accuracy: 0.9658 - loss: 0.1023 - val_accuracy: 0.5972 - val_loss: 3.0031\n",
            "Epoch 44/100\n",
            "\u001b[1m1563/1563\u001b[0m \u001b[32m━━━━━━━━━━━━━━━━━━━━\u001b[0m\u001b[37m\u001b[0m \u001b[1m46s\u001b[0m 30ms/step - accuracy: 0.9624 - loss: 0.1078 - val_accuracy: 0.5915 - val_loss: 3.1656\n",
            "Epoch 45/100\n",
            "\u001b[1m1563/1563\u001b[0m \u001b[32m━━━━━━━━━━━━━━━━━━━━\u001b[0m\u001b[37m\u001b[0m \u001b[1m83s\u001b[0m 30ms/step - accuracy: 0.9679 - loss: 0.0987 - val_accuracy: 0.5977 - val_loss: 3.2856\n",
            "Epoch 46/100\n",
            "\u001b[1m1563/1563\u001b[0m \u001b[32m━━━━━━━━━━━━━━━━━━━━\u001b[0m\u001b[37m\u001b[0m \u001b[1m51s\u001b[0m 32ms/step - accuracy: 0.9633 - loss: 0.1085 - val_accuracy: 0.5938 - val_loss: 3.1939\n",
            "Epoch 47/100\n",
            "\u001b[1m1563/1563\u001b[0m \u001b[32m━━━━━━━━━━━━━━━━━━━━\u001b[0m\u001b[37m\u001b[0m \u001b[1m47s\u001b[0m 30ms/step - accuracy: 0.9704 - loss: 0.0884 - val_accuracy: 0.5921 - val_loss: 3.3164\n",
            "Epoch 48/100\n",
            "\u001b[1m1563/1563\u001b[0m \u001b[32m━━━━━━━━━━━━━━━━━━━━\u001b[0m\u001b[37m\u001b[0m \u001b[1m81s\u001b[0m 29ms/step - accuracy: 0.9668 - loss: 0.0968 - val_accuracy: 0.5881 - val_loss: 3.3426\n",
            "Epoch 49/100\n",
            "\u001b[1m1563/1563\u001b[0m \u001b[32m━━━━━━━━━━━━━━━━━━━━\u001b[0m\u001b[37m\u001b[0m \u001b[1m84s\u001b[0m 31ms/step - accuracy: 0.9696 - loss: 0.0876 - val_accuracy: 0.5944 - val_loss: 3.3988\n",
            "Epoch 50/100\n",
            "\u001b[1m1563/1563\u001b[0m \u001b[32m━━━━━━━━━━━━━━━━━━━━\u001b[0m\u001b[37m\u001b[0m \u001b[1m52s\u001b[0m 33ms/step - accuracy: 0.9737 - loss: 0.0804 - val_accuracy: 0.5995 - val_loss: 3.5120\n",
            "Epoch 51/100\n",
            "\u001b[1m1563/1563\u001b[0m \u001b[32m━━━━━━━━━━━━━━━━━━━━\u001b[0m\u001b[37m\u001b[0m \u001b[1m50s\u001b[0m 32ms/step - accuracy: 0.9731 - loss: 0.0832 - val_accuracy: 0.5885 - val_loss: 3.6011\n",
            "Epoch 52/100\n",
            "\u001b[1m1563/1563\u001b[0m \u001b[32m━━━━━━━━━━━━━━━━━━━━\u001b[0m\u001b[37m\u001b[0m \u001b[1m54s\u001b[0m 34ms/step - accuracy: 0.9712 - loss: 0.0831 - val_accuracy: 0.5943 - val_loss: 3.5793\n",
            "Epoch 53/100\n",
            "\u001b[1m1563/1563\u001b[0m \u001b[32m━━━━━━━━━━━━━━━━━━━━\u001b[0m\u001b[37m\u001b[0m \u001b[1m48s\u001b[0m 31ms/step - accuracy: 0.9759 - loss: 0.0742 - val_accuracy: 0.5972 - val_loss: 3.6104\n",
            "Epoch 54/100\n",
            "\u001b[1m1563/1563\u001b[0m \u001b[32m━━━━━━━━━━━━━━━━━━━━\u001b[0m\u001b[37m\u001b[0m \u001b[1m80s\u001b[0m 29ms/step - accuracy: 0.9739 - loss: 0.0788 - val_accuracy: 0.5920 - val_loss: 3.7253\n",
            "Epoch 55/100\n",
            "\u001b[1m1563/1563\u001b[0m \u001b[32m━━━━━━━━━━━━━━━━━━━━\u001b[0m\u001b[37m\u001b[0m \u001b[1m49s\u001b[0m 31ms/step - accuracy: 0.9757 - loss: 0.0748 - val_accuracy: 0.5919 - val_loss: 3.9020\n",
            "Epoch 56/100\n",
            "\u001b[1m1563/1563\u001b[0m \u001b[32m━━━━━━━━━━━━━━━━━━━━\u001b[0m\u001b[37m\u001b[0m \u001b[1m46s\u001b[0m 30ms/step - accuracy: 0.9775 - loss: 0.0712 - val_accuracy: 0.5915 - val_loss: 3.8330\n",
            "Epoch 57/100\n",
            "\u001b[1m1563/1563\u001b[0m \u001b[32m━━━━━━━━━━━━━━━━━━━━\u001b[0m\u001b[37m\u001b[0m \u001b[1m47s\u001b[0m 30ms/step - accuracy: 0.9763 - loss: 0.0721 - val_accuracy: 0.5746 - val_loss: 4.1246\n",
            "Epoch 58/100\n",
            "\u001b[1m1563/1563\u001b[0m \u001b[32m━━━━━━━━━━━━━━━━━━━━\u001b[0m\u001b[37m\u001b[0m \u001b[1m50s\u001b[0m 32ms/step - accuracy: 0.9758 - loss: 0.0734 - val_accuracy: 0.5840 - val_loss: 4.0621\n",
            "Epoch 59/100\n",
            "\u001b[1m1563/1563\u001b[0m \u001b[32m━━━━━━━━━━━━━━━━━━━━\u001b[0m\u001b[37m\u001b[0m \u001b[1m53s\u001b[0m 34ms/step - accuracy: 0.9748 - loss: 0.0764 - val_accuracy: 0.5927 - val_loss: 3.9452\n",
            "Epoch 60/100\n",
            "\u001b[1m1563/1563\u001b[0m \u001b[32m━━━━━━━━━━━━━━━━━━━━\u001b[0m\u001b[37m\u001b[0m \u001b[1m47s\u001b[0m 30ms/step - accuracy: 0.9801 - loss: 0.0578 - val_accuracy: 0.5907 - val_loss: 4.0217\n",
            "Epoch 61/100\n",
            "\u001b[1m1563/1563\u001b[0m \u001b[32m━━━━━━━━━━━━━━━━━━━━\u001b[0m\u001b[37m\u001b[0m \u001b[1m82s\u001b[0m 30ms/step - accuracy: 0.9747 - loss: 0.0744 - val_accuracy: 0.5940 - val_loss: 4.0731\n",
            "Epoch 62/100\n",
            "\u001b[1m1563/1563\u001b[0m \u001b[32m━━━━━━━━━━━━━━━━━━━━\u001b[0m\u001b[37m\u001b[0m \u001b[1m48s\u001b[0m 31ms/step - accuracy: 0.9731 - loss: 0.0813 - val_accuracy: 0.5948 - val_loss: 4.1210\n",
            "Epoch 63/100\n",
            "\u001b[1m1563/1563\u001b[0m \u001b[32m━━━━━━━━━━━━━━━━━━━━\u001b[0m\u001b[37m\u001b[0m \u001b[1m47s\u001b[0m 30ms/step - accuracy: 0.9818 - loss: 0.0557 - val_accuracy: 0.5959 - val_loss: 4.2919\n",
            "Epoch 64/100\n",
            "\u001b[1m1563/1563\u001b[0m \u001b[32m━━━━━━━━━━━━━━━━━━━━\u001b[0m\u001b[37m\u001b[0m \u001b[1m82s\u001b[0m 30ms/step - accuracy: 0.9763 - loss: 0.0705 - val_accuracy: 0.5896 - val_loss: 4.3238\n",
            "Epoch 65/100\n",
            "\u001b[1m1563/1563\u001b[0m \u001b[32m━━━━━━━━━━━━━━━━━━━━\u001b[0m\u001b[37m\u001b[0m \u001b[1m84s\u001b[0m 31ms/step - accuracy: 0.9777 - loss: 0.0664 - val_accuracy: 0.5987 - val_loss: 4.2263\n",
            "Epoch 66/100\n",
            "\u001b[1m1563/1563\u001b[0m \u001b[32m━━━━━━━━━━━━━━━━━━━━\u001b[0m\u001b[37m\u001b[0m \u001b[1m84s\u001b[0m 32ms/step - accuracy: 0.9829 - loss: 0.0520 - val_accuracy: 0.5893 - val_loss: 4.2951\n",
            "Epoch 67/100\n",
            "\u001b[1m1563/1563\u001b[0m \u001b[32m━━━━━━━━━━━━━━━━━━━━\u001b[0m\u001b[37m\u001b[0m \u001b[1m80s\u001b[0m 31ms/step - accuracy: 0.9771 - loss: 0.0664 - val_accuracy: 0.5936 - val_loss: 4.3795\n",
            "Epoch 68/100\n",
            "\u001b[1m1563/1563\u001b[0m \u001b[32m━━━━━━━━━━━━━━━━━━━━\u001b[0m\u001b[37m\u001b[0m \u001b[1m48s\u001b[0m 31ms/step - accuracy: 0.9825 - loss: 0.0570 - val_accuracy: 0.5851 - val_loss: 4.4907\n",
            "Epoch 69/100\n",
            "\u001b[1m1563/1563\u001b[0m \u001b[32m━━━━━━━━━━━━━━━━━━━━\u001b[0m\u001b[37m\u001b[0m \u001b[1m51s\u001b[0m 33ms/step - accuracy: 0.9761 - loss: 0.0709 - val_accuracy: 0.5887 - val_loss: 4.4264\n",
            "Epoch 70/100\n",
            "\u001b[1m1563/1563\u001b[0m \u001b[32m━━━━━━━━━━━━━━━━━━━━\u001b[0m\u001b[37m\u001b[0m \u001b[1m48s\u001b[0m 31ms/step - accuracy: 0.9783 - loss: 0.0661 - val_accuracy: 0.5872 - val_loss: 4.6198\n",
            "Epoch 71/100\n",
            "\u001b[1m1563/1563\u001b[0m \u001b[32m━━━━━━━━━━━━━━━━━━━━\u001b[0m\u001b[37m\u001b[0m \u001b[1m81s\u001b[0m 30ms/step - accuracy: 0.9775 - loss: 0.0707 - val_accuracy: 0.5909 - val_loss: 4.5426\n",
            "Epoch 72/100\n",
            "\u001b[1m1563/1563\u001b[0m \u001b[32m━━━━━━━━━━━━━━━━━━━━\u001b[0m\u001b[37m\u001b[0m \u001b[1m82s\u001b[0m 30ms/step - accuracy: 0.9836 - loss: 0.0526 - val_accuracy: 0.5823 - val_loss: 4.6217\n",
            "Epoch 73/100\n",
            "\u001b[1m1563/1563\u001b[0m \u001b[32m━━━━━━━━━━━━━━━━━━━━\u001b[0m\u001b[37m\u001b[0m \u001b[1m46s\u001b[0m 29ms/step - accuracy: 0.9791 - loss: 0.0608 - val_accuracy: 0.5957 - val_loss: 4.7504\n",
            "Epoch 74/100\n",
            "\u001b[1m1563/1563\u001b[0m \u001b[32m━━━━━━━━━━━━━━━━━━━━\u001b[0m\u001b[37m\u001b[0m \u001b[1m46s\u001b[0m 29ms/step - accuracy: 0.9771 - loss: 0.0693 - val_accuracy: 0.5889 - val_loss: 4.6779\n",
            "Epoch 75/100\n",
            "\u001b[1m1563/1563\u001b[0m \u001b[32m━━━━━━━━━━━━━━━━━━━━\u001b[0m\u001b[37m\u001b[0m \u001b[1m49s\u001b[0m 31ms/step - accuracy: 0.9844 - loss: 0.0476 - val_accuracy: 0.5887 - val_loss: 4.7855\n",
            "Epoch 76/100\n",
            "\u001b[1m1563/1563\u001b[0m \u001b[32m━━━━━━━━━━━━━━━━━━━━\u001b[0m\u001b[37m\u001b[0m \u001b[1m49s\u001b[0m 31ms/step - accuracy: 0.9756 - loss: 0.0729 - val_accuracy: 0.5871 - val_loss: 4.7317\n",
            "Epoch 77/100\n",
            "\u001b[1m1563/1563\u001b[0m \u001b[32m━━━━━━━━━━━━━━━━━━━━\u001b[0m\u001b[37m\u001b[0m \u001b[1m50s\u001b[0m 32ms/step - accuracy: 0.9851 - loss: 0.0463 - val_accuracy: 0.5877 - val_loss: 4.9048\n",
            "Epoch 78/100\n",
            "\u001b[1m1563/1563\u001b[0m \u001b[32m━━━━━━━━━━━━━━━━━━━━\u001b[0m\u001b[37m\u001b[0m \u001b[1m81s\u001b[0m 31ms/step - accuracy: 0.9810 - loss: 0.0557 - val_accuracy: 0.5815 - val_loss: 4.9236\n",
            "Epoch 79/100\n",
            "\u001b[1m1563/1563\u001b[0m \u001b[32m━━━━━━━━━━━━━━━━━━━━\u001b[0m\u001b[37m\u001b[0m \u001b[1m48s\u001b[0m 31ms/step - accuracy: 0.9847 - loss: 0.0498 - val_accuracy: 0.5839 - val_loss: 4.8875\n",
            "Epoch 80/100\n",
            "\u001b[1m1563/1563\u001b[0m \u001b[32m━━━━━━━━━━━━━━━━━━━━\u001b[0m\u001b[37m\u001b[0m \u001b[1m49s\u001b[0m 31ms/step - accuracy: 0.9805 - loss: 0.0586 - val_accuracy: 0.5881 - val_loss: 5.0612\n",
            "Epoch 81/100\n"
          ]
        }
      ]
    },
    {
      "cell_type": "code",
      "source": [],
      "metadata": {
        "id": "I6xa2LFF0duI"
      },
      "execution_count": null,
      "outputs": []
    }
  ]
}