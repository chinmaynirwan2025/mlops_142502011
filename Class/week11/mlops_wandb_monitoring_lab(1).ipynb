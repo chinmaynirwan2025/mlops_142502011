{
  "cells": [
    {
      "cell_type": "markdown",
      "id": "49872bcb",
      "metadata": {
        "id": "49872bcb"
      },
      "source": [
        "# Model Performance Monitoring with Weights & Biases"
      ]
    },
    {
      "cell_type": "markdown",
      "id": "c5492f30",
      "metadata": {
        "id": "c5492f30"
      },
      "source": [
        "## Prerequisites\n",
        "\n",
        "- Python 3.8+\n",
        "- Google Colab (recommended) or local Jupyter\n",
        "- W&B account and API key (Students: Settings → API Keys)\n",
        "\n",
        "### Files/Resources Provided\n",
        "- This notebook (you are reading it)\n",
        "\n",
        "---\n",
        "Run the cells below in order. Cells that require manual input are clearly indicated.\n"
      ]
    },
    {
      "cell_type": "code",
      "execution_count": 1,
      "id": "83166fe7",
      "metadata": {
        "colab": {
          "base_uri": "https://localhost:8080/"
        },
        "id": "83166fe7",
        "outputId": "fc7380f7-500d-46d8-8de1-0d6e3a2ba535"
      },
      "outputs": [
        {
          "output_type": "stream",
          "name": "stdout",
          "text": [
            "Install complete.\n"
          ]
        }
      ],
      "source": [
        "# Install required packages. In Colab this will install into the runtime.\n",
        "!pip install --quiet wandb scikit-learn pandas matplotlib\n",
        "\n",
        "print('Install complete.')"
      ]
    },
    {
      "cell_type": "code",
      "execution_count": 2,
      "id": "25d07412",
      "metadata": {
        "colab": {
          "base_uri": "https://localhost:8080/"
        },
        "id": "25d07412",
        "outputId": "5799851a-7e83-4fc0-ebbc-f200f973e57d"
      },
      "outputs": [
        {
          "output_type": "stream",
          "name": "stdout",
          "text": [
            "Python: 3.12.12 (main, Oct 10 2025, 08:52:57) [GCC 11.4.0]\n",
            "scikit-learn: 1.6.1\n",
            "pandas: 2.2.2\n",
            "wandb import ok\n"
          ]
        }
      ],
      "source": [
        "# Imports and quick version check\n",
        "import sys\n",
        "import sklearn\n",
        "import pandas as pd\n",
        "import wandb\n",
        "\n",
        "print('Python:', sys.version.splitlines()[0])\n",
        "print('scikit-learn:', sklearn.__version__)\n",
        "print('pandas:', pd.__version__)\n",
        "print('wandb import ok')"
      ]
    },
    {
      "cell_type": "markdown",
      "id": "f0039aea",
      "metadata": {
        "id": "f0039aea"
      },
      "source": [
        "## Step 1 — Login to Weights & Biases\n",
        "\n",
        "Run the cell below and follow the prompt to authenticate with your W&B API key. In Colab you will be asked to paste the key.\n",
        "\n",
        "**Instructor tip:** For a classroom, you can create a shared team project and provide the `entity` name in `wandb.init()` cells.\n"
      ]
    },
    {
      "cell_type": "code",
      "execution_count": 3,
      "id": "1f964db4",
      "metadata": {
        "colab": {
          "base_uri": "https://localhost:8080/",
          "height": 225
        },
        "id": "1f964db4",
        "outputId": "1f056c30-e481-49bf-b1c0-e138ae597979"
      },
      "outputs": [
        {
          "output_type": "stream",
          "name": "stderr",
          "text": [
            "/usr/local/lib/python3.12/dist-packages/notebook/notebookapp.py:191: SyntaxWarning: invalid escape sequence '\\/'\n",
            "  | |_| | '_ \\/ _` / _` |  _/ -_)\n"
          ]
        },
        {
          "output_type": "display_data",
          "data": {
            "text/plain": [
              "<IPython.core.display.Javascript object>"
            ],
            "application/javascript": [
              "\n",
              "        window._wandbApiKey = new Promise((resolve, reject) => {\n",
              "            function loadScript(url) {\n",
              "            return new Promise(function(resolve, reject) {\n",
              "                let newScript = document.createElement(\"script\");\n",
              "                newScript.onerror = reject;\n",
              "                newScript.onload = resolve;\n",
              "                document.body.appendChild(newScript);\n",
              "                newScript.src = url;\n",
              "            });\n",
              "            }\n",
              "            loadScript(\"https://cdn.jsdelivr.net/npm/postmate/build/postmate.min.js\").then(() => {\n",
              "            const iframe = document.createElement('iframe')\n",
              "            iframe.style.cssText = \"width:0;height:0;border:none\"\n",
              "            document.body.appendChild(iframe)\n",
              "            const handshake = new Postmate({\n",
              "                container: iframe,\n",
              "                url: 'https://wandb.ai/authorize'\n",
              "            });\n",
              "            const timeout = setTimeout(() => reject(\"Couldn't auto authenticate\"), 5000)\n",
              "            handshake.then(function(child) {\n",
              "                child.on('authorize', data => {\n",
              "                    clearTimeout(timeout)\n",
              "                    resolve(data)\n",
              "                });\n",
              "            });\n",
              "            })\n",
              "        });\n",
              "    "
            ]
          },
          "metadata": {}
        },
        {
          "output_type": "stream",
          "name": "stderr",
          "text": [
            "\u001b[34m\u001b[1mwandb\u001b[0m: Logging into wandb.ai. (Learn how to deploy a W&B server locally: https://wandb.me/wandb-server)\n",
            "\u001b[34m\u001b[1mwandb\u001b[0m: You can find your API key in your browser here: https://wandb.ai/authorize\n",
            "wandb: Paste an API key from your profile and hit enter:"
          ]
        },
        {
          "name": "stdout",
          "output_type": "stream",
          "text": [
            " ··········\n"
          ]
        },
        {
          "output_type": "stream",
          "name": "stderr",
          "text": [
            "\u001b[34m\u001b[1mwandb\u001b[0m: \u001b[33mWARNING\u001b[0m If you're specifying your api key in code, ensure this code is not shared publicly.\n",
            "\u001b[34m\u001b[1mwandb\u001b[0m: \u001b[33mWARNING\u001b[0m Consider setting the WANDB_API_KEY environment variable, or running `wandb login` from the command line.\n",
            "\u001b[34m\u001b[1mwandb\u001b[0m: No netrc file found, creating one.\n",
            "\u001b[34m\u001b[1mwandb\u001b[0m: Appending key for api.wandb.ai to your netrc file: /root/.netrc\n",
            "\u001b[34m\u001b[1mwandb\u001b[0m: Currently logged in as: \u001b[33m142502011\u001b[0m (\u001b[33m142502011-indian-institute-of-technology-palakkad\u001b[0m) to \u001b[32mhttps://api.wandb.ai\u001b[0m. Use \u001b[1m`wandb login --relogin`\u001b[0m to force relogin\n"
          ]
        },
        {
          "output_type": "stream",
          "name": "stdout",
          "text": [
            "If login succeeded, you will see your W&B username above.\n"
          ]
        }
      ],
      "source": [
        "# Login to W&B (interactive). In Colab this will prompt for your API key.\n",
        "import wandb\n",
        "wandb.login()\n",
        "print('If login succeeded, you will see your W&B username above.')"
      ]
    },
    {
      "cell_type": "markdown",
      "id": "99318fc3",
      "metadata": {
        "id": "99318fc3"
      },
      "source": [
        "## Step 2 — Load data and helper functions\n",
        "\n",
        "This notebook uses the Iris dataset for simplicity. We provide helper functions to train, evaluate, and log runs to W&B.\n"
      ]
    },
    {
      "cell_type": "code",
      "execution_count": 4,
      "id": "e2a58c0c",
      "metadata": {
        "colab": {
          "base_uri": "https://localhost:8080/"
        },
        "id": "e2a58c0c",
        "outputId": "4cb6b999-caac-48b2-c466-2d919581af90"
      },
      "outputs": [
        {
          "output_type": "stream",
          "name": "stdout",
          "text": [
            "Shapes: X_train (105, 4) X_test (45, 4)\n"
          ]
        }
      ],
      "source": [
        "from sklearn.datasets import load_iris\n",
        "from sklearn.model_selection import train_test_split\n",
        "from sklearn.ensemble import RandomForestClassifier\n",
        "from sklearn.metrics import accuracy_score, classification_report, confusion_matrix\n",
        "import numpy as np\n",
        "import pandas as pd\n",
        "\n",
        "# Load dataset\n",
        "data = load_iris()\n",
        "X = data['data']\n",
        "y = data['target']\n",
        "feature_names = data['feature_names']\n",
        "\n",
        "# Train-test split\n",
        "X_train, X_test, y_train, y_test = train_test_split(X, y, test_size=0.3, random_state=42)\n",
        "\n",
        "print('Shapes: X_train', X_train.shape, 'X_test', X_test.shape)"
      ]
    },
    {
      "cell_type": "markdown",
      "id": "7cf523ba",
      "metadata": {
        "id": "7cf523ba"
      },
      "source": [
        "## Step 3 — Training function: runs & logging\n",
        "\n",
        "The `train_and_log` function trains a RandomForestClassifier, logs metrics, confusion matrix, and the model as an artifact to W&B.\n"
      ]
    },
    {
      "cell_type": "code",
      "execution_count": 9,
      "id": "ae9a2464",
      "metadata": {
        "id": "ae9a2464"
      },
      "outputs": [],
      "source": [
        "import matplotlib.pyplot as plt\n",
        "import io\n",
        "import os\n",
        "\n",
        "def plot_confusion_matrix(cm, labels):\n",
        "    fig, ax = plt.subplots(figsize=(4,4))\n",
        "    ax.imshow(cm, interpolation='nearest')\n",
        "    ax.set_title('Confusion matrix')\n",
        "    ax.set_xticks(range(len(labels)))\n",
        "    ax.set_yticks(range(len(labels)))\n",
        "    ax.set_xticklabels(labels, rotation=45)\n",
        "    ax.set_yticklabels(labels)\n",
        "    for i in range(len(labels)):\n",
        "        for j in range(len(labels)):\n",
        "            ax.text(j, i, str(cm[i, j]), ha='center', va='center')\n",
        "    plt.tight_layout()\n",
        "    return fig\n",
        "\n",
        "def train_and_log(run_name, n_estimators=50, random_state=42, simulate_shift=False, entity=None, project='mlops-performance-monitoring'):\n",
        "    \"\"\"Train RandomForest and log to W&B.\n",
        "    If simulate_shift=True, a small shift is added to X_test to emulate data drift.\n",
        "    \"\"\"\n",
        "    run = wandb.init(project=project, name=run_name, entity=entity, reinit=True)\n",
        "    wandb.config.update({'n_estimators': n_estimators, 'random_state': random_state})\n",
        "\n",
        "    clf = RandomForestClassifier(n_estimators=n_estimators, random_state=random_state)\n",
        "    clf.fit(X_train, y_train)\n",
        "    if simulate_shift:\n",
        "        X_eval = X_test + np.random.normal(loc=0.5, scale=0.1, size=X_test.shape)\n",
        "    else:\n",
        "        X_eval = X_test\n",
        "    preds = clf.predict(X_eval)\n",
        "    acc = accuracy_score(y_test, preds)\n",
        "    cr = classification_report(y_test, preds, output_dict=True)\n",
        "    cm = confusion_matrix(y_test, preds)\n",
        "\n",
        "    # Log metrics\n",
        "    wandb.log({'accuracy': acc})\n",
        "    # Log classification report as metrics\n",
        "    for k, v in cr.items():\n",
        "        if k.isdigit():\n",
        "            wandb.log({f'class_{k}_precision': v['precision'], f'class_{k}_recall': v['recall'], f'class_{k}_f1': v['f1-score']})\n",
        "\n",
        "    # Confusion matrix image\n",
        "    fig = plot_confusion_matrix(cm, labels=data['target_names'])\n",
        "    # Save figure to a temporary file and log it\n",
        "    img_path = os.path.join(wandb.run.dir, \"confusion_matrix.png\")\n",
        "    fig.savefig(img_path)\n",
        "    wandb.log({\"confusion_matrix\": wandb.Image(img_path)})\n",
        "    plt.close(fig)\n",
        "\n",
        "\n",
        "    # Log model as artifact\n",
        "    artifact = wandb.Artifact('rf-model', type='model')\n",
        "    import joblib\n",
        "    joblib.dump(clf, 'rf_model.joblib')\n",
        "    artifact.add_file('rf_model.joblib')\n",
        "    run.log_artifact(artifact)\n",
        "\n",
        "    print(f'Run {run_name} logged. Accuracy = {acc:.4f}')\n",
        "\n",
        "    return acc, run"
      ]
    },
    {
      "cell_type": "markdown",
      "id": "92febe9a",
      "metadata": {
        "id": "92febe9a"
      },
      "source": [
        "## Step 4 — Baseline run\n",
        "\n",
        "Run a baseline training run and observe metrics in your W&B project dashboard.\n"
      ]
    },
    {
      "cell_type": "code",
      "execution_count": 10,
      "id": "d2216d29",
      "metadata": {
        "colab": {
          "base_uri": "https://localhost:8080/",
          "height": 1000
        },
        "id": "d2216d29",
        "outputId": "a4840bac-e4df-4db2-ee9c-45a6f8080bc7"
      },
      "outputs": [
        {
          "output_type": "display_data",
          "data": {
            "text/plain": [
              "<IPython.core.display.HTML object>"
            ],
            "text/html": [
              "Finishing previous runs because reinit is set to True."
            ]
          },
          "metadata": {}
        },
        {
          "output_type": "display_data",
          "data": {
            "text/plain": [
              "<IPython.core.display.HTML object>"
            ],
            "text/html": []
          },
          "metadata": {}
        },
        {
          "output_type": "display_data",
          "data": {
            "text/plain": [
              "<IPython.core.display.HTML object>"
            ],
            "text/html": [
              "<br>    <style><br>        .wandb-row {<br>            display: flex;<br>            flex-direction: row;<br>            flex-wrap: wrap;<br>            justify-content: flex-start;<br>            width: 100%;<br>        }<br>        .wandb-col {<br>            display: flex;<br>            flex-direction: column;<br>            flex-basis: 100%;<br>            flex: 1;<br>            padding: 10px;<br>        }<br>    </style><br><div class=\"wandb-row\"><div class=\"wandb-col\"><h3>Run history:</h3><br/><table class=\"wandb\"><tr><td>accuracy</td><td>▁</td></tr><tr><td>class_0_f1</td><td>▁</td></tr><tr><td>class_0_precision</td><td>▁</td></tr><tr><td>class_0_recall</td><td>▁</td></tr><tr><td>class_1_f1</td><td>▁</td></tr><tr><td>class_1_precision</td><td>▁</td></tr><tr><td>class_1_recall</td><td>▁</td></tr><tr><td>class_2_f1</td><td>▁</td></tr><tr><td>class_2_precision</td><td>▁</td></tr><tr><td>class_2_recall</td><td>▁</td></tr></table><br/></div><div class=\"wandb-col\"><h3>Run summary:</h3><br/><table class=\"wandb\"><tr><td>accuracy</td><td>0.77778</td></tr><tr><td>class_0_f1</td><td>0.97297</td></tr><tr><td>class_0_precision</td><td>1</td></tr><tr><td>class_0_recall</td><td>0.94737</td></tr><tr><td>class_1_f1</td><td>0.44444</td></tr><tr><td>class_1_precision</td><td>0.8</td></tr><tr><td>class_1_recall</td><td>0.30769</td></tr><tr><td>class_2_f1</td><td>0.74286</td></tr><tr><td>class_2_precision</td><td>0.59091</td></tr><tr><td>class_2_recall</td><td>1</td></tr></table><br/></div></div>"
            ]
          },
          "metadata": {}
        },
        {
          "output_type": "display_data",
          "data": {
            "text/plain": [
              "<IPython.core.display.HTML object>"
            ],
            "text/html": [
              " View run <strong style=\"color:#cdcd00\">drifted-run</strong> at: <a href='https://wandb.ai/142502011-indian-institute-of-technology-palakkad/mlops-performance-monitoring/runs/toplwqf6' target=\"_blank\">https://wandb.ai/142502011-indian-institute-of-technology-palakkad/mlops-performance-monitoring/runs/toplwqf6</a><br> View project at: <a href='https://wandb.ai/142502011-indian-institute-of-technology-palakkad/mlops-performance-monitoring' target=\"_blank\">https://wandb.ai/142502011-indian-institute-of-technology-palakkad/mlops-performance-monitoring</a><br>Synced 5 W&B file(s), 1 media file(s), 0 artifact file(s) and 0 other file(s)"
            ]
          },
          "metadata": {}
        },
        {
          "output_type": "display_data",
          "data": {
            "text/plain": [
              "<IPython.core.display.HTML object>"
            ],
            "text/html": [
              "Find logs at: <code>./wandb/run-20251028_044128-toplwqf6/logs</code>"
            ]
          },
          "metadata": {}
        },
        {
          "output_type": "display_data",
          "data": {
            "text/plain": [
              "<IPython.core.display.HTML object>"
            ],
            "text/html": []
          },
          "metadata": {}
        },
        {
          "output_type": "display_data",
          "data": {
            "text/plain": [
              "<IPython.core.display.HTML object>"
            ],
            "text/html": [
              "Tracking run with wandb version 0.22.2"
            ]
          },
          "metadata": {}
        },
        {
          "output_type": "display_data",
          "data": {
            "text/plain": [
              "<IPython.core.display.HTML object>"
            ],
            "text/html": [
              "Run data is saved locally in <code>/content/wandb/run-20251028_044304-q1q0pdpv</code>"
            ]
          },
          "metadata": {}
        },
        {
          "output_type": "display_data",
          "data": {
            "text/plain": [
              "<IPython.core.display.HTML object>"
            ],
            "text/html": [
              "Syncing run <strong><a href='https://wandb.ai/142502011-indian-institute-of-technology-palakkad/mlops-performance-monitoring/runs/q1q0pdpv' target=\"_blank\">baseline-run</a></strong> to <a href='https://wandb.ai/142502011-indian-institute-of-technology-palakkad/mlops-performance-monitoring' target=\"_blank\">Weights & Biases</a> (<a href='https://wandb.me/developer-guide' target=\"_blank\">docs</a>)<br>"
            ]
          },
          "metadata": {}
        },
        {
          "output_type": "display_data",
          "data": {
            "text/plain": [
              "<IPython.core.display.HTML object>"
            ],
            "text/html": [
              " View project at <a href='https://wandb.ai/142502011-indian-institute-of-technology-palakkad/mlops-performance-monitoring' target=\"_blank\">https://wandb.ai/142502011-indian-institute-of-technology-palakkad/mlops-performance-monitoring</a>"
            ]
          },
          "metadata": {}
        },
        {
          "output_type": "display_data",
          "data": {
            "text/plain": [
              "<IPython.core.display.HTML object>"
            ],
            "text/html": [
              " View run at <a href='https://wandb.ai/142502011-indian-institute-of-technology-palakkad/mlops-performance-monitoring/runs/q1q0pdpv' target=\"_blank\">https://wandb.ai/142502011-indian-institute-of-technology-palakkad/mlops-performance-monitoring/runs/q1q0pdpv</a>"
            ]
          },
          "metadata": {}
        },
        {
          "output_type": "stream",
          "name": "stdout",
          "text": [
            "Run baseline-run logged. Accuracy = 1.0000\n"
          ]
        },
        {
          "output_type": "display_data",
          "data": {
            "text/plain": [
              "<IPython.core.display.HTML object>"
            ],
            "text/html": []
          },
          "metadata": {}
        },
        {
          "output_type": "display_data",
          "data": {
            "text/plain": [
              "<IPython.core.display.HTML object>"
            ],
            "text/html": [
              "<br>    <style><br>        .wandb-row {<br>            display: flex;<br>            flex-direction: row;<br>            flex-wrap: wrap;<br>            justify-content: flex-start;<br>            width: 100%;<br>        }<br>        .wandb-col {<br>            display: flex;<br>            flex-direction: column;<br>            flex-basis: 100%;<br>            flex: 1;<br>            padding: 10px;<br>        }<br>    </style><br><div class=\"wandb-row\"><div class=\"wandb-col\"><h3>Run history:</h3><br/><table class=\"wandb\"><tr><td>accuracy</td><td>▁</td></tr><tr><td>class_0_f1</td><td>▁</td></tr><tr><td>class_0_precision</td><td>▁</td></tr><tr><td>class_0_recall</td><td>▁</td></tr><tr><td>class_1_f1</td><td>▁</td></tr><tr><td>class_1_precision</td><td>▁</td></tr><tr><td>class_1_recall</td><td>▁</td></tr><tr><td>class_2_f1</td><td>▁</td></tr><tr><td>class_2_precision</td><td>▁</td></tr><tr><td>class_2_recall</td><td>▁</td></tr></table><br/></div><div class=\"wandb-col\"><h3>Run summary:</h3><br/><table class=\"wandb\"><tr><td>accuracy</td><td>1</td></tr><tr><td>class_0_f1</td><td>1</td></tr><tr><td>class_0_precision</td><td>1</td></tr><tr><td>class_0_recall</td><td>1</td></tr><tr><td>class_1_f1</td><td>1</td></tr><tr><td>class_1_precision</td><td>1</td></tr><tr><td>class_1_recall</td><td>1</td></tr><tr><td>class_2_f1</td><td>1</td></tr><tr><td>class_2_precision</td><td>1</td></tr><tr><td>class_2_recall</td><td>1</td></tr></table><br/></div></div>"
            ]
          },
          "metadata": {}
        },
        {
          "output_type": "display_data",
          "data": {
            "text/plain": [
              "<IPython.core.display.HTML object>"
            ],
            "text/html": [
              " View run <strong style=\"color:#cdcd00\">baseline-run</strong> at: <a href='https://wandb.ai/142502011-indian-institute-of-technology-palakkad/mlops-performance-monitoring/runs/q1q0pdpv' target=\"_blank\">https://wandb.ai/142502011-indian-institute-of-technology-palakkad/mlops-performance-monitoring/runs/q1q0pdpv</a><br> View project at: <a href='https://wandb.ai/142502011-indian-institute-of-technology-palakkad/mlops-performance-monitoring' target=\"_blank\">https://wandb.ai/142502011-indian-institute-of-technology-palakkad/mlops-performance-monitoring</a><br>Synced 5 W&B file(s), 1 media file(s), 2 artifact file(s) and 0 other file(s)"
            ]
          },
          "metadata": {}
        },
        {
          "output_type": "display_data",
          "data": {
            "text/plain": [
              "<IPython.core.display.HTML object>"
            ],
            "text/html": [
              "Find logs at: <code>./wandb/run-20251028_044304-q1q0pdpv/logs</code>"
            ]
          },
          "metadata": {}
        },
        {
          "output_type": "execute_result",
          "data": {
            "text/plain": [
              "1.0"
            ]
          },
          "metadata": {},
          "execution_count": 10
        }
      ],
      "source": [
        "# Baseline run\n",
        "baseline_acc,run = train_and_log('baseline-run', n_estimators=50, random_state=42)\n",
        "run.finish()\n",
        "baseline_acc"
      ]
    },
    {
      "cell_type": "markdown",
      "id": "72324be1",
      "metadata": {
        "id": "72324be1"
      },
      "source": [
        "## Step 5 — Simulate drift and run again\n",
        "\n",
        "Now run the same model but simulate a small distribution shift in evaluation data to cause performance degradation. Compare the new run to the baseline in W&B UI.\n"
      ]
    },
    {
      "cell_type": "code",
      "execution_count": 11,
      "id": "2e8416d3",
      "metadata": {
        "colab": {
          "base_uri": "https://localhost:8080/",
          "height": 825
        },
        "id": "2e8416d3",
        "outputId": "1f461b40-f4c1-48fb-e8ea-31d9cc23bad3"
      },
      "outputs": [
        {
          "output_type": "display_data",
          "data": {
            "text/plain": [
              "<IPython.core.display.HTML object>"
            ],
            "text/html": []
          },
          "metadata": {}
        },
        {
          "output_type": "display_data",
          "data": {
            "text/plain": [
              "<IPython.core.display.HTML object>"
            ],
            "text/html": [
              "Tracking run with wandb version 0.22.2"
            ]
          },
          "metadata": {}
        },
        {
          "output_type": "display_data",
          "data": {
            "text/plain": [
              "<IPython.core.display.HTML object>"
            ],
            "text/html": [
              "Run data is saved locally in <code>/content/wandb/run-20251028_044314-12h1ia3l</code>"
            ]
          },
          "metadata": {}
        },
        {
          "output_type": "display_data",
          "data": {
            "text/plain": [
              "<IPython.core.display.HTML object>"
            ],
            "text/html": [
              "Syncing run <strong><a href='https://wandb.ai/142502011-indian-institute-of-technology-palakkad/mlops-performance-monitoring/runs/12h1ia3l' target=\"_blank\">drifted-run</a></strong> to <a href='https://wandb.ai/142502011-indian-institute-of-technology-palakkad/mlops-performance-monitoring' target=\"_blank\">Weights & Biases</a> (<a href='https://wandb.me/developer-guide' target=\"_blank\">docs</a>)<br>"
            ]
          },
          "metadata": {}
        },
        {
          "output_type": "display_data",
          "data": {
            "text/plain": [
              "<IPython.core.display.HTML object>"
            ],
            "text/html": [
              " View project at <a href='https://wandb.ai/142502011-indian-institute-of-technology-palakkad/mlops-performance-monitoring' target=\"_blank\">https://wandb.ai/142502011-indian-institute-of-technology-palakkad/mlops-performance-monitoring</a>"
            ]
          },
          "metadata": {}
        },
        {
          "output_type": "display_data",
          "data": {
            "text/plain": [
              "<IPython.core.display.HTML object>"
            ],
            "text/html": [
              " View run at <a href='https://wandb.ai/142502011-indian-institute-of-technology-palakkad/mlops-performance-monitoring/runs/12h1ia3l' target=\"_blank\">https://wandb.ai/142502011-indian-institute-of-technology-palakkad/mlops-performance-monitoring/runs/12h1ia3l</a>"
            ]
          },
          "metadata": {}
        },
        {
          "output_type": "stream",
          "name": "stdout",
          "text": [
            "Run drifted-run logged. Accuracy = 0.6222\n"
          ]
        },
        {
          "output_type": "display_data",
          "data": {
            "text/plain": [
              "<IPython.core.display.HTML object>"
            ],
            "text/html": []
          },
          "metadata": {}
        },
        {
          "output_type": "display_data",
          "data": {
            "text/plain": [
              "<IPython.core.display.HTML object>"
            ],
            "text/html": [
              "<br>    <style><br>        .wandb-row {<br>            display: flex;<br>            flex-direction: row;<br>            flex-wrap: wrap;<br>            justify-content: flex-start;<br>            width: 100%;<br>        }<br>        .wandb-col {<br>            display: flex;<br>            flex-direction: column;<br>            flex-basis: 100%;<br>            flex: 1;<br>            padding: 10px;<br>        }<br>    </style><br><div class=\"wandb-row\"><div class=\"wandb-col\"><h3>Run history:</h3><br/><table class=\"wandb\"><tr><td>accuracy</td><td>▁</td></tr><tr><td>class_0_f1</td><td>▁</td></tr><tr><td>class_0_precision</td><td>▁</td></tr><tr><td>class_0_recall</td><td>▁</td></tr><tr><td>class_1_f1</td><td>▁</td></tr><tr><td>class_1_precision</td><td>▁</td></tr><tr><td>class_1_recall</td><td>▁</td></tr><tr><td>class_2_f1</td><td>▁</td></tr><tr><td>class_2_precision</td><td>▁</td></tr><tr><td>class_2_recall</td><td>▁</td></tr></table><br/></div><div class=\"wandb-col\"><h3>Run summary:</h3><br/><table class=\"wandb\"><tr><td>accuracy</td><td>0.62222</td></tr><tr><td>class_0_f1</td><td>0.77419</td></tr><tr><td>class_0_precision</td><td>1</td></tr><tr><td>class_0_recall</td><td>0.63158</td></tr><tr><td>class_1_f1</td><td>0.26087</td></tr><tr><td>class_1_precision</td><td>0.3</td></tr><tr><td>class_1_recall</td><td>0.23077</td></tr><tr><td>class_2_f1</td><td>0.72222</td></tr><tr><td>class_2_precision</td><td>0.56522</td></tr><tr><td>class_2_recall</td><td>1</td></tr></table><br/></div></div>"
            ]
          },
          "metadata": {}
        },
        {
          "output_type": "display_data",
          "data": {
            "text/plain": [
              "<IPython.core.display.HTML object>"
            ],
            "text/html": [
              " View run <strong style=\"color:#cdcd00\">drifted-run</strong> at: <a href='https://wandb.ai/142502011-indian-institute-of-technology-palakkad/mlops-performance-monitoring/runs/12h1ia3l' target=\"_blank\">https://wandb.ai/142502011-indian-institute-of-technology-palakkad/mlops-performance-monitoring/runs/12h1ia3l</a><br> View project at: <a href='https://wandb.ai/142502011-indian-institute-of-technology-palakkad/mlops-performance-monitoring' target=\"_blank\">https://wandb.ai/142502011-indian-institute-of-technology-palakkad/mlops-performance-monitoring</a><br>Synced 5 W&B file(s), 1 media file(s), 2 artifact file(s) and 0 other file(s)"
            ]
          },
          "metadata": {}
        },
        {
          "output_type": "display_data",
          "data": {
            "text/plain": [
              "<IPython.core.display.HTML object>"
            ],
            "text/html": [
              "Find logs at: <code>./wandb/run-20251028_044314-12h1ia3l/logs</code>"
            ]
          },
          "metadata": {}
        },
        {
          "output_type": "execute_result",
          "data": {
            "text/plain": [
              "0.6222222222222222"
            ]
          },
          "metadata": {},
          "execution_count": 11
        }
      ],
      "source": [
        "# Drifted run (simulate data shift)\n",
        "drifted_acc,run = train_and_log('drifted-run', n_estimators=50, random_state=99, simulate_shift=True)\n",
        "run.finish()\n",
        "drifted_acc"
      ]
    },
    {
      "cell_type": "markdown",
      "id": "be33e283",
      "metadata": {
        "id": "be33e283"
      },
      "source": [
        "## Step 6 — Simple alerting example\n",
        "\n",
        "W&B supports programmatic alerts. The snippet below demonstrates raising an alert when accuracy drops below a threshold. Alerts show up in the W&B UI (and can be configured to send emails or Slack messages in organization settings).\n"
      ]
    },
    {
      "cell_type": "code",
      "execution_count": 12,
      "id": "c06ac62a",
      "metadata": {
        "colab": {
          "base_uri": "https://localhost:8080/",
          "height": 825
        },
        "id": "c06ac62a",
        "outputId": "ee1a60d5-f1b2-4fa6-bb7c-8d087fa2504a"
      },
      "outputs": [
        {
          "output_type": "display_data",
          "data": {
            "text/plain": [
              "<IPython.core.display.HTML object>"
            ],
            "text/html": []
          },
          "metadata": {}
        },
        {
          "output_type": "display_data",
          "data": {
            "text/plain": [
              "<IPython.core.display.HTML object>"
            ],
            "text/html": [
              "Tracking run with wandb version 0.22.2"
            ]
          },
          "metadata": {}
        },
        {
          "output_type": "display_data",
          "data": {
            "text/plain": [
              "<IPython.core.display.HTML object>"
            ],
            "text/html": [
              "Run data is saved locally in <code>/content/wandb/run-20251028_044325-m87ftlgh</code>"
            ]
          },
          "metadata": {}
        },
        {
          "output_type": "display_data",
          "data": {
            "text/plain": [
              "<IPython.core.display.HTML object>"
            ],
            "text/html": [
              "Syncing run <strong><a href='https://wandb.ai/142502011-indian-institute-of-technology-palakkad/mlops-performance-monitoring/runs/m87ftlgh' target=\"_blank\">drifted-run</a></strong> to <a href='https://wandb.ai/142502011-indian-institute-of-technology-palakkad/mlops-performance-monitoring' target=\"_blank\">Weights & Biases</a> (<a href='https://wandb.me/developer-guide' target=\"_blank\">docs</a>)<br>"
            ]
          },
          "metadata": {}
        },
        {
          "output_type": "display_data",
          "data": {
            "text/plain": [
              "<IPython.core.display.HTML object>"
            ],
            "text/html": [
              " View project at <a href='https://wandb.ai/142502011-indian-institute-of-technology-palakkad/mlops-performance-monitoring' target=\"_blank\">https://wandb.ai/142502011-indian-institute-of-technology-palakkad/mlops-performance-monitoring</a>"
            ]
          },
          "metadata": {}
        },
        {
          "output_type": "display_data",
          "data": {
            "text/plain": [
              "<IPython.core.display.HTML object>"
            ],
            "text/html": [
              " View run at <a href='https://wandb.ai/142502011-indian-institute-of-technology-palakkad/mlops-performance-monitoring/runs/m87ftlgh' target=\"_blank\">https://wandb.ai/142502011-indian-institute-of-technology-palakkad/mlops-performance-monitoring/runs/m87ftlgh</a>"
            ]
          },
          "metadata": {}
        },
        {
          "output_type": "stream",
          "name": "stdout",
          "text": [
            "Run drifted-run logged. Accuracy = 0.7333\n",
            "Alert sent (check W&B)\n"
          ]
        },
        {
          "output_type": "display_data",
          "data": {
            "text/plain": [
              "<IPython.core.display.HTML object>"
            ],
            "text/html": []
          },
          "metadata": {}
        },
        {
          "output_type": "display_data",
          "data": {
            "text/plain": [
              "<IPython.core.display.HTML object>"
            ],
            "text/html": [
              "<br>    <style><br>        .wandb-row {<br>            display: flex;<br>            flex-direction: row;<br>            flex-wrap: wrap;<br>            justify-content: flex-start;<br>            width: 100%;<br>        }<br>        .wandb-col {<br>            display: flex;<br>            flex-direction: column;<br>            flex-basis: 100%;<br>            flex: 1;<br>            padding: 10px;<br>        }<br>    </style><br><div class=\"wandb-row\"><div class=\"wandb-col\"><h3>Run history:</h3><br/><table class=\"wandb\"><tr><td>accuracy</td><td>▁</td></tr><tr><td>class_0_f1</td><td>▁</td></tr><tr><td>class_0_precision</td><td>▁</td></tr><tr><td>class_0_recall</td><td>▁</td></tr><tr><td>class_1_f1</td><td>▁</td></tr><tr><td>class_1_precision</td><td>▁</td></tr><tr><td>class_1_recall</td><td>▁</td></tr><tr><td>class_2_f1</td><td>▁</td></tr><tr><td>class_2_precision</td><td>▁</td></tr><tr><td>class_2_recall</td><td>▁</td></tr></table><br/></div><div class=\"wandb-col\"><h3>Run summary:</h3><br/><table class=\"wandb\"><tr><td>accuracy</td><td>0.73333</td></tr><tr><td>class_0_f1</td><td>0.94444</td></tr><tr><td>class_0_precision</td><td>1</td></tr><tr><td>class_0_recall</td><td>0.89474</td></tr><tr><td>class_1_f1</td><td>0.33333</td></tr><tr><td>class_1_precision</td><td>0.6</td></tr><tr><td>class_1_recall</td><td>0.23077</td></tr><tr><td>class_2_f1</td><td>0.72222</td></tr><tr><td>class_2_precision</td><td>0.56522</td></tr><tr><td>class_2_recall</td><td>1</td></tr></table><br/></div></div>"
            ]
          },
          "metadata": {}
        },
        {
          "output_type": "display_data",
          "data": {
            "text/plain": [
              "<IPython.core.display.HTML object>"
            ],
            "text/html": [
              " View run <strong style=\"color:#cdcd00\">drifted-run</strong> at: <a href='https://wandb.ai/142502011-indian-institute-of-technology-palakkad/mlops-performance-monitoring/runs/m87ftlgh' target=\"_blank\">https://wandb.ai/142502011-indian-institute-of-technology-palakkad/mlops-performance-monitoring/runs/m87ftlgh</a><br> View project at: <a href='https://wandb.ai/142502011-indian-institute-of-technology-palakkad/mlops-performance-monitoring' target=\"_blank\">https://wandb.ai/142502011-indian-institute-of-technology-palakkad/mlops-performance-monitoring</a><br>Synced 5 W&B file(s), 1 media file(s), 0 artifact file(s) and 0 other file(s)"
            ]
          },
          "metadata": {}
        },
        {
          "output_type": "display_data",
          "data": {
            "text/plain": [
              "<IPython.core.display.HTML object>"
            ],
            "text/html": [
              "Find logs at: <code>./wandb/run-20251028_044325-m87ftlgh/logs</code>"
            ]
          },
          "metadata": {}
        }
      ],
      "source": [
        "# This cell demonstrates programmatic alerting. Replace threshold as appropriate.\n",
        "drifted_acc,run = train_and_log('drifted-run', simulate_shift=True)\n",
        "threshold = 0.85\n",
        "if drifted_acc < threshold:\n",
        "    wandb.alert(title='Low accuracy detected', text=f'Accuracy {drifted_acc:.3f} below threshold {threshold}', level=wandb.AlertLevel.WARN)\n",
        "    print('Alert sent (check W&B)')\n",
        "else:\n",
        "    print('Accuracy OK')\n",
        "\n",
        "run.finish()"
      ]
    },
    {
      "cell_type": "markdown",
      "id": "f8099149",
      "metadata": {
        "id": "f8099149"
      },
      "source": [
        "\n"
      ]
    }
  ],
  "metadata": {
    "kernelspec": {
      "display_name": "Python 3",
      "name": "python3"
    },
    "language_info": {
      "codemirror_mode": {
        "name": "ipython",
        "version": 3
      },
      "file_extension": ".py",
      "mimetype": "text/x-python",
      "name": "python",
      "nbconvert_exporter": "python",
      "pygments_lexer": "ipython3",
      "version": "3.13.3"
    },
    "colab": {
      "provenance": [],
      "gpuType": "T4"
    },
    "accelerator": "GPU"
  },
  "nbformat": 4,
  "nbformat_minor": 5
}